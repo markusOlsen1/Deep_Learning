{
  "cells": [
    {
      "cell_type": "markdown",
      "metadata": {
        "id": "HAva8TnYFtFu"
      },
      "source": [
        "# Contents and why we need this lab\n",
        "\n",
        "This lab is about implementing neural networks yourself before we start using other frameworks which hide some of the computation from you. It builds on the first lab where you derived the equations for neural network forward and backward propagation and gradient descent parameter updates. \n",
        "\n",
        "All the frameworks for deep learning you will meet from now on uses automatic differentiation (autodiff) so you don't have to code the backward step yourself. In this version of this lab you will develop your own autodif implementation. We also have a [version](https://github.com/DeepLearningDTU/02456-deep-learning-with-PyTorch/blob/master/2_Feedforward_NumPy/2.1-FNN-NumPy.ipynb) of this lab where you have to code the backward pass explicitly in Numpy."
      ]
    },
    {
      "cell_type": "markdown",
      "metadata": {
        "id": "sCa7HzwpFtFy"
      },
      "source": [
        "# External sources of information\n",
        "\n",
        "1. Jupyter notebook. You can find more information about Jupyter notebooks [here](https://jupyter.org/). It will come as part of the [Anaconda](https://www.anaconda.com/) Python installation. \n",
        "2. [NumPy](https://numpy.org/). Part of Anaconda distribution. If you already know how to program most things about Python and NumPy can be found through Google search.\n",
        "3. [Nanograd](https://github.com/rasmusbergpalm/nanograd) is a minimalistic version of autodiff developed by Rasmus Berg Palm that we use for our framework.\n"
      ]
    },
    {
      "cell_type": "markdown",
      "metadata": {
        "id": "1SjiIp-TFtF0"
      },
      "source": [
        "# This notebook will follow the next steps:\n",
        "\n",
        "1. Nanograd automatic differentiation framework\n",
        "2. Finite difference method\n",
        "3. Data generation\n",
        "4. Defining and initializing the network\n",
        "5. Forward pass\n",
        "6. Training loop \n",
        "7. Testing your model\n",
        "8. Further extensions"
      ]
    },
    {
      "cell_type": "markdown",
      "metadata": {
        "id": "OyXeAA-HuT7s"
      },
      "source": [
        "# Nanograd automatic differention framework"
      ]
    },
    {
      "cell_type": "markdown",
      "metadata": {
        "id": "k6UWKCLKubgA"
      },
      "source": [
        "The [Nanograd](https://github.com/rasmusbergpalm/nanograd) framework defines a class Var which both holds a value and gradient value that we can use to store the intermediate values when we apply the chain rule of differentiation."
      ]
    },
    {
      "cell_type": "code",
      "execution_count": 232,
      "metadata": {
        "id": "Jd4CoEBNzNWS"
      },
      "outputs": [],
      "source": [
        "# Copy and pasted from https://github.com/rasmusbergpalm/nanograd/blob/main/nanograd.py\n",
        "\n",
        "from math import exp, log, tanh\n",
        "import numpy as np\n",
        "\n",
        "class Var:\n",
        "    \"\"\"\n",
        "    A variable which holds a float and enables gradient computations.\n",
        "    \"\"\"\n",
        "\n",
        "    def __init__(self, val: float, grad_fn=lambda: []):\n",
        "        assert type(val) == float\n",
        "        self.v = val\n",
        "        self.grad_fn = grad_fn\n",
        "        self.grad = 0.0\n",
        "\n",
        "    def backprop(self, bp):\n",
        "        self.grad += bp\n",
        "\n",
        "        for input, grad in self.grad_fn():\n",
        "            input.backprop(grad * bp)\n",
        "\n",
        "    def backward(self):\n",
        "        self.backprop(1.0)\n",
        "\n",
        "    def __add__(self: 'Var', other: 'Var') -> 'Var':\n",
        "        return Var(self.v + other.v, lambda: [(self, 1.0), (other, 1.0)])\n",
        "\n",
        "    def __mul__(self: 'Var', other: 'Var') -> 'Var':\n",
        "        return Var(self.v * other.v, lambda: [(self, other.v), (other, self.v)])\n",
        "\n",
        "    def __pow__(self, power):\n",
        "        assert type(power) in {float, int}, \"power must be float or int\"\n",
        "        return Var(self.v ** power, lambda: [(self, power * self.v ** (power - 1))])\n",
        "\n",
        "    def __neg__(self: 'Var') -> 'Var':\n",
        "        return Var(-1.0) * self\n",
        "\n",
        "    def __sub__(self: 'Var', other: 'Var') -> 'Var':\n",
        "        return self + (-other)\n",
        "\n",
        "    def __truediv__(self: 'Var', other: 'Var') -> 'Var':\n",
        "        return self * other ** -1\n",
        "\n",
        "    def __repr__(self):\n",
        "        return \"Var(v=%.4f, grad=%.4f)\" % (self.v, self.grad)\n",
        "\n",
        "    def relu(self):\n",
        "        return Var(self.v if self.v > 0.0 else 0.0, lambda: [(self, 1.0 if self.v > 0.0 else 0.0)])\n",
        "    def identity(self):\n",
        "        return Var(self.v, lambda: [(self, 1.0)])\n",
        "    def tanh(self):\n",
        "        return Var(tanh(self.v), lambda: [(self, 1-self.v**2)])\n",
        "    def sigmoid(self): \n",
        "        return Var(self.v/(1+exp(-self.v)), lambda: [self,(1+exp(-self.v)+self.v*exp(-self.v))/(1+exp(-self.v))**2])\n",
        "    def exp(self):\n",
        "        return Var(exp(self.v), lambda: [(self, exp(self.v))])\n",
        "\n",
        "    def log(self):\n",
        "        return Var(log(self.v), lambda: [(self, self.v ** -1)])"
      ]
    },
    {
      "cell_type": "markdown",
      "metadata": {
        "id": "yDX67D6jzcte"
      },
      "source": [
        "A few examples illustrate how we can use this:"
      ]
    },
    {
      "cell_type": "code",
      "execution_count": 233,
      "metadata": {
        "colab": {
          "base_uri": "https://localhost:8080/"
        },
        "id": "xk6PeLc3zwPT",
        "outputId": "52cefd53-e1d7-48aa-d96a-36ef437bf2d0"
      },
      "outputs": [
        {
          "output_type": "stream",
          "name": "stdout",
          "text": [
            "Var(v=3.0000, grad=5.0000)\n",
            "Var(v=5.0000, grad=3.0000)\n",
            "Var(v=15.0000, grad=1.0000)\n"
          ]
        }
      ],
      "source": [
        "a = Var(3.0)\n",
        "b = Var(5.0)\n",
        "f = a * b\n",
        "\n",
        "f.backward()\n",
        "\n",
        "for v in [a, b, f]:\n",
        "    print(v)"
      ]
    },
    {
      "cell_type": "code",
      "execution_count": 234,
      "metadata": {
        "colab": {
          "base_uri": "https://localhost:8080/"
        },
        "id": "JmKhYgsY0g_o",
        "outputId": "ad91d497-0226-4c76-e71e-b6a4e8276f05"
      },
      "outputs": [
        {
          "output_type": "stream",
          "name": "stdout",
          "text": [
            "Var(v=3.0000, grad=14.0000)\n",
            "Var(v=5.0000, grad=3.0000)\n",
            "Var(v=15.0000, grad=1.0000)\n",
            "Var(v=9.0000, grad=3.0000)\n",
            "Var(v=27.0000, grad=1.0000)\n",
            "Var(v=42.0000, grad=1.0000)\n"
          ]
        }
      ],
      "source": [
        "a = Var(3.0)\n",
        "b = Var(5.0)\n",
        "c = a * b\n",
        "\n",
        "d = Var(9.0)\n",
        "e = a * d\n",
        "\n",
        "f = c + e\n",
        "\n",
        "f.backward()\n",
        "\n",
        "for v in [a, b, c, d, e, f]:\n",
        "    print(v)"
      ]
    },
    {
      "cell_type": "markdown",
      "metadata": {
        "id": "Fe3B6uEH140p"
      },
      "source": [
        "## Exercise a) What is being calculated?\n",
        "\n",
        "Explain briefly the output of the code? What is the expression we differentiate and with respect to what variables?\n",
        "\n",
        "The gradients and values of the floats are being calculated. The $\\textbf{Var}$ that has been defined not by others, would be in the inputlayer, if a $\\textbf{Var}$ depends on other $\\textbf{Var}$ it will be in a hiddenlayer.  The fact that \"a\" has a much higher gradiant means that it has a higher correlation with the loss function gradiant than b has. Using the chain rule we can evaluate the gradient for a paremeter $a$ as it was given in the second example as such: \n",
        "\n",
        "Example for gradiant of a: \n",
        "$$ \n",
        "\\frac{∂f}{∂a}=\\frac{\\partial f}{\\partial c} \\frac{\\partial c}{\\partial a} + \\frac{\\partial f}{\\partial e} \\frac{\\partial e}{\\partial a} = 1\\cdot9+1\\cdot5 = 14\n",
        "$$\n",
        "a has a high correlation with the output beacuse there are two chains containing a. This is also why we have a + sign in the equation above. \n",
        "Example of value of e: \n",
        "\n",
        "$$\n",
        "e = a.v \\cdot d.v = 3 \\cdot 9 = 27\n",
        "$$"
      ]
    },
    {
      "cell_type": "markdown",
      "metadata": {
        "id": "q8_Q0t2I3Ruj"
      },
      "source": [
        "## Exercise b) How does the backward function work?\n",
        "\n",
        "You need to understand how the backward function calculates the gradients. We can use the two examples above to help with that.\n",
        "\n",
        "Go through the following four steps and answer the questions on the way:\n",
        "\n",
        "1. We represent the two expressions as graphs as shown below. Fill in the missing expressions for the different derivatives.\n",
        "\n",
        "2. In the remainder consider the first expression. Make a schematic of the data structure which is generated when we define the expression for f. \n",
        "\n",
        "\n",
        "#F is an instance of class Var that contains\n",
        "\n",
        "  - self.v = a.v *b.v = 15 \n",
        "  - self.grad_fn = [(a,b.v),(b,a.v)] = [(a,5) , (b,3)]\n",
        "  - self.grad = 1\n",
        "\n",
        "3. Then execute the backward function by hand to convince yourself that it indeed calculates the gradients with respect to the variables. - Done see examples of this in exercise a) \n",
        "\n",
        "4. Write down the sequence of calls to backprop.\n",
        "\n",
        "  - first expression:  f.backprop -> [i.backprop for i in f.grad_fn]\n",
        "\n"
      ]
    },
    {
      "cell_type": "code",
      "execution_count": 235,
      "metadata": {
        "id": "idGr71jYXl26"
      },
      "outputs": [],
      "source": [
        "# import logging\n",
        "import graphviz\n",
        "\n",
        "#logging.basicConfig(format='[%(levelname)s@%(name)s] %(message)s', level=logging.DEBUG)\n",
        "\n",
        "#graphviz.__version__, graphviz.version()"
      ]
    },
    {
      "cell_type": "code",
      "execution_count": 236,
      "metadata": {
        "colab": {
          "base_uri": "https://localhost:8080/",
          "height": 152
        },
        "id": "KPe30Q2QXzeG",
        "outputId": "ca0f0b34-55f8-407a-f4dc-1610c10108de"
      },
      "outputs": [
        {
          "output_type": "execute_result",
          "data": {
            "text/plain": [
              "<graphviz.dot.Digraph at 0x7f4f78effd10>"
            ],
            "image/svg+xml": "<?xml version=\"1.0\" encoding=\"UTF-8\" standalone=\"no\"?>\n<!DOCTYPE svg PUBLIC \"-//W3C//DTD SVG 1.1//EN\"\n \"http://www.w3.org/Graphics/SVG/1.1/DTD/svg11.dtd\">\n<!-- Generated by graphviz version 2.40.1 (20161225.0304)\n -->\n<!-- Title: first expression Pages: 1 -->\n<svg width=\"162pt\" height=\"98pt\"\n viewBox=\"0.00 0.00 162.00 98.00\" xmlns=\"http://www.w3.org/2000/svg\" xmlns:xlink=\"http://www.w3.org/1999/xlink\">\n<g id=\"graph0\" class=\"graph\" transform=\"scale(1 1) rotate(0) translate(4 94)\">\n<title>first expression</title>\n<polygon fill=\"#ffffff\" stroke=\"transparent\" points=\"-4,4 -4,-94 158,-94 158,4 -4,4\"/>\n<!-- a -->\n<g id=\"node1\" class=\"node\">\n<title>a</title>\n<ellipse fill=\"none\" stroke=\"#000000\" cx=\"18\" cy=\"-72\" rx=\"18\" ry=\"18\"/>\n<text text-anchor=\"middle\" x=\"18\" y=\"-68.3\" font-family=\"Times,serif\" font-size=\"14.00\" fill=\"#000000\">a</text>\n</g>\n<!-- f -->\n<g id=\"node2\" class=\"node\">\n<title>f</title>\n<ellipse fill=\"none\" stroke=\"#000000\" cx=\"136\" cy=\"-45\" rx=\"18\" ry=\"18\"/>\n<text text-anchor=\"middle\" x=\"136\" y=\"-41.3\" font-family=\"Times,serif\" font-size=\"14.00\" fill=\"#000000\">f</text>\n</g>\n<!-- a&#45;&gt;f -->\n<g id=\"edge1\" class=\"edge\">\n<title>a&#45;&gt;f</title>\n<path fill=\"none\" stroke=\"#000000\" d=\"M35.6658,-67.9578C54.8698,-63.5637 85.8151,-56.483 108.2661,-51.3459\"/>\n<polygon fill=\"#000000\" stroke=\"#000000\" points=\"109.2461,-54.7122 118.2134,-49.0698 107.6847,-47.8885 109.2461,-54.7122\"/>\n<text text-anchor=\"middle\" x=\"77\" y=\"-66.8\" font-family=\"Times,serif\" font-size=\"14.00\" fill=\"#000000\">df/da=b</text>\n</g>\n<!-- b -->\n<g id=\"node3\" class=\"node\">\n<title>b</title>\n<ellipse fill=\"none\" stroke=\"#000000\" cx=\"18\" cy=\"-18\" rx=\"18\" ry=\"18\"/>\n<text text-anchor=\"middle\" x=\"18\" y=\"-14.3\" font-family=\"Times,serif\" font-size=\"14.00\" fill=\"#000000\">b</text>\n</g>\n<!-- b&#45;&gt;f -->\n<g id=\"edge2\" class=\"edge\">\n<title>b&#45;&gt;f</title>\n<path fill=\"none\" stroke=\"#000000\" d=\"M36.0339,-20.9637C52.7278,-23.8381 78.1872,-28.555 100,-34 103.0098,-34.7513 106.1413,-35.6022 109.2457,-36.4899\"/>\n<polygon fill=\"#000000\" stroke=\"#000000\" points=\"108.3051,-39.8618 118.8887,-39.3744 110.3112,-33.1554 108.3051,-39.8618\"/>\n<text text-anchor=\"middle\" x=\"77\" y=\"-37.8\" font-family=\"Times,serif\" font-size=\"14.00\" fill=\"#000000\">df/db=a</text>\n</g>\n</g>\n</svg>\n"
          },
          "metadata": {},
          "execution_count": 236
        }
      ],
      "source": [
        "e1 = graphviz.Digraph('first expression', filename='fsm.gv')\n",
        "\n",
        "e1.attr(rankdir='LR', size='8,5')\n",
        "\n",
        "e1.attr('node', shape='circle')\n",
        "e1.edge('a', 'f', label='df/da=b')\n",
        "e1.edge('b', 'f', label='df/db=a')\n",
        "\n",
        "e1"
      ]
    },
    {
      "cell_type": "code",
      "execution_count": 237,
      "metadata": {
        "colab": {
          "base_uri": "https://localhost:8080/",
          "height": 232
        },
        "id": "0nittR-mZFeX",
        "outputId": "0b813c28-7c75-44cd-ac5a-fbe50108f71b"
      },
      "outputs": [
        {
          "output_type": "execute_result",
          "data": {
            "text/plain": [
              "<graphviz.dot.Digraph at 0x7f4f79898190>"
            ],
            "image/svg+xml": "<?xml version=\"1.0\" encoding=\"UTF-8\" standalone=\"no\"?>\n<!DOCTYPE svg PUBLIC \"-//W3C//DTD SVG 1.1//EN\"\n \"http://www.w3.org/Graphics/SVG/1.1/DTD/svg11.dtd\">\n<!-- Generated by graphviz version 2.40.1 (20161225.0304)\n -->\n<!-- Title: second expression Pages: 1 -->\n<svg width=\"281pt\" height=\"158pt\"\n viewBox=\"0.00 0.00 281.00 158.00\" xmlns=\"http://www.w3.org/2000/svg\" xmlns:xlink=\"http://www.w3.org/1999/xlink\">\n<g id=\"graph0\" class=\"graph\" transform=\"scale(1 1) rotate(0) translate(4 154)\">\n<title>second expression</title>\n<polygon fill=\"#ffffff\" stroke=\"transparent\" points=\"-4,4 -4,-154 277,-154 277,4 -4,4\"/>\n<!-- a -->\n<g id=\"node1\" class=\"node\">\n<title>a</title>\n<ellipse fill=\"none\" stroke=\"#000000\" cx=\"18\" cy=\"-75\" rx=\"18\" ry=\"18\"/>\n<text text-anchor=\"middle\" x=\"18\" y=\"-71.3\" font-family=\"Times,serif\" font-size=\"14.00\" fill=\"#000000\">a</text>\n</g>\n<!-- c -->\n<g id=\"node2\" class=\"node\">\n<title>c</title>\n<ellipse fill=\"none\" stroke=\"#000000\" cx=\"137\" cy=\"-102\" rx=\"18\" ry=\"18\"/>\n<text text-anchor=\"middle\" x=\"137\" y=\"-98.3\" font-family=\"Times,serif\" font-size=\"14.00\" fill=\"#000000\">c</text>\n</g>\n<!-- a&#45;&gt;c -->\n<g id=\"edge1\" class=\"edge\">\n<title>a&#45;&gt;c</title>\n<path fill=\"none\" stroke=\"#000000\" d=\"M35.5589,-78.9839C55.0696,-83.4108 86.8223,-90.6151 109.6075,-95.7849\"/>\n<polygon fill=\"#000000\" stroke=\"#000000\" points=\"108.8425,-99.2002 119.3691,-97.9997 110.3914,-92.3737 108.8425,-99.2002\"/>\n<text text-anchor=\"middle\" x=\"77.5\" y=\"-96.8\" font-family=\"Times,serif\" font-size=\"14.00\" fill=\"#000000\">dc/da=b</text>\n</g>\n<!-- e -->\n<g id=\"node4\" class=\"node\">\n<title>e</title>\n<ellipse fill=\"none\" stroke=\"#000000\" cx=\"137\" cy=\"-48\" rx=\"18\" ry=\"18\"/>\n<text text-anchor=\"middle\" x=\"137\" y=\"-44.3\" font-family=\"Times,serif\" font-size=\"14.00\" fill=\"#000000\">e</text>\n</g>\n<!-- a&#45;&gt;e -->\n<g id=\"edge3\" class=\"edge\">\n<title>a&#45;&gt;e</title>\n<path fill=\"none\" stroke=\"#000000\" d=\"M35.1093,-69.3663C41.0519,-67.518 47.7844,-65.5441 54,-64 72.2255,-59.4724 92.9698,-55.4733 109.1606,-52.6056\"/>\n<polygon fill=\"#000000\" stroke=\"#000000\" points=\"109.8139,-56.0446 119.0705,-50.8903 108.62,-49.1472 109.8139,-56.0446\"/>\n<text text-anchor=\"middle\" x=\"77.5\" y=\"-67.8\" font-family=\"Times,serif\" font-size=\"14.00\" fill=\"#000000\">de/da=d</text>\n</g>\n<!-- f -->\n<g id=\"node6\" class=\"node\">\n<title>f</title>\n<ellipse fill=\"none\" stroke=\"#000000\" cx=\"255\" cy=\"-75\" rx=\"18\" ry=\"18\"/>\n<text text-anchor=\"middle\" x=\"255\" y=\"-71.3\" font-family=\"Times,serif\" font-size=\"14.00\" fill=\"#000000\">f</text>\n</g>\n<!-- c&#45;&gt;f -->\n<g id=\"edge5\" class=\"edge\">\n<title>c&#45;&gt;f</title>\n<path fill=\"none\" stroke=\"#000000\" d=\"M154.6658,-97.9578C173.8698,-93.5637 204.8151,-86.483 227.2661,-81.3459\"/>\n<polygon fill=\"#000000\" stroke=\"#000000\" points=\"228.2461,-84.7122 237.2134,-79.0698 226.6847,-77.8885 228.2461,-84.7122\"/>\n<text text-anchor=\"middle\" x=\"196\" y=\"-96.8\" font-family=\"Times,serif\" font-size=\"14.00\" fill=\"#000000\">df/dc=1</text>\n</g>\n<!-- b -->\n<g id=\"node3\" class=\"node\">\n<title>b</title>\n<ellipse fill=\"none\" stroke=\"#000000\" cx=\"18\" cy=\"-132\" rx=\"18\" ry=\"18\"/>\n<text text-anchor=\"middle\" x=\"18\" y=\"-128.3\" font-family=\"Times,serif\" font-size=\"14.00\" fill=\"#000000\">b</text>\n</g>\n<!-- b&#45;&gt;c -->\n<g id=\"edge2\" class=\"edge\">\n<title>b&#45;&gt;c</title>\n<path fill=\"none\" stroke=\"#000000\" d=\"M35.5589,-127.5734C55.0696,-122.6547 86.8223,-114.6498 109.6075,-108.9057\"/>\n<polygon fill=\"#000000\" stroke=\"#000000\" points=\"110.5281,-112.2832 119.3691,-106.4448 108.8169,-105.4955 110.5281,-112.2832\"/>\n<text text-anchor=\"middle\" x=\"77.5\" y=\"-125.8\" font-family=\"Times,serif\" font-size=\"14.00\" fill=\"#000000\">dc/db=a</text>\n</g>\n<!-- e&#45;&gt;f -->\n<g id=\"edge6\" class=\"edge\">\n<title>e&#45;&gt;f</title>\n<path fill=\"none\" stroke=\"#000000\" d=\"M155.0339,-50.9637C171.7278,-53.8381 197.1872,-58.555 219,-64 222.0098,-64.7513 225.1413,-65.6022 228.2457,-66.4899\"/>\n<polygon fill=\"#000000\" stroke=\"#000000\" points=\"227.3051,-69.8618 237.8887,-69.3744 229.3112,-63.1554 227.3051,-69.8618\"/>\n<text text-anchor=\"middle\" x=\"196\" y=\"-67.8\" font-family=\"Times,serif\" font-size=\"14.00\" fill=\"#000000\">df/de=1</text>\n</g>\n<!-- d -->\n<g id=\"node5\" class=\"node\">\n<title>d</title>\n<ellipse fill=\"none\" stroke=\"#000000\" cx=\"18\" cy=\"-18\" rx=\"18\" ry=\"18\"/>\n<text text-anchor=\"middle\" x=\"18\" y=\"-14.3\" font-family=\"Times,serif\" font-size=\"14.00\" fill=\"#000000\">d</text>\n</g>\n<!-- d&#45;&gt;e -->\n<g id=\"edge4\" class=\"edge\">\n<title>d&#45;&gt;e</title>\n<path fill=\"none\" stroke=\"#000000\" d=\"M35.9889,-20.9104C52.9226,-23.8318 78.9119,-28.785 101,-35 104.0364,-35.8544 107.1845,-36.8389 110.2985,-37.8758\"/>\n<polygon fill=\"#000000\" stroke=\"#000000\" points=\"109.3565,-41.2547 119.9514,-41.2723 111.68,-34.6515 109.3565,-41.2547\"/>\n<text text-anchor=\"middle\" x=\"77.5\" y=\"-38.8\" font-family=\"Times,serif\" font-size=\"14.00\" fill=\"#000000\">de/dd=a</text>\n</g>\n</g>\n</svg>\n"
          },
          "metadata": {},
          "execution_count": 237
        }
      ],
      "source": [
        "e2 = graphviz.Digraph('second expression', filename='fsm.gv')\n",
        "\n",
        "e2.attr(rankdir='LR', size='8,5')\n",
        "\n",
        "e2.attr('node', shape='circle')\n",
        "e2.edge('a', 'c', label='dc/da=b')\n",
        "e2.edge('b', 'c', label='dc/db=a')\n",
        "e2.edge('a', 'e', label='de/da=d')\n",
        "e2.edge('d', 'e', label='de/dd=a')\n",
        "e2.edge('c', 'f', label='df/dc=1')\n",
        "e2.edge('e', 'f', label='df/de=1')\n",
        "\n",
        "e2"
      ]
    },
    {
      "cell_type": "markdown",
      "metadata": {
        "id": "A5oi21W4gpeM"
      },
      "source": [
        "## Exercise c) What happens if we run backward again?\n",
        "\n",
        "Try to execute the code below. Explain what happens.\n",
        "\n",
        "First f.backprop is called oneadding the evaluated gradiants to all Var.grad in f.grad_fn. Second time f.backprop is called all Var in f.grad_fn will have the evaluated gradians added one more time to the attribute Var.grad. "
      ]
    },
    {
      "cell_type": "code",
      "execution_count": 238,
      "metadata": {
        "colab": {
          "base_uri": "https://localhost:8080/"
        },
        "id": "DCtpJyr-gyX1",
        "outputId": "99c74c1a-bfcd-450a-eef5-30bb4fb032a0"
      },
      "outputs": [
        {
          "output_type": "stream",
          "name": "stdout",
          "text": [
            "Var(v=3.0000, grad=28.0000)\n",
            "Var(v=5.0000, grad=6.0000)\n",
            "Var(v=15.0000, grad=2.0000)\n",
            "Var(v=9.0000, grad=6.0000)\n",
            "Var(v=27.0000, grad=2.0000)\n",
            "Var(v=42.0000, grad=2.0000)\n"
          ]
        }
      ],
      "source": [
        "f.backward()\n",
        "\n",
        "for v in [a, b, c, d, e, f]:\n",
        "    print(v)\n"
      ]
    },
    {
      "cell_type": "markdown",
      "metadata": {
        "id": "e8bPVq2VhsP-"
      },
      "source": [
        "## Exercise d) Zero gradient\n",
        "\n",
        "We can zero the gradient by backpropagating a -1.0 as is shown in the example below. (If you have run backward multiple time then you also have to run the cell below an equal amount of times.) Explain what is going on.\n",
        "\n",
        "#Answer\n",
        "\n",
        "When redefining a as a instance of class Var, the attribute a.grad is by default 0.0 and if only changed if backwards og backprop functions are changed. (or if its manually defined) \n",
        "\n",
        "when calling f.backwards() it calls the function backprop(1). This means that the evaluated gradiants will be multiplied with 1 before getting added to the attribute Var.grad. If f.backprop(-1) is called the evaluated gradiants will be multiplied with -1 before getting added to the attribute Var.grad."
      ]
    },
    {
      "cell_type": "code",
      "execution_count": 239,
      "metadata": {
        "colab": {
          "base_uri": "https://localhost:8080/"
        },
        "id": "OnyPDQx9lJe0",
        "outputId": "49f9ac73-d963-4904-f11e-e1b4066cc58f"
      },
      "outputs": [
        {
          "output_type": "stream",
          "name": "stdout",
          "text": [
            "Var(v=2.0000, grad=0.0000)\n",
            "Var(v=5.0000, grad=6.0000)\n",
            "Var(v=15.0000, grad=2.0000)\n",
            "Var(v=9.0000, grad=6.0000)\n",
            "Var(v=27.0000, grad=2.0000)\n",
            "Var(v=42.0000, grad=2.0000)\n",
            "\n",
            "Var(v=2.0000, grad=0.0000)\n",
            "Var(v=5.0000, grad=3.0000)\n",
            "Var(v=15.0000, grad=1.0000)\n",
            "Var(v=9.0000, grad=3.0000)\n",
            "Var(v=27.0000, grad=1.0000)\n",
            "Var(v=42.0000, grad=1.0000)\n"
          ]
        }
      ],
      "source": [
        "a = Var(2.0)\n",
        "\n",
        "for v in [a, b, c, d, e, f]:\n",
        "    print(v)\n",
        "print()\n",
        "f.backprop(-1.0)\n",
        "\n",
        "for v in [a, b, c, d, e, f]:\n",
        "    print(v)"
      ]
    },
    {
      "cell_type": "markdown",
      "metadata": {
        "id": "U4057_ljNvWB"
      },
      "source": [
        "## Exercise e) Test correctness of derivatives with the finite difference method\n",
        "\n",
        "Write a small function that uses [the finite difference method](https://en.wikipedia.org/wiki/Finite_difference_method) to numerically test that backpropation implementation is working. In short we will use\n",
        "$$\n",
        "\\frac{\\partial f(a)}{\\partial a} \\approx \\frac{f(a+da)-f(a)}{da}\n",
        "$$\n",
        "for $da \\ll 1$.\n",
        "\n",
        "As an example, we could approximate the derivative of the function $f(a)=a^2$ in e.g. the value $a=4$ using the finite difference method. This amounts to inserting the relevant values and approximating the gradient $f'(4)$ with the fraction above. \n"
      ]
    },
    {
      "cell_type": "code",
      "execution_count": 240,
      "metadata": {
        "colab": {
          "base_uri": "https://localhost:8080/"
        },
        "id": "9TGil92lSXDN",
        "outputId": "f4b89868-0868-47b5-f5ca-cf4b6b68e3f1"
      },
      "outputs": [
        {
          "output_type": "stream",
          "name": "stdout",
          "text": [
            "Var(v=4.0000, grad=5.0000)\n",
            "Var(v=5.0000, grad=4.0000)\n",
            "Var(v=20.0000, grad=1.0000)\n",
            "finitemethod: 8.000000661922968\n",
            "actual: 8\n"
          ]
        }
      ],
      "source": [
        "# f function - try to change the code to test other types of functions as well (such as different polynomials etc.)\n",
        "def f_function(a):\n",
        "  a = Var(a)\n",
        "  b = Var(5.0)\n",
        "  f = a * b\n",
        "  f.backward()\n",
        "  return a,b,f\n",
        "\n",
        "for v in f_function(4.0):\n",
        "  print(v)\n",
        "\n",
        "def pol_eval(a):\n",
        "  return a**2\n",
        "\n",
        "\n",
        "# Insert your finite difference code here\n",
        "def finite_difference(da=1e-10):\n",
        "    \"\"\"\n",
        "    This function compute the finite difference between\n",
        "    \n",
        "    Input:\n",
        "    da:          The finite difference                           (float)\n",
        "    \n",
        "    Output:\n",
        "    finite_difference: numerical approximation to the derivative (float) \n",
        "    \"\"\"\n",
        "    \n",
        "    fa_da = pol_eval(4+da)           # <- Insert correct expression\n",
        "    fa = pol_eval(4)               # <- Insert correct expression\n",
        "\n",
        "    finite_difference = (fa_da - fa) / da\n",
        "    \n",
        "    return finite_difference\n",
        "\n",
        "print(\"finitemethod:\",finite_difference())\n",
        "print(\"actual:\" ,8)\n"
      ]
    },
    {
      "cell_type": "markdown",
      "metadata": {
        "id": "6pZar5RKaUkg"
      },
      "source": [
        "# Create an artificial dataset to play with\n",
        "\n",
        "We create a non-linear 1d regression task. The generator supports various noise levels and it creates train, validation and test sets. You can modify it yourself if you want more or less challenging tasks."
      ]
    },
    {
      "cell_type": "code",
      "execution_count": 241,
      "metadata": {
        "id": "Y6yfMAQ8aduj"
      },
      "outputs": [],
      "source": [
        "import numpy as np\n",
        "import matplotlib.pyplot as plt\n",
        "\n",
        "np.random.seed(42)"
      ]
    },
    {
      "cell_type": "code",
      "execution_count": 274,
      "metadata": {
        "id": "4YabfD43ajNh"
      },
      "outputs": [],
      "source": [
        "def data_generator(noise=0.1, n_samples=300, D1=True):\n",
        "    # Create covariates and response variable\n",
        "    if D1:\n",
        "        X = np.linspace(-3, 3, num=n_samples).reshape(-1,1) # 1-D\n",
        "        np.random.shuffle(X)\n",
        "        y = np.random.normal((0.5*np.sin(X[:,0]*3) + X[:,0]), noise) # 1-D with trend\n",
        "    else:\n",
        "        X = np.random.multivariate_normal(np.zeros(3), noise*np.eye(3), size = n_samples) # 3-D\n",
        "        np.random.shuffle(X)    \n",
        "        y = np.sin(X[:,0]) - 5*(X[:,1]**2) + 0.5*X[:,2] # 3-D\n",
        "\n",
        "    # Stack them together vertically to split data set\n",
        "    data_set = np.vstack((X.T,y)).T\n",
        "    \n",
        "    train, validation, test = np.split(data_set, [int(0.35*n_samples), int(0.7*n_samples)], axis=0)\n",
        "    \n",
        "    # Standardization of the data, remember we do the standardization with the training set mean and standard deviation\n",
        "    train_mu = np.mean(train, axis=0)\n",
        "    train_sigma = np.std(train, axis=0)\n",
        "    \n",
        "    train = (train-train_mu)/train_sigma\n",
        "    validation = (validation-train_mu)/train_sigma\n",
        "    test = (test-train_mu)/train_sigma\n",
        "    \n",
        "    x_train, x_validation, x_test = train[:,:-1], validation[:,:-1], test[:,:-1]\n",
        "    y_train, y_validation, y_test = train[:,-1], validation[:,-1], test[:,-1]\n",
        "\n",
        "    return x_train, y_train,  x_validation, y_validation, x_test, y_test"
      ]
    },
    {
      "cell_type": "code",
      "execution_count": 275,
      "metadata": {
        "id": "u1oDngHLapIz"
      },
      "outputs": [],
      "source": [
        "D1 = True\n",
        "x_train, y_train,  x_validation, y_validation, x_test, y_test = data_generator(noise=0.5, D1=D1)"
      ]
    },
    {
      "cell_type": "code",
      "execution_count": 276,
      "metadata": {
        "colab": {
          "base_uri": "https://localhost:8080/",
          "height": 265
        },
        "id": "Ysfa3FsBavlm",
        "outputId": "b3198864-0253-4d5c-e01d-9c629bf33376"
      },
      "outputs": [
        {
          "output_type": "display_data",
          "data": {
            "text/plain": [
              "<Figure size 432x288 with 1 Axes>"
            ],
            "image/png": "[encoded data removed]"
          },
          "metadata": {
            "needs_background": "light"
          }
        }
      ],
      "source": [
        "if D1:\n",
        "    plt.scatter(x_train[:,0], y_train);\n",
        "    plt.scatter(x_validation[:,0], y_validation);\n",
        "    plt.scatter(x_test[:,0], y_test);\n",
        "else:\n",
        "    plt.scatter(x_train[:,1], y_train);\n",
        "    plt.scatter(x_validation[:,1], y_validation);\n",
        "    plt.scatter(x_test[:,1], y_test);\n",
        "plt.show()"
      ]
    },
    {
      "cell_type": "code",
      "execution_count": 277,
      "metadata": {
        "id": "zac2HHNlgbpm"
      },
      "outputs": [],
      "source": [
        "# convert from nparray to Var\n",
        "def nparray_to_Var(x):\n",
        "  if x.ndim==1:\n",
        "    y = [[Var(float(x[i]))] for i in range(x.shape[0])] # always work with list of list\n",
        "  else:\n",
        "    y = [[Var(float(x[i,j])) for j in range(x.shape[1])] for i in range(x.shape[0])]\n",
        "  return y\n",
        "   \n",
        "x_train = nparray_to_Var(x_train)\n",
        "y_train = nparray_to_Var(y_train)\n",
        "x_validation = nparray_to_Var(x_validation)\n",
        "y_validation = nparray_to_Var(y_validation)\n",
        "x_test = nparray_to_Var(x_test)\n",
        "y_test = nparray_to_Var(y_test)\n"
      ]
    },
    {
      "cell_type": "markdown",
      "metadata": {
        "id": "VbjrqcpVFtGe"
      },
      "source": [
        "# Defining and initializing the network\n",
        "\n",
        "The steps to create a feed forward neural network are the following:\n",
        "\n",
        "1. **Number of hidden layer and hidden units**. We have to define the number of hidden units in each layer. The number of features in X and the output dimensionality (the size of Y) are given but the numbers in between are set by the researcher. Remember that for each unit in each layer beside in the input has a bias term.\n",
        "2. **Activation functions** for each hidden layer. Each hidden layer in your list must have an activation function (it can also be the linear activation which is equivalent to identity function). The power of neural networks comes from non-linear activation functions that learn representations (features) from the data allowing us to learn from it. \n",
        "3. **Parameter initialization**. We will initialize the weights to have random values. This is done in practice by drawing pseudo random numbers from a Gaussian or uniform distribution. It turns out that for deeper models we have to be careful about how we scale the random numbers. This will be the topic of the exercise below. For now we will just use unit variance Gaussians.  \n",
        "\n",
        "In order to make life easier for ourselves we define a DenseLayer class that takes care of initialization and the forward pass. We can also extend it later with print and advanced initialization capabilities. For the latter we have introduced a Initializer class.\n",
        "\n",
        "Note that we use Sequence in the code below. A Sequence is an ordered list. This means the order we insert and access items are the same."
      ]
    },
    {
      "cell_type": "code",
      "execution_count": 246,
      "metadata": {
        "id": "ij_ieRsAt7Xt"
      },
      "outputs": [],
      "source": [
        "class Initializer:\n",
        "\n",
        "  def init_weights(self, n_in, n_out):\n",
        "    raise NotImplementedError\n",
        "\n",
        "  def init_bias(self, n_out):\n",
        "    raise NotImplementedError"
      ]
    },
    {
      "cell_type": "code",
      "execution_count": 247,
      "metadata": {
        "id": "eb18N5phuIha"
      },
      "outputs": [],
      "source": [
        "import random\n",
        "\n",
        "class NormalInitializer(Initializer):\n",
        "\n",
        "  def __init__(self, mean=0, std=0.1):\n",
        "    self.mean = mean\n",
        "    self.std = std\n",
        "\n",
        "  def init_weights(self, n_in, n_out):\n",
        "    return [[Var(random.gauss(self.mean, self.std)) for _ in range(n_out)] for _ in range(n_in)]\n",
        "\n",
        "  def init_bias(self, n_out):\n",
        "    return [Var(0.0) for _ in range(n_out)]\n",
        "\n",
        "class ConstantInitializer(Initializer):\n",
        "\n",
        "  def __init__(self, weight=1.0, bias=0.0):\n",
        "    self.weight = weight\n",
        "    self.bias = bias\n",
        "\n",
        "  def init_weights(self, n_in, n_out):\n",
        "    return [[Var(self.weight) for _ in range(n_out)] for _ in range(n_in)]\n",
        "\n",
        "  def init_bias(self, n_out):\n",
        "    return [Var(self.bias) for _ in range(n_out)]"
      ]
    },
    {
      "cell_type": "code",
      "execution_count": 248,
      "metadata": {
        "id": "jOLYGnZKuM6W"
      },
      "outputs": [],
      "source": [
        "from typing import Sequence\n",
        "\n",
        "class DenseLayer:\n",
        "    def __init__(self, n_in: int, n_out: int, act_fn, initializer = NormalInitializer()):\n",
        "        self.weights = initializer.init_weights(n_in, n_out)\n",
        "        self.bias = initializer.init_bias(n_out)\n",
        "        self.act_fn = act_fn\n",
        "    \n",
        "    def __repr__(self):    \n",
        "        return 'Weights: ' + repr(self.weights) + ' Biases: ' + repr(self.bias)\n",
        "\n",
        "    def parameters(self) -> Sequence[Var]:\n",
        "      params = []\n",
        "      for r in self.weights:\n",
        "        params += r\n",
        "\n",
        "      return params + self.bias\n",
        "\n",
        "    def forward(self, single_input: Sequence[Var]) -> Sequence[Var]:\n",
        "        # self.weights is a matrix with dimension n_in x n_out. We check that the dimensionality of the input \n",
        "        # to the current layer matches the number of nodes in the current layer\n",
        "        assert len(self.weights) == len(single_input), \"weights and single_input must match in first dimension\"\n",
        "        weights = self.weights\n",
        "        bias = self.bias\n",
        "        out = []\n",
        "        # For some given data point single_input, we now want to calculate the resulting value in each node in the current layer\n",
        "        # We therefore loop over the (number of) nodes in the current layer:\n",
        "        for j in range(len(weights[0])): \n",
        "            # Initialize the node value depending on its corresponding parameters.\n",
        "            node =  bias[j]\n",
        "            # We now finish the linear transformation corresponding to the parameters of the currently considered node.\n",
        "            for i in range(len(single_input)):\n",
        "                node += weights[i][j]*single_input[i]\n",
        "            node = self.act_fn(node)\n",
        "            out.append(node)\n",
        "\n",
        "        return out"
      ]
    },
    {
      "cell_type": "markdown",
      "metadata": {
        "id": "jpIZPBpNI0pO"
      },
      "source": [
        "## Exercise f) Add more activation functions\n",
        "\n",
        "To have a full definition of the neural network, we must define an activation function for every layer. Several activation functions have been proposed and have different characteristics. In the Var class we have already defined the rectified linear init (relu). \n",
        " \n",
        "Implement the following activation functions in the Var class:\n",
        "\n",
        "* Identity: $$\\mathrm{identity}(x) = x$$\n",
        "* Hyperbolic tangent: $$\\tanh(x)$$\n",
        "* Sigmoid (or logistic function): $$\\mathrm{sigmoid}(x) = \\frac{1}{1.0 + \\exp(-x ) }$$  Hint: $\\mathrm{sigmoid}'(x)= \\mathrm{sigmoid}(x)(1-\\mathrm{sigmoid}(x))$.  \n",
        "\n",
        "Hint: You can seek inspiration in the relu method in the Var class."
      ]
    },
    {
      "cell_type": "markdown",
      "metadata": {
        "id": "p_8n_SKnIW2F"
      },
      "source": [
        "## Exercise g) Complete the forward pass\n",
        "\n",
        "In the code below we initialize a 1-5-1 network and pass the training set through it. *The forward method in DenseLayer is **not** complete*. It just outputs zeros right now. The method forward should perform an [affine transformation](https://en.wikipedia.org/wiki/Affine_transformation) on the input followed by an application of the activation function."
      ]
    },
    {
      "cell_type": "code",
      "execution_count": 249,
      "metadata": {
        "id": "xDEjtePxE7Mv",
        "colab": {
          "base_uri": "https://localhost:8080/"
        },
        "outputId": "3b67685e-f7d6-4bea-f339-46361ab195b0"
      },
      "outputs": [
        {
          "output_type": "stream",
          "name": "stdout",
          "text": [
            "[[Var(v=0.0072, grad=0.0000)], [Var(v=0.0145, grad=0.0000)], [Var(v=0.0013, grad=0.0000)], [Var(v=-0.0044, grad=0.0000)], [Var(v=0.0107, grad=0.0000)], [Var(v=0.0099, grad=0.0000)], [Var(v=0.0064, grad=0.0000)], [Var(v=-0.0011, grad=0.0000)], [Var(v=-0.0046, grad=0.0000)], [Var(v=0.0040, grad=0.0000)], [Var(v=0.0111, grad=0.0000)], [Var(v=-0.0028, grad=0.0000)], [Var(v=0.0089, grad=0.0000)], [Var(v=-0.0032, grad=0.0000)], [Var(v=0.0048, grad=0.0000)], [Var(v=0.0093, grad=0.0000)], [Var(v=0.0171, grad=0.0000)], [Var(v=0.0081, grad=0.0000)], [Var(v=0.0009, grad=0.0000)], [Var(v=0.0028, grad=0.0000)], [Var(v=-0.0021, grad=0.0000)], [Var(v=-0.0009, grad=0.0000)], [Var(v=0.0125, grad=0.0000)], [Var(v=0.0126, grad=0.0000)], [Var(v=-0.0012, grad=0.0000)], [Var(v=-0.0033, grad=0.0000)], [Var(v=0.0162, grad=0.0000)], [Var(v=0.0178, grad=0.0000)], [Var(v=0.0019, grad=0.0000)], [Var(v=0.0113, grad=0.0000)], [Var(v=-0.0042, grad=0.0000)], [Var(v=0.0027, grad=0.0000)], [Var(v=-0.0036, grad=0.0000)], [Var(v=-0.0039, grad=0.0000)], [Var(v=0.0086, grad=0.0000)], [Var(v=-0.0007, grad=0.0000)], [Var(v=-0.0045, grad=0.0000)], [Var(v=-0.0017, grad=0.0000)], [Var(v=-0.0032, grad=0.0000)], [Var(v=-0.0023, grad=0.0000)], [Var(v=-0.0016, grad=0.0000)], [Var(v=-0.0022, grad=0.0000)], [Var(v=0.0168, grad=0.0000)], [Var(v=-0.0027, grad=0.0000)], [Var(v=-0.0021, grad=0.0000)], [Var(v=-0.0026, grad=0.0000)], [Var(v=0.0108, grad=0.0000)], [Var(v=0.0102, grad=0.0000)], [Var(v=-0.0010, grad=0.0000)], [Var(v=0.0104, grad=0.0000)], [Var(v=0.0045, grad=0.0000)], [Var(v=0.0004, grad=0.0000)], [Var(v=0.0114, grad=0.0000)], [Var(v=-0.0022, grad=0.0000)], [Var(v=0.0181, grad=0.0000)], [Var(v=0.0159, grad=0.0000)], [Var(v=-0.0015, grad=0.0000)], [Var(v=-0.0016, grad=0.0000)], [Var(v=0.0059, grad=0.0000)], [Var(v=-0.0039, grad=0.0000)], [Var(v=0.0106, grad=0.0000)], [Var(v=-0.0028, grad=0.0000)], [Var(v=-0.0045, grad=0.0000)], [Var(v=0.0051, grad=0.0000)], [Var(v=0.0037, grad=0.0000)], [Var(v=-0.0037, grad=0.0000)], [Var(v=-0.0040, grad=0.0000)], [Var(v=0.0133, grad=0.0000)], [Var(v=-0.0029, grad=0.0000)], [Var(v=0.0052, grad=0.0000)], [Var(v=-0.0011, grad=0.0000)], [Var(v=-0.0005, grad=0.0000)], [Var(v=0.0103, grad=0.0000)], [Var(v=0.0061, grad=0.0000)], [Var(v=-0.0004, grad=0.0000)], [Var(v=0.0163, grad=0.0000)], [Var(v=-0.0020, grad=0.0000)], [Var(v=-0.0019, grad=0.0000)], [Var(v=-0.0025, grad=0.0000)], [Var(v=0.0170, grad=0.0000)], [Var(v=0.0026, grad=0.0000)], [Var(v=0.0015, grad=0.0000)], [Var(v=-0.0041, grad=0.0000)], [Var(v=-0.0006, grad=0.0000)], [Var(v=-0.0021, grad=0.0000)], [Var(v=-0.0009, grad=0.0000)], [Var(v=-0.0008, grad=0.0000)], [Var(v=-0.0023, grad=0.0000)], [Var(v=-0.0042, grad=0.0000)], [Var(v=-0.0044, grad=0.0000)], [Var(v=0.0062, grad=0.0000)], [Var(v=-0.0013, grad=0.0000)], [Var(v=-0.0024, grad=0.0000)], [Var(v=0.0096, grad=0.0000)], [Var(v=-0.0035, grad=0.0000)], [Var(v=-0.0042, grad=0.0000)], [Var(v=0.0044, grad=0.0000)], [Var(v=0.0007, grad=0.0000)], [Var(v=0.0154, grad=0.0000)], [Var(v=-0.0025, grad=0.0000)], [Var(v=0.0101, grad=0.0000)], [Var(v=-0.0024, grad=0.0000)], [Var(v=-0.0037, grad=0.0000)], [Var(v=0.0049, grad=0.0000)], [Var(v=0.0144, grad=0.0000)]]\n"
          ]
        }
      ],
      "source": [
        "NN = [\n",
        "    DenseLayer(1, 5, lambda x: x.relu()),\n",
        "    DenseLayer(5, 1, lambda x: x.identity())\n",
        "]\n",
        "\n",
        "def forward(input, network):\n",
        "\n",
        "  def forward_single(x, network):\n",
        "    for layer in network:\n",
        "        x = layer.forward(x)\n",
        "    return x\n",
        "\n",
        "  output = [ forward_single(input[n], network) for n in range(len(input))]\n",
        "  return output\n",
        "\n",
        "print(forward(x_train, NN))\n"
      ]
    },
    {
      "cell_type": "markdown",
      "metadata": {
        "id": "oLrGJytZFtGm"
      },
      "source": [
        "## Exercise h) Print all network parameters\n",
        "\n",
        "Make a function that prints all the parameters of the network (weights and biases) with information about in which layer the appear. In the object oriented spirit you should introduce a method in the DenseLayer class to print the parameters of a layer. Hint: You can take inspiration from the corresponding method in Var. "
      ]
    },
    {
      "cell_type": "code",
      "execution_count": 250,
      "metadata": {
        "id": "iac-VwYGFtGm",
        "colab": {
          "base_uri": "https://localhost:8080/"
        },
        "outputId": "7fcaebb7-35c3-46b6-e6d8-e5c0d407c583"
      },
      "outputs": [
        {
          "output_type": "stream",
          "name": "stdout",
          "text": [
            "layer 1 Weights: [[Var(v=-0.0469, grad=0.0000), Var(v=-0.0216, grad=0.0000), Var(v=-0.0082, grad=0.0000), Var(v=0.0649, grad=0.0000), Var(v=0.0579, grad=0.0000)]] Biases: [Var(v=0.0000, grad=0.0000), Var(v=0.0000, grad=0.0000), Var(v=0.0000, grad=0.0000), Var(v=0.0000, grad=0.0000), Var(v=0.0000, grad=0.0000)]\n",
            "layer 2 Weights: [[Var(v=-0.0794, grad=0.0000)], [Var(v=0.0429, grad=0.0000)], [Var(v=-0.0148, grad=0.0000)], [Var(v=0.1338, grad=0.0000)], [Var(v=0.0226, grad=0.0000)]] Biases: [Var(v=0.0000, grad=0.0000)]\n"
          ]
        }
      ],
      "source": [
        "# Insert code here and in the DenseLayer class\n",
        "def print_parameters(network):\n",
        "  for i,layer in enumerate(network):\n",
        "    print(f\"layer {i+1}\" ,layer)\n",
        "\n",
        "\n",
        "print_parameters(NN)"
      ]
    },
    {
      "cell_type": "markdown",
      "metadata": {
        "id": "_79HOAXrFtHK"
      },
      "source": [
        "## Visualization\n",
        "\n",
        "Now that we have defined our activation functions we can visualize them to see what they look like:"
      ]
    },
    {
      "cell_type": "code",
      "execution_count": 251,
      "metadata": {
        "id": "1FcylHqLTl-Z",
        "colab": {
          "base_uri": "https://localhost:8080/",
          "height": 282
        },
        "outputId": "595b65c8-b829-4836-a480-619e35398ac3"
      },
      "outputs": [
        {
          "output_type": "execute_result",
          "data": {
            "text/plain": [
              "[<matplotlib.lines.Line2D at 0x7f4f7e7f0990>]"
            ]
          },
          "metadata": {},
          "execution_count": 251
        },
        {
          "output_type": "display_data",
          "data": {
            "text/plain": [
              "<Figure size 432x288 with 1 Axes>"
            ],
            "image/png": "[encoded data removed]"
          },
          "metadata": {
            "needs_background": "light"
          }
        }
      ],
      "source": [
        "x = np.linspace(-6, 6, 100)\n",
        "\n",
        "# convert from Var to ndarray  \n",
        "def Var_to_nparray(x):\n",
        "  y = np.zeros((len(x),len(x[0])))\n",
        "  for i in range(len(x)):\n",
        "    for j in range(len(x[0])):\n",
        "      y[i,j] = x[i][j].v\n",
        "  return y\n",
        "\n",
        "# define 1-1 network with weight = 1 and relu activation \n",
        "NN = [ DenseLayer(1, 1, lambda x: x.relu(), initializer = ConstantInitializer(1.0)) ] \n",
        "y = Var_to_nparray(forward(nparray_to_Var(x), NN))\n",
        "\n",
        "#y = Var_to_nparray(relu(nparray_to_Var(x)))\n",
        "plt.plot(x,y)"
      ]
    },
    {
      "cell_type": "code",
      "execution_count": 252,
      "metadata": {
        "id": "oOL2UolJFtHL",
        "colab": {
          "base_uri": "https://localhost:8080/",
          "height": 341
        },
        "outputId": "39ddd9e7-b3ae-4470-da59-ace44beef500"
      },
      "outputs": [
        {
          "output_type": "display_data",
          "data": {
            "text/plain": [
              "<Figure size 360x360 with 1 Axes>"
            ],
            "image/png": "[encoded data removed]"
          },
          "metadata": {
            "needs_background": "light"
          }
        }
      ],
      "source": [
        "# Testing all activation layers\n",
        "\n",
        "x = np.linspace(-6, 6, 100)\n",
        "units = {\n",
        "    \"identity\": lambda x: x.identity(),\n",
        "    #\"sigmoid\": lambda x: x.sigmoid(),  <- uncomment before sharing\n",
        "    \"relu\": lambda x: x.relu(),\n",
        "    #\"tanh\": lambda x: x.tanh() <- uncomment before sharing\n",
        "}\n",
        "\n",
        "plt.figure(figsize=(5, 5))\n",
        "[plt.plot(x, Var_to_nparray(forward(nparray_to_Var(x), [DenseLayer(1, 1, unit, initializer = ConstantInitializer(1.0))]) ), label=unit_name, lw=2) for unit_name, unit in units.items()] # unit(nparray_to_Var(x))), label=unit_name, lw=2) for unit_name, unit in units.items()]\n",
        "plt.legend(loc=2, fontsize=16)\n",
        "plt.title('Our activation functions', fontsize=20)\n",
        "plt.ylim([-2, 5])\n",
        "plt.xlim([-6, 6])\n",
        "plt.show()"
      ]
    },
    {
      "cell_type": "markdown",
      "metadata": {
        "id": "b-jdEl-7FtGs"
      },
      "source": [
        "# Advanced initialization schemes\n",
        "\n",
        "If we are not careful with initialization, the signals we propagate forward ($a^{(l)}$, $l=1,\\ldots,L$) and backward ($\\delta^l$, $l=L,L-1,\\ldots,1$) can blow up or shrink to zero. A statistical analysis of the variance of the signals for different activation functions can be found in these two papers: [Glorot initialization](http://proceedings.mlr.press/v9/glorot10a/glorot10a.pdf) and [He initialization](https://arxiv.org/pdf/1502.01852v1.pdf). \n",
        "\n",
        "The result of the analyses are proposals for how to make the initialization such that the variance of the signals (forward and backward) are kept approxmimatly constant when propagating from layer to layer. The exact expressions depend upon the non-linear activation function used. In Glorot initialization, the aim is to keep both the forward and backward variances constant whereas He only aims at keeping the variance in the forward pass constant.\n",
        "\n",
        "We define $n_{in}$ and $n_{out}$ as the number of input units and output units of a particular layer. \n",
        "\n",
        "The Glorot initialization has the form: \n",
        "\n",
        "$$w_{ij} \\sim N \\bigg( 0, \\, \\frac{2 \\alpha }{n_{in} + n_{out}} \\bigg) \\ . $$\n",
        "\n",
        "where $N(\\mu,\\sigma^2)$ is a Gaussian distribution with mean $\\mu$ and variance $\\sigma^2$ and $\\alpha$ is a parameter that depends upon the activation function used. For $\\tanh$, $\\alpha=1$ and for Rectified Linear Unit (ReLU) activations, $\\alpha=2$. (It is also possible to use a uniform distribution for initialization, see [this blog post](https://mmuratarat.github.io/2019-02-25/xavier-glorot-he-weight-init).) \n",
        "\n",
        "The He initialization is very similar\n",
        "\n",
        "$$w_{ij} \\sim N \\bigg( 0, \\, \\frac{\\alpha}{n_{in}} \\bigg) \\ . $$"
      ]
    },
    {
      "cell_type": "markdown",
      "metadata": {
        "id": "mqeyab9qFtGs"
      },
      "source": [
        "## Exercise i) Glorot and He initialization\n",
        " \n",
        "Using the Initializer class, implement functions that implement Glorot and He \n",
        "\n",
        "Explain briefly how you would test numerically that these initializations have the sought after property. Hint: See plots in Glorot paper.\n",
        "\n",
        "Comment: If you want to be more advanced then try to make a universal initializer taking both the activation function and type (Glorot or He) as argument.\n",
        "\n",
        "##Answer:\n",
        "\n",
        "Testing whether the signal values for both implementated networks, will result in a stable or unstable function. The function is unstable (i.e. goes to infinity for relu and identity) or goes infinitly close to zero or one for the other activation funtions. This can be testet numerically. "
      ]
    },
    {
      "cell_type": "code",
      "execution_count": 253,
      "metadata": {
        "id": "Qyk01CgaFtGt"
      },
      "outputs": [],
      "source": [
        "## Glorot\n",
        "def DenseLayer_Glorot_tanh(n_in: int, n_out: int):\n",
        "  std = np.sqrt((2*a)/(n_in+n_out)) # <- replace with proper initialization\n",
        "  return DenseLayer(n_in, n_out, lambda x: x.tanh(), initializer = NormalInitializer(std))\n",
        "\n",
        "## He\n",
        "def DenseLayer_He_relu(n_in: int, n_out: int):\n",
        "  std = np.sqrt( a/n_in) # <- replace with proper initialization\n",
        "  return DenseLayer(n_in, n_out, lambda x: x.relu(), initializer = NormalInitializer(std))"
      ]
    },
    {
      "cell_type": "markdown",
      "metadata": {
        "id": "-XyXBD37FtHk"
      },
      "source": [
        "## Exercise j) Forward pass unit test\n",
        "\n",
        "Write a bit of code to make a unit test that the forward pass works. This can be done by defining a simple network with for example all weights equal to one (using the ConstantInitializer method) and identity activation functions. \n",
        "\n",
        "Hints: Use the [assert](https://www.w3schools.com/python/ref_keyword_assert.asp), the nparray_to_Var and the Var_to_nparray commands. \n",
        "\n",
        "#Answer\n",
        "\n",
        "The simple network is made with all weights = 1 and bias = 0 with 1 intput and a layer of 2 nodes and 1 output. This results in all outputs to be 2 times the input. Hence the assert: \n"
      ]
    },
    {
      "cell_type": "code",
      "execution_count": 254,
      "metadata": {
        "id": "k0miqRUAFtHl"
      },
      "outputs": [],
      "source": [
        "# Insert code here\n",
        "x = np.asarray([i for i in range(5)])\n",
        "x = nparray_to_Var(x)\n",
        "NN = [\n",
        "    DenseLayer(1, 2, lambda x: x.identity(),initializer= ConstantInitializer()),\n",
        "    DenseLayer(2, 1, lambda x: x.identity(),initializer= ConstantInitializer())\n",
        "]\n",
        "result = Var_to_nparray(forward(x,NN))\n",
        "\n",
        "for i,val in enumerate(result):\n",
        "    assert (val == [i*2])\n",
        "\n",
        "\n",
        "\n"
      ]
    },
    {
      "cell_type": "markdown",
      "metadata": {
        "id": "faCxhfFnFtHp"
      },
      "source": [
        "\n",
        "# Loss functions\n",
        "\n",
        "We are only missing a loss function to we need to define a loss function and its derivative with respect to the output of the neural network $y$"
      ]
    },
    {
      "cell_type": "code",
      "execution_count": 255,
      "metadata": {
        "id": "I2eDYKvAFtHq"
      },
      "outputs": [],
      "source": [
        "def squared_loss(t, y):\n",
        "  \n",
        "  # add check that sizes agree\n",
        "  assert(len(t) == len(y))\n",
        "  \n",
        "  def squared_loss_single(t, y):\n",
        "    Loss = Var(0.0)\n",
        "    for i in range(len(t)): # sum over outputs\n",
        "      Loss += (t[i]-y[i]) ** 2\n",
        "    return Loss\n",
        "\n",
        "  Loss = Var(0.0)\n",
        "  for n in range(len(t)): # sum over training data\n",
        "    Loss += squared_loss_single(t[n],y[n])\n",
        "  return Loss"
      ]
    },
    {
      "cell_type": "markdown",
      "metadata": {
        "id": "SrwSJ2UWFtHu"
      },
      "source": [
        "## Exercise j) Implement cross entropy loss\n",
        "\n",
        "Insert code below to implement cross-entropy loss for general dimensionality of $t$. Use a logits formulation:\n",
        "$$\n",
        "\\rm{Loss} = - \\sum_i t_i \\, log \\, p_i \n",
        "$$\n",
        "with $p$ given by the the softmax function in terms of the logits $h$:\n",
        "$$\n",
        "p_i = \\frac{\\exp(h_i)}{\\sum_{i'} \\exp(h_{i'})} .\n",
        "$$\n",
        "Inserting $p$ in the expression for the loss gives\n",
        "$$\n",
        "\\rm{Loss} = - \\sum_i t_i h_i + \\rm{LogSumExp}(h) \\ ,\n",
        "$$\n",
        "where \n",
        "$$\n",
        "\\rm{LogSumExp}(h) = \\log \\sum_i \\exp h_i \\ .\n",
        "$$\n",
        "This is true for $t$ being a one-hot vector. \n",
        "\n",
        "Call the function to convince yourself it works. \n",
        "\n",
        "In practice you want to implement a [numerically stable](https://leimao.github.io/blog/LogSumExp/) version of LogSumExp. But we will not bother about that here.\n",
        "\n",
        "Help: You can add these methods in the Var class:\n",
        "\n",
        "    def exp(self):\n",
        "        return Var(exp(self.v), lambda: [(self, exp(self.v))])\n",
        "    \n",
        "    def log(self):\n",
        "        return Var(log(self.v), lambda: [(self, self.v ** -1)])"
      ]
    },
    {
      "cell_type": "code",
      "execution_count": 256,
      "metadata": {
        "id": "6nMuxyfzFtHv"
      },
      "outputs": [],
      "source": [
        "def cross_entropy_loss(t, h):\n",
        "  assert ( len(t) == len(h))\n",
        "\n",
        "  def cross_entropy_loss_single(t,h):\n",
        "    Loss = Var(0.0)\n",
        "    logsum = Var(0.0)\n",
        "    # Insert code here\n",
        "    for i,t_val in enumerate(t):\n",
        "      Loss += -t_val*h[i]\n",
        "      logsum += h[i].exp()\n",
        "\n",
        "    Loss += logsum.log() \n",
        "    return Loss\n",
        "  \n",
        "  Loss = Var(0.0)\n",
        "  for n in range(len(t)): # sum over training data\n",
        "    Loss += cross_entropy_loss_single(t[n],y[n])\n",
        "  return Loss\n",
        "\n"
      ]
    },
    {
      "cell_type": "markdown",
      "metadata": {
        "id": "8fAF5ew4FtHy"
      },
      "source": [
        "# Backward pass\n",
        "\n",
        "Now the magic happens! We get the calculation of the gradients for free. Just do:"
      ]
    },
    {
      "cell_type": "code",
      "execution_count": 257,
      "metadata": {
        "id": "iHyfPPI9Qqwu"
      },
      "outputs": [],
      "source": [
        "NN = [\n",
        "    DenseLayer(1, 5, lambda x: x.relu()),\n",
        "    DenseLayer(5, 1, lambda x: x.identity())\n",
        "]\n",
        "\n",
        "output = forward(x_train, NN)\n",
        "\n",
        "Loss = squared_loss(y_train,output)\n",
        "Loss.backward()"
      ]
    },
    {
      "cell_type": "markdown",
      "metadata": {
        "id": "49biIAYKQ1oG"
      },
      "source": [
        "and the gradients will be calculated:"
      ]
    },
    {
      "cell_type": "code",
      "execution_count": 258,
      "metadata": {
        "id": "_rGt1bq_Q7uk",
        "colab": {
          "base_uri": "https://localhost:8080/"
        },
        "outputId": "d5075f86-8b79-4f31-ecca-93a05cf10738"
      },
      "outputs": [
        {
          "output_type": "stream",
          "name": "stdout",
          "text": [
            "Layer 0 \n",
            " Weights: [[Var(v=-0.1991, grad=11.0752), Var(v=-0.0493, grad=-10.2533), Var(v=-0.1873, grad=16.8724), Var(v=-0.0309, grad=-7.6482), Var(v=-0.1756, grad=-1.4835)]] Biases: [Var(v=0.0000, grad=-10.0575), Var(v=0.0000, grad=9.3112), Var(v=0.0000, grad=-15.3221), Var(v=0.0000, grad=6.9454), Var(v=0.0000, grad=1.3472)]\n",
            "Layer 1 \n",
            " Weights: [[Var(v=-0.1214, grad=18.1597)], [Var(v=0.1124, grad=4.4994)], [Var(v=-0.1850, grad=17.0860)], [Var(v=0.0838, grad=2.8211)], [Var(v=0.0163, grad=16.0152)]] Biases: [Var(v=0.0000, grad=-4.4288)]\n"
          ]
        },
        {
          "output_type": "execute_result",
          "data": {
            "text/plain": [
              "[None, None]"
            ]
          },
          "metadata": {},
          "execution_count": 258
        }
      ],
      "source": [
        "[print('Layer', i, '\\n', NN[i]) for i in range(len(NN))] "
      ]
    },
    {
      "cell_type": "markdown",
      "metadata": {
        "id": "D7d7qK0uFtH9"
      },
      "source": [
        "# Backward pass unit test\n",
        "\n",
        "Above we used finite differences to test that Nanograd is actually doing what it is supposed to do. We can in principle try the same for the neural network. But we will trust that the test above is enough."
      ]
    },
    {
      "cell_type": "markdown",
      "metadata": {
        "id": "WgBi8GOSFtIN"
      },
      "source": [
        "# Training and validation\n",
        "\n",
        "We are ready to train some neural networks!\n",
        "\n",
        "We initialize again:"
      ]
    },
    {
      "cell_type": "code",
      "execution_count": 259,
      "metadata": {
        "id": "01ePmzBzRtdh"
      },
      "outputs": [],
      "source": [
        "NN = [\n",
        "    DenseLayer(1, 15, lambda x: x.relu()),\n",
        "    DenseLayer(15, 50, lambda x: x.relu()),\n",
        "    DenseLayer(50, 1, lambda x: x.identity())\n",
        "]\n",
        "\n",
        "output = forward(x_train, NN)\n",
        "\n",
        "Loss = squared_loss(y_train,output)\n",
        "Loss.backward()"
      ]
    },
    {
      "cell_type": "markdown",
      "metadata": {
        "id": "10iRPiQ1ISHw"
      },
      "source": [
        "and make an update:\n",
        "\n",
        "We introduce a help function parameters to have a handle in all parameters in the network."
      ]
    },
    {
      "cell_type": "code",
      "execution_count": 260,
      "metadata": {
        "id": "dhAI7eyeznia",
        "colab": {
          "base_uri": "https://localhost:8080/"
        },
        "outputId": "d93b747c-aa00-4037-d3c5-e64a97373ff7"
      },
      "outputs": [
        {
          "output_type": "stream",
          "name": "stdout",
          "text": [
            "Network before update:\n",
            "Layer 0 \n",
            " Weights: [[Var(v=-0.0033, grad=1.3311), Var(v=-0.1285, grad=-0.2807), Var(v=-0.0677, grad=8.3540), Var(v=0.0110, grad=3.4471), Var(v=-0.0334, grad=7.9912), Var(v=0.0139, grad=0.3893), Var(v=-0.0107, grad=-2.4088), Var(v=-0.0329, grad=-1.5518), Var(v=-0.1887, grad=5.8693), Var(v=-0.0632, grad=-14.1517), Var(v=0.1608, grad=7.0739), Var(v=-0.1165, grad=2.0652), Var(v=-0.0936, grad=4.9511), Var(v=0.0451, grad=-11.9045), Var(v=-0.0353, grad=3.4011)]] Biases: [Var(v=0.0000, grad=-1.2095), Var(v=0.0000, grad=0.2551), Var(v=0.0000, grad=-7.5907), Var(v=0.0000, grad=2.9607), Var(v=0.0000, grad=-7.2611), Var(v=0.0000, grad=0.3344), Var(v=0.0000, grad=2.1887), Var(v=0.0000, grad=1.4101), Var(v=0.0000, grad=-5.3330), Var(v=0.0000, grad=12.8587), Var(v=0.0000, grad=6.0757), Var(v=0.0000, grad=-1.8765), Var(v=0.0000, grad=-4.4988), Var(v=0.0000, grad=-10.2247), Var(v=0.0000, grad=-3.0903)]\n",
            "Layer 1 \n",
            " Weights: [[Var(v=-0.0343, grad=-0.0176), Var(v=0.2596, grad=0.0000), Var(v=0.0329, grad=0.0209), Var(v=0.0797, grad=-0.0808), Var(v=0.1167, grad=0.0000), Var(v=0.1777, grad=0.0000), Var(v=-0.1692, grad=0.0133), Var(v=-0.0884, grad=-0.0322), Var(v=-0.0355, grad=0.0000), Var(v=-0.1078, grad=0.0160), Var(v=0.1216, grad=0.0025), Var(v=-0.1300, grad=0.0000), Var(v=0.0500, grad=0.0000), Var(v=-0.0657, grad=0.0000), Var(v=-0.1067, grad=0.0000), Var(v=0.0295, grad=0.0000), Var(v=0.0535, grad=0.0000), Var(v=-0.2480, grad=0.0254), Var(v=0.1019, grad=0.0077), Var(v=0.0111, grad=0.0000), Var(v=-0.1020, grad=0.0000), Var(v=-0.0073, grad=0.0430), Var(v=-0.0215, grad=0.0006), Var(v=-0.0346, grad=0.0000), Var(v=-0.0588, grad=0.0000), Var(v=-0.0053, grad=0.0000), Var(v=-0.0412, grad=0.0000), Var(v=-0.0345, grad=0.0000), Var(v=-0.0248, grad=0.0000), Var(v=-0.0763, grad=-0.0643), Var(v=-0.0285, grad=0.0458), Var(v=-0.1563, grad=0.0000), Var(v=0.0072, grad=0.0000), Var(v=-0.1272, grad=0.0148), Var(v=0.0047, grad=0.0000), Var(v=0.3266, grad=-0.0086), Var(v=-0.0209, grad=-0.0428), Var(v=0.1360, grad=0.0000), Var(v=-0.1031, grad=0.0000), Var(v=-0.0361, grad=0.0000), Var(v=-0.1102, grad=0.0000), Var(v=-0.0052, grad=0.0000), Var(v=-0.0487, grad=0.0092), Var(v=0.0107, grad=0.0098), Var(v=0.0507, grad=0.0000), Var(v=-0.1748, grad=0.0000), Var(v=-0.0914, grad=-0.0435), Var(v=0.0415, grad=-0.0024), Var(v=0.0620, grad=-0.0291), Var(v=-0.1867, grad=-0.0316)], [Var(v=-0.0794, grad=-0.6899), Var(v=-0.0818, grad=0.0000), Var(v=-0.0344, grad=0.8213), Var(v=-0.0019, grad=-3.1726), Var(v=-0.2672, grad=0.0000), Var(v=-0.0861, grad=0.0000), Var(v=0.0700, grad=0.5228), Var(v=0.0220, grad=-1.2653), Var(v=-0.1109, grad=0.0000), Var(v=-0.0304, grad=0.6302), Var(v=0.0442, grad=0.0995), Var(v=0.0006, grad=0.0000), Var(v=-0.0567, grad=0.0000), Var(v=-0.0825, grad=0.0000), Var(v=-0.1025, grad=0.0000), Var(v=0.0132, grad=0.0000), Var(v=-0.0494, grad=0.0000), Var(v=0.1157, grad=0.9967), Var(v=0.1472, grad=0.3026), Var(v=-0.0520, grad=0.0000), Var(v=-0.1259, grad=0.0000), Var(v=0.0507, grad=1.6909), Var(v=0.0810, grad=0.0244), Var(v=0.0061, grad=0.0000), Var(v=-0.0026, grad=0.0000), Var(v=-0.0059, grad=0.0000), Var(v=0.1792, grad=0.0000), Var(v=0.0162, grad=0.0000), Var(v=-0.0467, grad=0.0000), Var(v=0.0553, grad=-2.5256), Var(v=0.0167, grad=1.8000), Var(v=-0.1821, grad=0.0000), Var(v=-0.0426, grad=0.0000), Var(v=-0.1438, grad=0.5798), Var(v=-0.1210, grad=0.0000), Var(v=-0.0872, grad=-0.3366), Var(v=0.0379, grad=-1.6797), Var(v=0.0778, grad=0.0000), Var(v=-0.0194, grad=0.0000), Var(v=0.0102, grad=0.0000), Var(v=0.1392, grad=0.0000), Var(v=-0.0149, grad=0.0000), Var(v=-0.0288, grad=0.3614), Var(v=0.2660, grad=0.3858), Var(v=-0.0205, grad=0.0000), Var(v=0.0265, grad=0.0000), Var(v=0.0293, grad=-1.7093), Var(v=-0.1452, grad=-0.0929), Var(v=0.0025, grad=-1.1431), Var(v=0.0511, grad=-1.2425)], [Var(v=0.0332, grad=-0.3634), Var(v=-0.0234, grad=0.0000), Var(v=0.0044, grad=0.4327), Var(v=0.0055, grad=-1.6712), Var(v=-0.0649, grad=0.0000), Var(v=-0.0680, grad=0.0000), Var(v=0.0020, grad=0.2754), Var(v=0.1766, grad=-0.6665), Var(v=0.0335, grad=0.0000), Var(v=-0.0821, grad=0.3319), Var(v=-0.0111, grad=0.0524), Var(v=0.0064, grad=0.0000), Var(v=0.0032, grad=0.0000), Var(v=-0.1744, grad=0.0000), Var(v=-0.0852, grad=0.0000), Var(v=0.2706, grad=0.0000), Var(v=-0.0491, grad=0.0000), Var(v=-0.0234, grad=0.5250), Var(v=-0.0835, grad=0.1594), Var(v=-0.0663, grad=0.0000), Var(v=0.1334, grad=0.0000), Var(v=0.0081, grad=0.8907), Var(v=-0.0026, grad=0.0129), Var(v=-0.0791, grad=0.0000), Var(v=-0.0194, grad=0.0000), Var(v=0.1167, grad=0.0000), Var(v=-0.1581, grad=0.0000), Var(v=-0.1009, grad=0.0000), Var(v=-0.1836, grad=0.0000), Var(v=-0.0128, grad=-1.3304), Var(v=-0.0247, grad=0.9482), Var(v=-0.0561, grad=0.0000), Var(v=0.1121, grad=0.0000), Var(v=-0.0626, grad=0.3054), Var(v=-0.0781, grad=0.0000), Var(v=0.0012, grad=-0.1773), Var(v=0.1505, grad=-0.8848), Var(v=0.0165, grad=0.0000), Var(v=0.0951, grad=0.0000), Var(v=0.0620, grad=0.0000), Var(v=0.0442, grad=0.0000), Var(v=-0.1939, grad=0.0000), Var(v=-0.0426, grad=0.1904), Var(v=-0.0498, grad=0.2032), Var(v=-0.0578, grad=0.0000), Var(v=-0.1415, grad=0.0000), Var(v=0.0792, grad=-0.9004), Var(v=0.0229, grad=-0.0489), Var(v=0.1153, grad=-0.6021), Var(v=0.0974, grad=-0.6545)], [Var(v=0.0290, grad=0.0000), Var(v=0.1878, grad=0.1153), Var(v=-0.0621, grad=0.0000), Var(v=0.0276, grad=0.2952), Var(v=0.0340, grad=0.0465), Var(v=-0.0643, grad=0.0000), Var(v=0.0410, grad=0.0000), Var(v=-0.0660, grad=0.1177), Var(v=-0.1584, grad=0.0000), Var(v=0.1027, grad=0.0000), Var(v=0.1066, grad=-0.0093), Var(v=0.1469, grad=0.0000), Var(v=-0.1122, grad=-0.1422), Var(v=-0.0054, grad=0.0000), Var(v=0.1254, grad=0.0000), Var(v=0.0631, grad=-0.1047), Var(v=0.1673, grad=-0.0207), Var(v=0.0878, grad=-0.0927), Var(v=0.1521, grad=0.0000), Var(v=-0.0590, grad=-0.3019), Var(v=-0.0030, grad=-0.0484), Var(v=0.0427, grad=-0.1573), Var(v=-0.0029, grad=-0.0023), Var(v=0.0509, grad=-0.0713), Var(v=0.0687, grad=0.0000), Var(v=0.0423, grad=0.1507), Var(v=0.0308, grad=0.0000), Var(v=0.0751, grad=0.0549), Var(v=-0.0261, grad=0.0886), Var(v=0.1456, grad=0.2350), Var(v=-0.0371, grad=0.0000), Var(v=-0.2732, grad=0.0089), Var(v=0.0780, grad=-0.1773), Var(v=0.0803, grad=-0.0539), Var(v=0.1249, grad=0.0007), Var(v=-0.0792, grad=0.0000), Var(v=0.0557, grad=0.1563), Var(v=-0.0120, grad=0.0000), Var(v=-0.0828, grad=0.1515), Var(v=-0.0099, grad=0.0000), Var(v=-0.0559, grad=0.0168), Var(v=0.0133, grad=0.0000), Var(v=0.0104, grad=0.0000), Var(v=0.0865, grad=0.0000), Var(v=0.0370, grad=0.0806), Var(v=0.1116, grad=0.0000), Var(v=0.0766, grad=0.0000), Var(v=0.0337, grad=0.0000), Var(v=-0.1785, grad=0.0000), Var(v=-0.0878, grad=0.1156)], [Var(v=0.0823, grad=-0.1792), Var(v=-0.0541, grad=0.0000), Var(v=-0.0978, grad=0.2133), Var(v=0.0267, grad=-0.8240), Var(v=0.0059, grad=0.0000), Var(v=-0.1164, grad=0.0000), Var(v=-0.1076, grad=0.1358), Var(v=-0.1305, grad=-0.3286), Var(v=0.0157, grad=0.0000), Var(v=-0.0160, grad=0.1637), Var(v=-0.0295, grad=0.0258), Var(v=-0.0993, grad=0.0000), Var(v=-0.2383, grad=0.0000), Var(v=0.1590, grad=0.0000), Var(v=0.2111, grad=0.0000), Var(v=-0.1469, grad=0.0000), Var(v=-0.0489, grad=0.0000), Var(v=0.1185, grad=0.2589), Var(v=0.0051, grad=0.0786), Var(v=-0.0924, grad=0.0000), Var(v=-0.1577, grad=0.0000), Var(v=-0.0977, grad=0.4391), Var(v=0.1530, grad=0.0063), Var(v=0.1494, grad=0.0000), Var(v=-0.2201, grad=0.0000), Var(v=0.2262, grad=0.0000), Var(v=0.0505, grad=0.0000), Var(v=0.1703, grad=0.0000), Var(v=-0.1734, grad=0.0000), Var(v=0.1251, grad=-0.6559), Var(v=-0.0070, grad=0.4675), Var(v=-0.0267, grad=0.0000), Var(v=0.0440, grad=0.0000), Var(v=-0.0084, grad=0.1506), Var(v=0.0900, grad=0.0000), Var(v=-0.0135, grad=-0.0874), Var(v=0.2490, grad=-0.4362), Var(v=-0.0450, grad=0.0000), Var(v=0.0546, grad=0.0000), Var(v=0.0519, grad=0.0000), Var(v=-0.0788, grad=0.0000), Var(v=0.1319, grad=0.0000), Var(v=0.0170, grad=0.0939), Var(v=0.1315, grad=0.1002), Var(v=-0.0050, grad=0.0000), Var(v=0.0390, grad=0.0000), Var(v=0.1521, grad=-0.4439), Var(v=0.1202, grad=-0.0241), Var(v=-0.0596, grad=-0.2969), Var(v=-0.0274, grad=-0.3227)], [Var(v=-0.0058, grad=0.0000), Var(v=-0.0246, grad=0.1456), Var(v=-0.0979, grad=0.0000), Var(v=0.1720, grad=0.3729), Var(v=0.0508, grad=0.0587), Var(v=0.0093, grad=0.0000), Var(v=-0.0094, grad=0.0000), Var(v=0.0558, grad=0.1487), Var(v=-0.0742, grad=0.0000), Var(v=0.0111, grad=0.0000), Var(v=0.0707, grad=-0.0117), Var(v=0.0641, grad=0.0000), Var(v=0.0081, grad=-0.1797), Var(v=-0.0334, grad=0.0000), Var(v=-0.0411, grad=0.0000), Var(v=0.1537, grad=-0.1322), Var(v=0.1717, grad=-0.0262), Var(v=0.0500, grad=-0.1172), Var(v=-0.0394, grad=0.0000), Var(v=0.1220, grad=-0.3814), Var(v=-0.0248, grad=-0.0611), Var(v=0.0216, grad=-0.1987), Var(v=0.1799, grad=-0.0029), Var(v=-0.0650, grad=-0.0900), Var(v=0.0865, grad=0.0000), Var(v=-0.0022, grad=0.1904), Var(v=0.0953, grad=0.0000), Var(v=-0.0003, grad=0.0693), Var(v=0.0643, grad=0.1119), Var(v=-0.0921, grad=0.2969), Var(v=-0.1024, grad=0.0000), Var(v=-0.0937, grad=0.0113), Var(v=-0.1186, grad=-0.2240), Var(v=0.0959, grad=-0.0681), Var(v=0.0218, grad=0.0009), Var(v=-0.0063, grad=0.0000), Var(v=-0.1614, grad=0.1974), Var(v=-0.3484, grad=0.0000), Var(v=0.0716, grad=0.1913), Var(v=0.0073, grad=0.0000), Var(v=-0.0975, grad=0.0212), Var(v=-0.2139, grad=0.0000), Var(v=-0.1293, grad=0.0000), Var(v=0.0286, grad=0.0000), Var(v=0.1957, grad=0.1018), Var(v=-0.1361, grad=0.0000), Var(v=0.0635, grad=0.0000), Var(v=0.0862, grad=0.0000), Var(v=0.0302, grad=0.0000), Var(v=0.0850, grad=0.1460)], [Var(v=-0.1533, grad=-0.0572), Var(v=-0.0536, grad=0.0000), Var(v=0.0482, grad=0.0681), Var(v=-0.0567, grad=-0.2631), Var(v=-0.0403, grad=0.0000), Var(v=-0.1175, grad=0.0000), Var(v=-0.1346, grad=0.0434), Var(v=0.0942, grad=-0.1049), Var(v=0.1426, grad=0.0000), Var(v=0.0509, grad=0.0523), Var(v=-0.1052, grad=0.0083), Var(v=0.0234, grad=0.0000), Var(v=0.0223, grad=0.0000), Var(v=0.1290, grad=0.0000), Var(v=0.1047, grad=0.0000), Var(v=-0.0152, grad=0.0000), Var(v=-0.1527, grad=0.0000), Var(v=-0.1204, grad=0.0827), Var(v=-0.1294, grad=0.0251), Var(v=-0.0739, grad=0.0000), Var(v=-0.0619, grad=0.0000), Var(v=-0.0038, grad=0.1402), Var(v=0.0260, grad=0.0020), Var(v=0.0766, grad=0.0000), Var(v=0.0633, grad=0.0000), Var(v=0.0898, grad=0.0000), Var(v=0.0056, grad=0.0000), Var(v=0.1841, grad=0.0000), Var(v=0.0062, grad=0.0000), Var(v=0.0500, grad=-0.2094), Var(v=0.0088, grad=0.1493), Var(v=-0.0227, grad=0.0000), Var(v=-0.1125, grad=0.0000), Var(v=0.0438, grad=0.0481), Var(v=-0.0978, grad=0.0000), Var(v=0.0359, grad=-0.0279), Var(v=-0.1422, grad=-0.1393), Var(v=-0.0107, grad=0.0000), Var(v=0.0673, grad=0.0000), Var(v=-0.1039, grad=0.0000), Var(v=-0.0853, grad=0.0000), Var(v=0.0755, grad=0.0000), Var(v=0.1636, grad=0.0300), Var(v=0.1260, grad=0.0320), Var(v=-0.1480, grad=0.0000), Var(v=-0.0483, grad=0.0000), Var(v=-0.0464, grad=-0.1417), Var(v=-0.0536, grad=-0.0077), Var(v=-0.0252, grad=-0.0948), Var(v=0.0364, grad=-0.1030)], [Var(v=0.1489, grad=-0.1766), Var(v=0.1051, grad=0.0000), Var(v=-0.1025, grad=0.2102), Var(v=0.0521, grad=-0.8121), Var(v=-0.0034, grad=0.0000), Var(v=-0.2291, grad=0.0000), Var(v=-0.0006, grad=0.1338), Var(v=-0.0035, grad=-0.3239), Var(v=-0.0572, grad=0.0000), Var(v=-0.0710, grad=0.1613), Var(v=-0.0585, grad=0.0255), Var(v=-0.2074, grad=0.0000), Var(v=-0.0407, grad=0.0000), Var(v=-0.1832, grad=0.0000), Var(v=-0.0378, grad=0.0000), Var(v=-0.0342, grad=0.0000), Var(v=-0.0596, grad=0.0000), Var(v=0.0432, grad=0.2551), Var(v=0.0781, grad=0.0775), Var(v=-0.0195, grad=0.0000), Var(v=-0.2161, grad=0.0000), Var(v=-0.0064, grad=0.4328), Var(v=0.0596, grad=0.0062), Var(v=-0.1000, grad=0.0000), Var(v=0.1419, grad=0.0000), Var(v=0.0474, grad=0.0000), Var(v=-0.0368, grad=0.0000), Var(v=-0.0547, grad=0.0000), Var(v=-0.0211, grad=0.0000), Var(v=0.0374, grad=-0.6465), Var(v=-0.0089, grad=0.4608), Var(v=-0.0830, grad=0.0000), Var(v=0.0054, grad=0.0000), Var(v=0.0036, grad=0.1484), Var(v=-0.0677, grad=0.0000), Var(v=0.0174, grad=-0.0862), Var(v=-0.1212, grad=-0.4300), Var(v=-0.2066, grad=0.0000), Var(v=-0.1513, grad=0.0000), Var(v=0.0155, grad=0.0000), Var(v=-0.1155, grad=0.0000), Var(v=0.0592, grad=0.0000), Var(v=0.0319, grad=0.0925), Var(v=-0.0139, grad=0.0988), Var(v=-0.0470, grad=0.0000), Var(v=0.1156, grad=0.0000), Var(v=-0.1869, grad=-0.4375), Var(v=-0.0717, grad=-0.0238), Var(v=-0.1247, grad=-0.2926), Var(v=0.0191, grad=-0.3181)], [Var(v=0.0571, grad=-1.0131), Var(v=-0.0124, grad=0.0000), Var(v=0.0859, grad=1.2062), Var(v=0.0659, grad=-4.6592), Var(v=0.0741, grad=0.0000), Var(v=0.0470, grad=0.0000), Var(v=0.0246, grad=0.7677), Var(v=0.1102, grad=-1.8582), Var(v=-0.1036, grad=0.0000), Var(v=0.2137, grad=0.9254), Var(v=0.0749, grad=0.1461), Var(v=-0.0794, grad=0.0000), Var(v=-0.0337, grad=0.0000), Var(v=-0.0645, grad=0.0000), Var(v=-0.0461, grad=0.0000), Var(v=-0.0137, grad=0.0000), Var(v=-0.0253, grad=0.0000), Var(v=0.1289, grad=1.4638), Var(v=-0.0197, grad=0.4444), Var(v=-0.0317, grad=0.0000), Var(v=-0.0496, grad=0.0000), Var(v=-0.0943, grad=2.4831), Var(v=-0.0084, grad=0.0359), Var(v=0.0987, grad=0.0000), Var(v=-0.0086, grad=0.0000), Var(v=-0.1868, grad=0.0000), Var(v=-0.1444, grad=0.0000), Var(v=-0.2083, grad=0.0000), Var(v=-0.0356, grad=0.0000), Var(v=0.1229, grad=-3.7089), Var(v=0.0900, grad=2.6434), Var(v=-0.0216, grad=0.0000), Var(v=-0.0268, grad=0.0000), Var(v=0.1323, grad=0.8514), Var(v=-0.1733, grad=0.0000), Var(v=0.0759, grad=-0.4944), Var(v=0.0123, grad=-2.4668), Var(v=-0.0662, grad=0.0000), Var(v=-0.1196, grad=0.0000), Var(v=-0.0838, grad=0.0000), Var(v=-0.1491, grad=0.0000), Var(v=-0.0845, grad=0.0000), Var(v=0.1153, grad=0.5308), Var(v=0.0939, grad=0.5666), Var(v=-0.1012, grad=0.0000), Var(v=-0.0443, grad=0.0000), Var(v=0.1371, grad=-2.5101), Var(v=0.0017, grad=-0.1364), Var(v=0.1620, grad=-1.6787), Var(v=0.0764, grad=-1.8247)], [Var(v=-0.0225, grad=-0.3392), Var(v=0.1257, grad=0.0000), Var(v=0.0734, grad=0.4038), Var(v=-0.0417, grad=-1.5599), Var(v=-0.1021, grad=0.0000), Var(v=-0.0466, grad=0.0000), Var(v=0.1164, grad=0.2570), Var(v=-0.0358, grad=-0.6221), Var(v=0.0900, grad=0.0000), Var(v=0.0530, grad=0.3098), Var(v=0.1704, grad=0.0489), Var(v=-0.0953, grad=0.0000), Var(v=-0.0705, grad=0.0000), Var(v=0.0412, grad=0.0000), Var(v=0.0193, grad=0.0000), Var(v=-0.1945, grad=0.0000), Var(v=-0.0476, grad=0.0000), Var(v=0.1033, grad=0.4901), Var(v=0.1506, grad=0.1488), Var(v=-0.0862, grad=0.0000), Var(v=0.2004, grad=0.0000), Var(v=0.1000, grad=0.8314), Var(v=0.1198, grad=0.0120), Var(v=-0.1280, grad=0.0000), Var(v=-0.0394, grad=0.0000), Var(v=-0.0353, grad=0.0000), Var(v=0.0256, grad=0.0000), Var(v=0.1017, grad=0.0000), Var(v=0.0163, grad=0.0000), Var(v=-0.1221, grad=-1.2418), Var(v=0.0407, grad=0.8850), Var(v=0.0182, grad=0.0000), Var(v=-0.1387, grad=0.0000), Var(v=-0.0452, grad=0.2851), Var(v=0.0962, grad=0.0000), Var(v=-0.0290, grad=-0.1655), Var(v=-0.1538, grad=-0.8259), Var(v=-0.0200, grad=0.0000), Var(v=-0.0232, grad=0.0000), Var(v=-0.0005, grad=0.0000), Var(v=-0.1554, grad=0.0000), Var(v=0.1371, grad=0.0000), Var(v=0.0982, grad=0.1777), Var(v=0.0185, grad=0.1897), Var(v=0.0323, grad=0.0000), Var(v=-0.0431, grad=0.0000), Var(v=-0.1580, grad=-0.8404), Var(v=-0.0004, grad=-0.0457), Var(v=-0.0863, grad=-0.5620), Var(v=-0.0796, grad=-0.6109)], [Var(v=-0.1602, grad=0.0000), Var(v=0.0178, grad=1.6840), Var(v=-0.0804, grad=0.0000), Var(v=0.1046, grad=4.3132), Var(v=0.1008, grad=0.6793), Var(v=-0.0453, grad=0.0000), Var(v=-0.1003, grad=0.0000), Var(v=0.0616, grad=1.7202), Var(v=-0.1378, grad=0.0000), Var(v=-0.0973, grad=0.0000), Var(v=0.1355, grad=-0.1353), Var(v=0.0059, grad=0.0000), Var(v=0.1464, grad=-2.0783), Var(v=-0.1167, grad=0.0000), Var(v=-0.0093, grad=0.0000), Var(v=0.0217, grad=-1.5293), Var(v=0.0255, grad=-0.3026), Var(v=0.1529, grad=-1.3550), Var(v=-0.0975, grad=0.0000), Var(v=0.0796, grad=-4.4108), Var(v=0.0141, grad=-0.7068), Var(v=0.0327, grad=-2.2987), Var(v=0.1216, grad=-0.0332), Var(v=0.0232, grad=-1.0411), Var(v=-0.0544, grad=0.0000), Var(v=0.1701, grad=2.2022), Var(v=-0.0900, grad=0.0000), Var(v=0.0876, grad=0.8016), Var(v=0.1231, grad=1.2945), Var(v=0.0823, grad=3.4335), Var(v=-0.0037, grad=0.0000), Var(v=-0.0026, grad=0.1304), Var(v=0.0960, grad=-2.5910), Var(v=0.1097, grad=-0.7882), Var(v=0.0854, grad=0.0106), Var(v=-0.0215, grad=0.0000), Var(v=0.1268, grad=2.2836), Var(v=-0.0217, grad=0.0000), Var(v=0.0500, grad=2.2131), Var(v=-0.0989, grad=0.0000), Var(v=0.0884, grad=0.2453), Var(v=-0.1231, grad=0.0000), Var(v=-0.0682, grad=0.0000), Var(v=-0.0814, grad=0.0000), Var(v=0.2068, grad=1.1777), Var(v=-0.0701, grad=0.0000), Var(v=-0.0328, grad=0.0000), Var(v=-0.0358, grad=0.0000), Var(v=-0.0930, grad=0.0000), Var(v=0.1773, grad=1.6892)], [Var(v=0.1631, grad=-0.6253), Var(v=-0.0081, grad=0.0000), Var(v=0.0400, grad=0.7445), Var(v=0.0053, grad=-2.8760), Var(v=0.0544, grad=0.0000), Var(v=0.0847, grad=0.0000), Var(v=0.0480, grad=0.4739), Var(v=0.0426, grad=-1.1470), Var(v=0.1040, grad=0.0000), Var(v=0.0624, grad=0.5712), Var(v=-0.0309, grad=0.0902), Var(v=0.0324, grad=0.0000), Var(v=-0.1673, grad=0.0000), Var(v=0.1526, grad=0.0000), Var(v=0.0984, grad=0.0000), Var(v=0.1112, grad=0.0000), Var(v=-0.0370, grad=0.0000), Var(v=-0.1422, grad=0.9035), Var(v=-0.0439, grad=0.2743), Var(v=0.1197, grad=0.0000), Var(v=-0.0249, grad=0.0000), Var(v=0.0122, grad=1.5328), Var(v=0.0041, grad=0.0221), Var(v=-0.1564, grad=0.0000), Var(v=-0.2191, grad=0.0000), Var(v=-0.1411, grad=0.0000), Var(v=-0.0745, grad=0.0000), Var(v=-0.0121, grad=0.0000), Var(v=0.1296, grad=0.0000), Var(v=-0.1744, grad=-2.2894), Var(v=-0.1015, grad=1.6317), Var(v=0.1353, grad=0.0000), Var(v=-0.3063, grad=0.0000), Var(v=0.0662, grad=0.5255), Var(v=-0.0532, grad=0.0000), Var(v=0.1485, grad=-0.3052), Var(v=0.0920, grad=-1.5227), Var(v=-0.2133, grad=0.0000), Var(v=0.0514, grad=0.0000), Var(v=-0.0289, grad=0.0000), Var(v=-0.2248, grad=0.0000), Var(v=0.0461, grad=0.0000), Var(v=-0.0269, grad=0.3276), Var(v=0.0560, grad=0.3497), Var(v=-0.0450, grad=0.0000), Var(v=-0.0624, grad=0.0000), Var(v=0.0694, grad=-1.5494), Var(v=0.0415, grad=-0.0842), Var(v=0.0288, grad=-1.0362), Var(v=-0.0082, grad=-1.1263)], [Var(v=0.0534, grad=-0.5022), Var(v=0.0917, grad=0.0000), Var(v=0.0536, grad=0.5980), Var(v=0.1159, grad=-2.3098), Var(v=-0.0154, grad=0.0000), Var(v=-0.1351, grad=0.0000), Var(v=0.1547, grad=0.3806), Var(v=0.1562, grad=-0.9212), Var(v=-0.1658, grad=0.0000), Var(v=-0.2151, grad=0.4588), Var(v=-0.0147, grad=0.0725), Var(v=-0.1135, grad=0.0000), Var(v=-0.1935, grad=0.0000), Var(v=0.0483, grad=0.0000), Var(v=-0.0971, grad=0.0000), Var(v=-0.1751, grad=0.0000), Var(v=-0.0424, grad=0.0000), Var(v=-0.0355, grad=0.7257), Var(v=0.2113, grad=0.2203), Var(v=-0.1110, grad=0.0000), Var(v=0.0075, grad=0.0000), Var(v=0.0835, grad=1.2310), Var(v=0.1353, grad=0.0178), Var(v=-0.0624, grad=0.0000), Var(v=0.1825, grad=0.0000), Var(v=-0.0304, grad=0.0000), Var(v=0.0346, grad=0.0000), Var(v=-0.1420, grad=0.0000), Var(v=-0.0140, grad=0.0000), Var(v=-0.0060, grad=-1.8387), Var(v=-0.0028, grad=1.3105), Var(v=-0.1047, grad=0.0000), Var(v=0.0906, grad=0.0000), Var(v=0.0405, grad=0.4221), Var(v=-0.0606, grad=0.0000), Var(v=-0.0755, grad=-0.2451), Var(v=0.0897, grad=-1.2229), Var(v=-0.0258, grad=0.0000), Var(v=-0.0365, grad=0.0000), Var(v=0.0450, grad=0.0000), Var(v=-0.2374, grad=0.0000), Var(v=0.0131, grad=0.0000), Var(v=-0.0241, grad=0.2631), Var(v=-0.1442, grad=0.2809), Var(v=-0.1482, grad=0.0000), Var(v=0.0182, grad=0.0000), Var(v=-0.1244, grad=-1.2444), Var(v=0.1010, grad=-0.0676), Var(v=0.0848, grad=-0.8322), Var(v=0.1170, grad=-0.9046)], [Var(v=-0.1426, grad=0.0000), Var(v=-0.0885, grad=0.4727), Var(v=0.1264, grad=0.0000), Var(v=-0.0148, grad=1.2107), Var(v=0.1416, grad=0.1907), Var(v=0.0151, grad=0.0000), Var(v=0.0394, grad=0.0000), Var(v=0.0948, grad=0.4828), Var(v=0.0323, grad=0.0000), Var(v=0.1841, grad=0.0000), Var(v=0.2543, grad=-0.0380), Var(v=-0.2196, grad=0.0000), Var(v=0.1008, grad=-0.5834), Var(v=-0.2187, grad=0.0000), Var(v=-0.0582, grad=0.0000), Var(v=0.2129, grad=-0.4293), Var(v=0.0272, grad=-0.0849), Var(v=-0.1375, grad=-0.3804), Var(v=0.0508, grad=0.0000), Var(v=0.0620, grad=-1.2381), Var(v=0.1014, grad=-0.1984), Var(v=0.0875, grad=-0.6452), Var(v=0.1117, grad=-0.0093), Var(v=-0.0381, grad=-0.2922), Var(v=0.0066, grad=0.0000), Var(v=0.0828, grad=0.6181), Var(v=-0.1084, grad=0.0000), Var(v=-0.1287, grad=0.2250), Var(v=-0.1950, grad=0.3634), Var(v=-0.2756, grad=0.9638), Var(v=-0.0485, grad=0.0000), Var(v=0.2992, grad=0.0366), Var(v=0.0186, grad=-0.7273), Var(v=0.0168, grad=-0.2212), Var(v=0.0646, grad=0.0030), Var(v=-0.0676, grad=0.0000), Var(v=0.0239, grad=0.6410), Var(v=0.0146, grad=0.0000), Var(v=0.0586, grad=0.6212), Var(v=-0.0307, grad=0.0000), Var(v=0.0727, grad=0.0688), Var(v=0.0673, grad=0.0000), Var(v=0.0497, grad=0.0000), Var(v=-0.0441, grad=0.0000), Var(v=0.0271, grad=0.3306), Var(v=0.0905, grad=0.0000), Var(v=0.0167, grad=0.0000), Var(v=-0.1544, grad=0.0000), Var(v=0.0028, grad=0.0000), Var(v=-0.0899, grad=0.4741)], [Var(v=-0.0772, grad=-0.1897), Var(v=-0.1132, grad=0.0000), Var(v=0.0517, grad=0.2259), Var(v=0.0788, grad=-0.8724), Var(v=-0.0670, grad=0.0000), Var(v=0.0840, grad=0.0000), Var(v=-0.0300, grad=0.1438), Var(v=-0.0979, grad=-0.3479), Var(v=-0.1870, grad=0.0000), Var(v=0.0429, grad=0.1733), Var(v=-0.0792, grad=0.0274), Var(v=0.1164, grad=0.0000), Var(v=0.0526, grad=0.0000), Var(v=-0.0680, grad=0.0000), Var(v=-0.0784, grad=0.0000), Var(v=-0.0779, grad=0.0000), Var(v=0.1171, grad=0.0000), Var(v=-0.1185, grad=0.2741), Var(v=0.0820, grad=0.0832), Var(v=-0.1726, grad=0.0000), Var(v=-0.1346, grad=0.0000), Var(v=-0.0147, grad=0.4650), Var(v=0.0619, grad=0.0067), Var(v=0.1117, grad=0.0000), Var(v=-0.0483, grad=0.0000), Var(v=-0.0416, grad=0.0000), Var(v=-0.0690, grad=0.0000), Var(v=0.0169, grad=0.0000), Var(v=-0.0663, grad=0.0000), Var(v=0.1333, grad=-0.6945), Var(v=-0.1035, grad=0.4950), Var(v=0.0308, grad=0.0000), Var(v=0.0450, grad=0.0000), Var(v=0.0609, grad=0.1594), Var(v=0.1364, grad=0.0000), Var(v=-0.1620, grad=-0.0926), Var(v=-0.0279, grad=-0.4619), Var(v=0.0045, grad=0.0000), Var(v=0.0505, grad=0.0000), Var(v=-0.0200, grad=0.0000), Var(v=-0.0070, grad=0.0000), Var(v=-0.1070, grad=0.0000), Var(v=0.0653, grad=0.0994), Var(v=-0.0269, grad=0.1061), Var(v=0.0343, grad=0.0000), Var(v=0.0972, grad=0.0000), Var(v=0.0786, grad=-0.4700), Var(v=0.0462, grad=-0.0256), Var(v=-0.0758, grad=-0.3143), Var(v=-0.1059, grad=-0.3417)]] Biases: [Var(v=0.0000, grad=-4.8775), Var(v=0.0000, grad=8.9951), Var(v=0.0000, grad=5.8072), Var(v=0.0000, grad=0.6072), Var(v=0.0000, grad=3.6283), Var(v=0.0000, grad=0.0000), Var(v=0.0000, grad=3.6963), Var(v=0.0000, grad=0.2422), Var(v=0.0000, grad=0.0000), Var(v=0.0000, grad=4.4555), Var(v=0.0000, grad=-0.0190), Var(v=0.0000, grad=0.0000), Var(v=0.0000, grad=-11.1012), Var(v=0.0000, grad=0.0000), Var(v=0.0000, grad=0.0000), Var(v=0.0000, grad=-8.1691), Var(v=0.0000, grad=-1.6163), Var(v=0.0000, grad=-0.1908), Var(v=0.0000, grad=2.1394), Var(v=0.0000, grad=-23.5608), Var(v=0.0000, grad=-3.7756), Var(v=0.0000, grad=-0.3236), Var(v=0.0000, grad=-0.0047), Var(v=0.0000, grad=-5.5612), Var(v=0.0000, grad=0.0000), Var(v=0.0000, grad=11.7632), Var(v=0.0000, grad=0.0000), Var(v=0.0000, grad=4.2816), Var(v=0.0000, grad=6.9148), Var(v=0.0000, grad=0.4834), Var(v=0.0000, grad=12.7266), Var(v=0.0000, grad=0.6963), Var(v=0.0000, grad=-13.8402), Var(v=0.0000, grad=-0.1110), Var(v=0.0000, grad=0.0569), Var(v=0.0000, grad=-2.3802), Var(v=0.0000, grad=0.3215), Var(v=0.0000, grad=0.0000), Var(v=0.0000, grad=11.8214), Var(v=0.0000, grad=0.0000), Var(v=0.0000, grad=1.3102), Var(v=0.0000, grad=0.0000), Var(v=0.0000, grad=2.5555), Var(v=0.0000, grad=2.7277), Var(v=0.0000, grad=6.2907), Var(v=0.0000, grad=0.0000), Var(v=0.0000, grad=-12.0851), Var(v=0.0000, grad=-0.6569), Var(v=0.0000, grad=-8.0820), Var(v=0.0000, grad=0.2378)]\n",
            "Layer 2 \n",
            " Weights: [[Var(v=-0.0570, grad=2.6895)], [Var(v=-0.1024, grad=-0.0612)], [Var(v=0.0679, grad=2.0915)], [Var(v=-0.2623, grad=0.5607)], [Var(v=-0.0413, grad=-2.4227)], [Var(v=-0.1486, grad=0.0000)], [Var(v=0.0432, grad=3.2507)], [Var(v=-0.1046, grad=2.8451)], [Var(v=-0.0833, grad=0.0000)], [Var(v=0.0521, grad=1.9005)], [Var(v=0.0082, grad=-1.8894)], [Var(v=0.0255, grad=0.0000)], [Var(v=0.1264, grad=-2.7591)], [Var(v=-0.2298, grad=0.0000)], [Var(v=-0.1519, grad=0.0000)], [Var(v=0.0930, grad=-1.6287)], [Var(v=0.0184, grad=-0.9769)], [Var(v=0.0824, grad=0.1473)], [Var(v=0.0250, grad=3.6075)], [Var(v=0.2682, grad=-1.7029)], [Var(v=0.0430, grad=-0.6615)], [Var(v=0.1398, grad=-0.9493)], [Var(v=0.0020, grad=0.8877)], [Var(v=0.0633, grad=-0.1709)], [Var(v=-0.0502, grad=0.0000)], [Var(v=-0.1339, grad=-3.2242)], [Var(v=0.0748, grad=0.0000)], [Var(v=-0.0487, grad=-0.9311)], [Var(v=-0.0787, grad=-1.1864)], [Var(v=-0.2088, grad=0.9448)], [Var(v=0.1488, grad=0.3536)], [Var(v=-0.0079, grad=-0.8981)], [Var(v=0.1575, grad=-1.5844)], [Var(v=0.0479, grad=-0.8917)], [Var(v=-0.0006, grad=-1.8743)], [Var(v=-0.0278, grad=0.7007)], [Var(v=-0.1388, grad=0.6573)], [Var(v=-0.0316, grad=0.0000)], [Var(v=-0.1346, grad=-1.1015)], [Var(v=-0.0368, grad=0.0000)], [Var(v=-0.0149, grad=-1.5878)], [Var(v=0.1221, grad=0.0000)], [Var(v=0.0299, grad=2.0252)], [Var(v=0.0319, grad=4.4336)], [Var(v=-0.0716, grad=-3.8468)], [Var(v=0.1181, grad=0.0000)], [Var(v=-0.1413, grad=2.1066)], [Var(v=-0.0077, grad=0.0305)], [Var(v=-0.0945, grad=3.3618)], [Var(v=-0.1027, grad=0.1399)]] Biases: [Var(v=0.0000, grad=-2.3154)]\n",
            "\n",
            "Network after update:\n",
            "Layer 0 \n",
            " Weights: [[Var(v=-0.0166, grad=1.3311), Var(v=-0.1257, grad=-0.2807), Var(v=-0.1512, grad=8.3540), Var(v=-0.0235, grad=3.4471), Var(v=-0.1133, grad=7.9912), Var(v=0.0100, grad=0.3893), Var(v=0.0134, grad=-2.4088), Var(v=-0.0174, grad=-1.5518), Var(v=-0.2474, grad=5.8693), Var(v=0.0783, grad=-14.1517), Var(v=0.0901, grad=7.0739), Var(v=-0.1371, grad=2.0652), Var(v=-0.1431, grad=4.9511), Var(v=0.1642, grad=-11.9045), Var(v=-0.0693, grad=3.4011)]] Biases: [Var(v=0.0121, grad=-1.2095), Var(v=-0.0026, grad=0.2551), Var(v=0.0759, grad=-7.5907), Var(v=-0.0296, grad=2.9607), Var(v=0.0726, grad=-7.2611), Var(v=-0.0033, grad=0.3344), Var(v=-0.0219, grad=2.1887), Var(v=-0.0141, grad=1.4101), Var(v=0.0533, grad=-5.3330), Var(v=-0.1286, grad=12.8587), Var(v=-0.0608, grad=6.0757), Var(v=0.0188, grad=-1.8765), Var(v=0.0450, grad=-4.4988), Var(v=0.1022, grad=-10.2247), Var(v=0.0309, grad=-3.0903)]\n",
            "Layer 1 \n",
            " Weights: [[Var(v=-0.0341, grad=-0.0176), Var(v=0.2596, grad=0.0000), Var(v=0.0326, grad=0.0209), Var(v=0.0805, grad=-0.0808), Var(v=0.1167, grad=0.0000), Var(v=0.1777, grad=0.0000), Var(v=-0.1693, grad=0.0133), Var(v=-0.0881, grad=-0.0322), Var(v=-0.0355, grad=0.0000), Var(v=-0.1079, grad=0.0160), Var(v=0.1215, grad=0.0025), Var(v=-0.1300, grad=0.0000), Var(v=0.0500, grad=0.0000), Var(v=-0.0657, grad=0.0000), Var(v=-0.1067, grad=0.0000), Var(v=0.0295, grad=0.0000), Var(v=0.0535, grad=0.0000), Var(v=-0.2482, grad=0.0254), Var(v=0.1019, grad=0.0077), Var(v=0.0111, grad=0.0000), Var(v=-0.1020, grad=0.0000), Var(v=-0.0077, grad=0.0430), Var(v=-0.0215, grad=0.0006), Var(v=-0.0346, grad=0.0000), Var(v=-0.0588, grad=0.0000), Var(v=-0.0053, grad=0.0000), Var(v=-0.0412, grad=0.0000), Var(v=-0.0345, grad=0.0000), Var(v=-0.0248, grad=0.0000), Var(v=-0.0757, grad=-0.0643), Var(v=-0.0290, grad=0.0458), Var(v=-0.1563, grad=0.0000), Var(v=0.0072, grad=0.0000), Var(v=-0.1274, grad=0.0148), Var(v=0.0047, grad=0.0000), Var(v=0.3267, grad=-0.0086), Var(v=-0.0204, grad=-0.0428), Var(v=0.1360, grad=0.0000), Var(v=-0.1031, grad=0.0000), Var(v=-0.0361, grad=0.0000), Var(v=-0.1102, grad=0.0000), Var(v=-0.0052, grad=0.0000), Var(v=-0.0488, grad=0.0092), Var(v=0.0106, grad=0.0098), Var(v=0.0507, grad=0.0000), Var(v=-0.1748, grad=0.0000), Var(v=-0.0909, grad=-0.0435), Var(v=0.0416, grad=-0.0024), Var(v=0.0623, grad=-0.0291), Var(v=-0.1864, grad=-0.0316)], [Var(v=-0.0725, grad=-0.6899), Var(v=-0.0818, grad=0.0000), Var(v=-0.0426, grad=0.8213), Var(v=0.0298, grad=-3.1726), Var(v=-0.2672, grad=0.0000), Var(v=-0.0861, grad=0.0000), Var(v=0.0647, grad=0.5228), Var(v=0.0347, grad=-1.2653), Var(v=-0.1109, grad=0.0000), Var(v=-0.0367, grad=0.6302), Var(v=0.0432, grad=0.0995), Var(v=0.0006, grad=0.0000), Var(v=-0.0567, grad=0.0000), Var(v=-0.0825, grad=0.0000), Var(v=-0.1025, grad=0.0000), Var(v=0.0132, grad=0.0000), Var(v=-0.0494, grad=0.0000), Var(v=0.1058, grad=0.9967), Var(v=0.1442, grad=0.3026), Var(v=-0.0520, grad=0.0000), Var(v=-0.1259, grad=0.0000), Var(v=0.0338, grad=1.6909), Var(v=0.0808, grad=0.0244), Var(v=0.0061, grad=0.0000), Var(v=-0.0026, grad=0.0000), Var(v=-0.0059, grad=0.0000), Var(v=0.1792, grad=0.0000), Var(v=0.0162, grad=0.0000), Var(v=-0.0467, grad=0.0000), Var(v=0.0806, grad=-2.5256), Var(v=-0.0013, grad=1.8000), Var(v=-0.1821, grad=0.0000), Var(v=-0.0426, grad=0.0000), Var(v=-0.1496, grad=0.5798), Var(v=-0.1210, grad=0.0000), Var(v=-0.0839, grad=-0.3366), Var(v=0.0547, grad=-1.6797), Var(v=0.0778, grad=0.0000), Var(v=-0.0194, grad=0.0000), Var(v=0.0102, grad=0.0000), Var(v=0.1392, grad=0.0000), Var(v=-0.0149, grad=0.0000), Var(v=-0.0325, grad=0.3614), Var(v=0.2621, grad=0.3858), Var(v=-0.0205, grad=0.0000), Var(v=0.0265, grad=0.0000), Var(v=0.0464, grad=-1.7093), Var(v=-0.1443, grad=-0.0929), Var(v=0.0139, grad=-1.1431), Var(v=0.0635, grad=-1.2425)], [Var(v=0.0368, grad=-0.3634), Var(v=-0.0234, grad=0.0000), Var(v=0.0001, grad=0.4327), Var(v=0.0222, grad=-1.6712), Var(v=-0.0649, grad=0.0000), Var(v=-0.0680, grad=0.0000), Var(v=-0.0007, grad=0.2754), Var(v=0.1833, grad=-0.6665), Var(v=0.0335, grad=0.0000), Var(v=-0.0854, grad=0.3319), Var(v=-0.0116, grad=0.0524), Var(v=0.0064, grad=0.0000), Var(v=0.0032, grad=0.0000), Var(v=-0.1744, grad=0.0000), Var(v=-0.0852, grad=0.0000), Var(v=0.2706, grad=0.0000), Var(v=-0.0491, grad=0.0000), Var(v=-0.0286, grad=0.5250), Var(v=-0.0851, grad=0.1594), Var(v=-0.0663, grad=0.0000), Var(v=0.1334, grad=0.0000), Var(v=-0.0008, grad=0.8907), Var(v=-0.0027, grad=0.0129), Var(v=-0.0791, grad=0.0000), Var(v=-0.0194, grad=0.0000), Var(v=0.1167, grad=0.0000), Var(v=-0.1581, grad=0.0000), Var(v=-0.1009, grad=0.0000), Var(v=-0.1836, grad=0.0000), Var(v=0.0005, grad=-1.3304), Var(v=-0.0342, grad=0.9482), Var(v=-0.0561, grad=0.0000), Var(v=0.1121, grad=0.0000), Var(v=-0.0656, grad=0.3054), Var(v=-0.0781, grad=0.0000), Var(v=0.0029, grad=-0.1773), Var(v=0.1593, grad=-0.8848), Var(v=0.0165, grad=0.0000), Var(v=0.0951, grad=0.0000), Var(v=0.0620, grad=0.0000), Var(v=0.0442, grad=0.0000), Var(v=-0.1939, grad=0.0000), Var(v=-0.0445, grad=0.1904), Var(v=-0.0518, grad=0.2032), Var(v=-0.0578, grad=0.0000), Var(v=-0.1415, grad=0.0000), Var(v=0.0882, grad=-0.9004), Var(v=0.0234, grad=-0.0489), Var(v=0.1213, grad=-0.6021), Var(v=0.1039, grad=-0.6545)], [Var(v=0.0290, grad=0.0000), Var(v=0.1867, grad=0.1153), Var(v=-0.0621, grad=0.0000), Var(v=0.0246, grad=0.2952), Var(v=0.0335, grad=0.0465), Var(v=-0.0643, grad=0.0000), Var(v=0.0410, grad=0.0000), Var(v=-0.0672, grad=0.1177), Var(v=-0.1584, grad=0.0000), Var(v=0.1027, grad=0.0000), Var(v=0.1067, grad=-0.0093), Var(v=0.1469, grad=0.0000), Var(v=-0.1108, grad=-0.1422), Var(v=-0.0054, grad=0.0000), Var(v=0.1254, grad=0.0000), Var(v=0.0641, grad=-0.1047), Var(v=0.1676, grad=-0.0207), Var(v=0.0887, grad=-0.0927), Var(v=0.1521, grad=0.0000), Var(v=-0.0560, grad=-0.3019), Var(v=-0.0025, grad=-0.0484), Var(v=0.0443, grad=-0.1573), Var(v=-0.0029, grad=-0.0023), Var(v=0.0516, grad=-0.0713), Var(v=0.0687, grad=0.0000), Var(v=0.0408, grad=0.1507), Var(v=0.0308, grad=0.0000), Var(v=0.0746, grad=0.0549), Var(v=-0.0269, grad=0.0886), Var(v=0.1432, grad=0.2350), Var(v=-0.0371, grad=0.0000), Var(v=-0.2732, grad=0.0089), Var(v=0.0797, grad=-0.1773), Var(v=0.0809, grad=-0.0539), Var(v=0.1249, grad=0.0007), Var(v=-0.0792, grad=0.0000), Var(v=0.0541, grad=0.1563), Var(v=-0.0120, grad=0.0000), Var(v=-0.0843, grad=0.1515), Var(v=-0.0099, grad=0.0000), Var(v=-0.0561, grad=0.0168), Var(v=0.0133, grad=0.0000), Var(v=0.0104, grad=0.0000), Var(v=0.0865, grad=0.0000), Var(v=0.0361, grad=0.0806), Var(v=0.1116, grad=0.0000), Var(v=0.0766, grad=0.0000), Var(v=0.0337, grad=0.0000), Var(v=-0.1785, grad=0.0000), Var(v=-0.0889, grad=0.1156)], [Var(v=0.0841, grad=-0.1792), Var(v=-0.0541, grad=0.0000), Var(v=-0.1000, grad=0.2133), Var(v=0.0349, grad=-0.8240), Var(v=0.0059, grad=0.0000), Var(v=-0.1164, grad=0.0000), Var(v=-0.1089, grad=0.1358), Var(v=-0.1272, grad=-0.3286), Var(v=0.0157, grad=0.0000), Var(v=-0.0177, grad=0.1637), Var(v=-0.0297, grad=0.0258), Var(v=-0.0993, grad=0.0000), Var(v=-0.2383, grad=0.0000), Var(v=0.1590, grad=0.0000), Var(v=0.2111, grad=0.0000), Var(v=-0.1469, grad=0.0000), Var(v=-0.0489, grad=0.0000), Var(v=0.1159, grad=0.2589), Var(v=0.0043, grad=0.0786), Var(v=-0.0924, grad=0.0000), Var(v=-0.1577, grad=0.0000), Var(v=-0.1021, grad=0.4391), Var(v=0.1529, grad=0.0063), Var(v=0.1494, grad=0.0000), Var(v=-0.2201, grad=0.0000), Var(v=0.2262, grad=0.0000), Var(v=0.0505, grad=0.0000), Var(v=0.1703, grad=0.0000), Var(v=-0.1734, grad=0.0000), Var(v=0.1317, grad=-0.6559), Var(v=-0.0117, grad=0.4675), Var(v=-0.0267, grad=0.0000), Var(v=0.0440, grad=0.0000), Var(v=-0.0099, grad=0.1506), Var(v=0.0900, grad=0.0000), Var(v=-0.0126, grad=-0.0874), Var(v=0.2534, grad=-0.4362), Var(v=-0.0450, grad=0.0000), Var(v=0.0546, grad=0.0000), Var(v=0.0519, grad=0.0000), Var(v=-0.0788, grad=0.0000), Var(v=0.1319, grad=0.0000), Var(v=0.0160, grad=0.0939), Var(v=0.1305, grad=0.1002), Var(v=-0.0050, grad=0.0000), Var(v=0.0390, grad=0.0000), Var(v=0.1565, grad=-0.4439), Var(v=0.1205, grad=-0.0241), Var(v=-0.0566, grad=-0.2969), Var(v=-0.0242, grad=-0.3227)], [Var(v=-0.0058, grad=0.0000), Var(v=-0.0261, grad=0.1456), Var(v=-0.0979, grad=0.0000), Var(v=0.1683, grad=0.3729), Var(v=0.0502, grad=0.0587), Var(v=0.0093, grad=0.0000), Var(v=-0.0094, grad=0.0000), Var(v=0.0543, grad=0.1487), Var(v=-0.0742, grad=0.0000), Var(v=0.0111, grad=0.0000), Var(v=0.0708, grad=-0.0117), Var(v=0.0641, grad=0.0000), Var(v=0.0099, grad=-0.1797), Var(v=-0.0334, grad=0.0000), Var(v=-0.0411, grad=0.0000), Var(v=0.1550, grad=-0.1322), Var(v=0.1720, grad=-0.0262), Var(v=0.0512, grad=-0.1172), Var(v=-0.0394, grad=0.0000), Var(v=0.1258, grad=-0.3814), Var(v=-0.0241, grad=-0.0611), Var(v=0.0236, grad=-0.1987), Var(v=0.1799, grad=-0.0029), Var(v=-0.0641, grad=-0.0900), Var(v=0.0865, grad=0.0000), Var(v=-0.0041, grad=0.1904), Var(v=0.0953, grad=0.0000), Var(v=-0.0010, grad=0.0693), Var(v=0.0632, grad=0.1119), Var(v=-0.0950, grad=0.2969), Var(v=-0.1024, grad=0.0000), Var(v=-0.0938, grad=0.0113), Var(v=-0.1164, grad=-0.2240), Var(v=0.0966, grad=-0.0681), Var(v=0.0218, grad=0.0009), Var(v=-0.0063, grad=0.0000), Var(v=-0.1634, grad=0.1974), Var(v=-0.3484, grad=0.0000), Var(v=0.0696, grad=0.1913), Var(v=0.0073, grad=0.0000), Var(v=-0.0977, grad=0.0212), Var(v=-0.2139, grad=0.0000), Var(v=-0.1293, grad=0.0000), Var(v=0.0286, grad=0.0000), Var(v=0.1947, grad=0.1018), Var(v=-0.1361, grad=0.0000), Var(v=0.0635, grad=0.0000), Var(v=0.0862, grad=0.0000), Var(v=0.0302, grad=0.0000), Var(v=0.0835, grad=0.1460)], [Var(v=-0.1527, grad=-0.0572), Var(v=-0.0536, grad=0.0000), Var(v=0.0475, grad=0.0681), Var(v=-0.0540, grad=-0.2631), Var(v=-0.0403, grad=0.0000), Var(v=-0.1175, grad=0.0000), Var(v=-0.1350, grad=0.0434), Var(v=0.0952, grad=-0.1049), Var(v=0.1426, grad=0.0000), Var(v=0.0504, grad=0.0523), Var(v=-0.1053, grad=0.0083), Var(v=0.0234, grad=0.0000), Var(v=0.0223, grad=0.0000), Var(v=0.1290, grad=0.0000), Var(v=0.1047, grad=0.0000), Var(v=-0.0152, grad=0.0000), Var(v=-0.1527, grad=0.0000), Var(v=-0.1212, grad=0.0827), Var(v=-0.1297, grad=0.0251), Var(v=-0.0739, grad=0.0000), Var(v=-0.0619, grad=0.0000), Var(v=-0.0052, grad=0.1402), Var(v=0.0260, grad=0.0020), Var(v=0.0766, grad=0.0000), Var(v=0.0633, grad=0.0000), Var(v=0.0898, grad=0.0000), Var(v=0.0056, grad=0.0000), Var(v=0.1841, grad=0.0000), Var(v=0.0062, grad=0.0000), Var(v=0.0521, grad=-0.2094), Var(v=0.0073, grad=0.1493), Var(v=-0.0227, grad=0.0000), Var(v=-0.1125, grad=0.0000), Var(v=0.0433, grad=0.0481), Var(v=-0.0978, grad=0.0000), Var(v=0.0362, grad=-0.0279), Var(v=-0.1408, grad=-0.1393), Var(v=-0.0107, grad=0.0000), Var(v=0.0673, grad=0.0000), Var(v=-0.1039, grad=0.0000), Var(v=-0.0853, grad=0.0000), Var(v=0.0755, grad=0.0000), Var(v=0.1633, grad=0.0300), Var(v=0.1257, grad=0.0320), Var(v=-0.1480, grad=0.0000), Var(v=-0.0483, grad=0.0000), Var(v=-0.0450, grad=-0.1417), Var(v=-0.0535, grad=-0.0077), Var(v=-0.0243, grad=-0.0948), Var(v=0.0374, grad=-0.1030)], [Var(v=0.1507, grad=-0.1766), Var(v=0.1051, grad=0.0000), Var(v=-0.1046, grad=0.2102), Var(v=0.0602, grad=-0.8121), Var(v=-0.0034, grad=0.0000), Var(v=-0.2291, grad=0.0000), Var(v=-0.0020, grad=0.1338), Var(v=-0.0003, grad=-0.3239), Var(v=-0.0572, grad=0.0000), Var(v=-0.0726, grad=0.1613), Var(v=-0.0588, grad=0.0255), Var(v=-0.2074, grad=0.0000), Var(v=-0.0407, grad=0.0000), Var(v=-0.1832, grad=0.0000), Var(v=-0.0378, grad=0.0000), Var(v=-0.0342, grad=0.0000), Var(v=-0.0596, grad=0.0000), Var(v=0.0407, grad=0.2551), Var(v=0.0773, grad=0.0775), Var(v=-0.0195, grad=0.0000), Var(v=-0.2161, grad=0.0000), Var(v=-0.0108, grad=0.4328), Var(v=0.0596, grad=0.0062), Var(v=-0.1000, grad=0.0000), Var(v=0.1419, grad=0.0000), Var(v=0.0474, grad=0.0000), Var(v=-0.0368, grad=0.0000), Var(v=-0.0547, grad=0.0000), Var(v=-0.0211, grad=0.0000), Var(v=0.0439, grad=-0.6465), Var(v=-0.0135, grad=0.4608), Var(v=-0.0830, grad=0.0000), Var(v=0.0054, grad=0.0000), Var(v=0.0021, grad=0.1484), Var(v=-0.0677, grad=0.0000), Var(v=0.0183, grad=-0.0862), Var(v=-0.1169, grad=-0.4300), Var(v=-0.2066, grad=0.0000), Var(v=-0.1513, grad=0.0000), Var(v=0.0155, grad=0.0000), Var(v=-0.1155, grad=0.0000), Var(v=0.0592, grad=0.0000), Var(v=0.0310, grad=0.0925), Var(v=-0.0149, grad=0.0988), Var(v=-0.0470, grad=0.0000), Var(v=0.1156, grad=0.0000), Var(v=-0.1826, grad=-0.4375), Var(v=-0.0715, grad=-0.0238), Var(v=-0.1218, grad=-0.2926), Var(v=0.0223, grad=-0.3181)], [Var(v=0.0672, grad=-1.0131), Var(v=-0.0124, grad=0.0000), Var(v=0.0739, grad=1.2062), Var(v=0.1125, grad=-4.6592), Var(v=0.0741, grad=0.0000), Var(v=0.0470, grad=0.0000), Var(v=0.0169, grad=0.7677), Var(v=0.1287, grad=-1.8582), Var(v=-0.1036, grad=0.0000), Var(v=0.2044, grad=0.9254), Var(v=0.0734, grad=0.1461), Var(v=-0.0794, grad=0.0000), Var(v=-0.0337, grad=0.0000), Var(v=-0.0645, grad=0.0000), Var(v=-0.0461, grad=0.0000), Var(v=-0.0137, grad=0.0000), Var(v=-0.0253, grad=0.0000), Var(v=0.1143, grad=1.4638), Var(v=-0.0241, grad=0.4444), Var(v=-0.0317, grad=0.0000), Var(v=-0.0496, grad=0.0000), Var(v=-0.1192, grad=2.4831), Var(v=-0.0087, grad=0.0359), Var(v=0.0987, grad=0.0000), Var(v=-0.0086, grad=0.0000), Var(v=-0.1868, grad=0.0000), Var(v=-0.1444, grad=0.0000), Var(v=-0.2083, grad=0.0000), Var(v=-0.0356, grad=0.0000), Var(v=0.1600, grad=-3.7089), Var(v=0.0636, grad=2.6434), Var(v=-0.0216, grad=0.0000), Var(v=-0.0268, grad=0.0000), Var(v=0.1238, grad=0.8514), Var(v=-0.1733, grad=0.0000), Var(v=0.0808, grad=-0.4944), Var(v=0.0369, grad=-2.4668), Var(v=-0.0662, grad=0.0000), Var(v=-0.1196, grad=0.0000), Var(v=-0.0838, grad=0.0000), Var(v=-0.1491, grad=0.0000), Var(v=-0.0845, grad=0.0000), Var(v=0.1100, grad=0.5308), Var(v=0.0883, grad=0.5666), Var(v=-0.1012, grad=0.0000), Var(v=-0.0443, grad=0.0000), Var(v=0.1622, grad=-2.5101), Var(v=0.0031, grad=-0.1364), Var(v=0.1788, grad=-1.6787), Var(v=0.0947, grad=-1.8247)], [Var(v=-0.0191, grad=-0.3392), Var(v=0.1257, grad=0.0000), Var(v=0.0693, grad=0.4038), Var(v=-0.0261, grad=-1.5599), Var(v=-0.1021, grad=0.0000), Var(v=-0.0466, grad=0.0000), Var(v=0.1139, grad=0.2570), Var(v=-0.0295, grad=-0.6221), Var(v=0.0900, grad=0.0000), Var(v=0.0499, grad=0.3098), Var(v=0.1699, grad=0.0489), Var(v=-0.0953, grad=0.0000), Var(v=-0.0705, grad=0.0000), Var(v=0.0412, grad=0.0000), Var(v=0.0193, grad=0.0000), Var(v=-0.1945, grad=0.0000), Var(v=-0.0476, grad=0.0000), Var(v=0.0984, grad=0.4901), Var(v=0.1492, grad=0.1488), Var(v=-0.0862, grad=0.0000), Var(v=0.2004, grad=0.0000), Var(v=0.0917, grad=0.8314), Var(v=0.1197, grad=0.0120), Var(v=-0.1280, grad=0.0000), Var(v=-0.0394, grad=0.0000), Var(v=-0.0353, grad=0.0000), Var(v=0.0256, grad=0.0000), Var(v=0.1017, grad=0.0000), Var(v=0.0163, grad=0.0000), Var(v=-0.1096, grad=-1.2418), Var(v=0.0319, grad=0.8850), Var(v=0.0182, grad=0.0000), Var(v=-0.1387, grad=0.0000), Var(v=-0.0481, grad=0.2851), Var(v=0.0962, grad=0.0000), Var(v=-0.0274, grad=-0.1655), Var(v=-0.1455, grad=-0.8259), Var(v=-0.0200, grad=0.0000), Var(v=-0.0232, grad=0.0000), Var(v=-0.0005, grad=0.0000), Var(v=-0.1554, grad=0.0000), Var(v=0.1371, grad=0.0000), Var(v=0.0964, grad=0.1777), Var(v=0.0166, grad=0.1897), Var(v=0.0323, grad=0.0000), Var(v=-0.0431, grad=0.0000), Var(v=-0.1496, grad=-0.8404), Var(v=0.0001, grad=-0.0457), Var(v=-0.0806, grad=-0.5620), Var(v=-0.0735, grad=-0.6109)], [Var(v=-0.1602, grad=0.0000), Var(v=0.0010, grad=1.6840), Var(v=-0.0804, grad=0.0000), Var(v=0.0615, grad=4.3132), Var(v=0.0940, grad=0.6793), Var(v=-0.0453, grad=0.0000), Var(v=-0.1003, grad=0.0000), Var(v=0.0444, grad=1.7202), Var(v=-0.1378, grad=0.0000), Var(v=-0.0973, grad=0.0000), Var(v=0.1368, grad=-0.1353), Var(v=0.0059, grad=0.0000), Var(v=0.1672, grad=-2.0783), Var(v=-0.1167, grad=0.0000), Var(v=-0.0093, grad=0.0000), Var(v=0.0370, grad=-1.5293), Var(v=0.0285, grad=-0.3026), Var(v=0.1665, grad=-1.3550), Var(v=-0.0975, grad=0.0000), Var(v=0.1237, grad=-4.4108), Var(v=0.0212, grad=-0.7068), Var(v=0.0557, grad=-2.2987), Var(v=0.1219, grad=-0.0332), Var(v=0.0336, grad=-1.0411), Var(v=-0.0544, grad=0.0000), Var(v=0.1481, grad=2.2022), Var(v=-0.0900, grad=0.0000), Var(v=0.0796, grad=0.8016), Var(v=0.1102, grad=1.2945), Var(v=0.0480, grad=3.4335), Var(v=-0.0037, grad=0.0000), Var(v=-0.0039, grad=0.1304), Var(v=0.1219, grad=-2.5910), Var(v=0.1176, grad=-0.7882), Var(v=0.0853, grad=0.0106), Var(v=-0.0215, grad=0.0000), Var(v=0.1039, grad=2.2836), Var(v=-0.0217, grad=0.0000), Var(v=0.0279, grad=2.2131), Var(v=-0.0989, grad=0.0000), Var(v=0.0859, grad=0.2453), Var(v=-0.1231, grad=0.0000), Var(v=-0.0682, grad=0.0000), Var(v=-0.0814, grad=0.0000), Var(v=0.1951, grad=1.1777), Var(v=-0.0701, grad=0.0000), Var(v=-0.0328, grad=0.0000), Var(v=-0.0358, grad=0.0000), Var(v=-0.0930, grad=0.0000), Var(v=0.1605, grad=1.6892)], [Var(v=0.1694, grad=-0.6253), Var(v=-0.0081, grad=0.0000), Var(v=0.0325, grad=0.7445), Var(v=0.0340, grad=-2.8760), Var(v=0.0544, grad=0.0000), Var(v=0.0847, grad=0.0000), Var(v=0.0433, grad=0.4739), Var(v=0.0541, grad=-1.1470), Var(v=0.1040, grad=0.0000), Var(v=0.0567, grad=0.5712), Var(v=-0.0318, grad=0.0902), Var(v=0.0324, grad=0.0000), Var(v=-0.1673, grad=0.0000), Var(v=0.1526, grad=0.0000), Var(v=0.0984, grad=0.0000), Var(v=0.1112, grad=0.0000), Var(v=-0.0370, grad=0.0000), Var(v=-0.1513, grad=0.9035), Var(v=-0.0467, grad=0.2743), Var(v=0.1197, grad=0.0000), Var(v=-0.0249, grad=0.0000), Var(v=-0.0031, grad=1.5328), Var(v=0.0039, grad=0.0221), Var(v=-0.1564, grad=0.0000), Var(v=-0.2191, grad=0.0000), Var(v=-0.1411, grad=0.0000), Var(v=-0.0745, grad=0.0000), Var(v=-0.0121, grad=0.0000), Var(v=0.1296, grad=0.0000), Var(v=-0.1515, grad=-2.2894), Var(v=-0.1179, grad=1.6317), Var(v=0.1353, grad=0.0000), Var(v=-0.3063, grad=0.0000), Var(v=0.0609, grad=0.5255), Var(v=-0.0532, grad=0.0000), Var(v=0.1516, grad=-0.3052), Var(v=0.1072, grad=-1.5227), Var(v=-0.2133, grad=0.0000), Var(v=0.0514, grad=0.0000), Var(v=-0.0289, grad=0.0000), Var(v=-0.2248, grad=0.0000), Var(v=0.0461, grad=0.0000), Var(v=-0.0302, grad=0.3276), Var(v=0.0525, grad=0.3497), Var(v=-0.0450, grad=0.0000), Var(v=-0.0624, grad=0.0000), Var(v=0.0849, grad=-1.5494), Var(v=0.0424, grad=-0.0842), Var(v=0.0392, grad=-1.0362), Var(v=0.0031, grad=-1.1263)], [Var(v=0.0584, grad=-0.5022), Var(v=0.0917, grad=0.0000), Var(v=0.0476, grad=0.5980), Var(v=0.1390, grad=-2.3098), Var(v=-0.0154, grad=0.0000), Var(v=-0.1351, grad=0.0000), Var(v=0.1509, grad=0.3806), Var(v=0.1654, grad=-0.9212), Var(v=-0.1658, grad=0.0000), Var(v=-0.2197, grad=0.4588), Var(v=-0.0155, grad=0.0725), Var(v=-0.1135, grad=0.0000), Var(v=-0.1935, grad=0.0000), Var(v=0.0483, grad=0.0000), Var(v=-0.0971, grad=0.0000), Var(v=-0.1751, grad=0.0000), Var(v=-0.0424, grad=0.0000), Var(v=-0.0428, grad=0.7257), Var(v=0.2091, grad=0.2203), Var(v=-0.1110, grad=0.0000), Var(v=0.0075, grad=0.0000), Var(v=0.0712, grad=1.2310), Var(v=0.1351, grad=0.0178), Var(v=-0.0624, grad=0.0000), Var(v=0.1825, grad=0.0000), Var(v=-0.0304, grad=0.0000), Var(v=0.0346, grad=0.0000), Var(v=-0.1420, grad=0.0000), Var(v=-0.0140, grad=0.0000), Var(v=0.0124, grad=-1.8387), Var(v=-0.0159, grad=1.3105), Var(v=-0.1047, grad=0.0000), Var(v=0.0906, grad=0.0000), Var(v=0.0362, grad=0.4221), Var(v=-0.0606, grad=0.0000), Var(v=-0.0730, grad=-0.2451), Var(v=0.1020, grad=-1.2229), Var(v=-0.0258, grad=0.0000), Var(v=-0.0365, grad=0.0000), Var(v=0.0450, grad=0.0000), Var(v=-0.2374, grad=0.0000), Var(v=0.0131, grad=0.0000), Var(v=-0.0267, grad=0.2631), Var(v=-0.1470, grad=0.2809), Var(v=-0.1482, grad=0.0000), Var(v=0.0182, grad=0.0000), Var(v=-0.1120, grad=-1.2444), Var(v=0.1016, grad=-0.0676), Var(v=0.0931, grad=-0.8322), Var(v=0.1261, grad=-0.9046)], [Var(v=-0.1426, grad=0.0000), Var(v=-0.0933, grad=0.4727), Var(v=0.1264, grad=0.0000), Var(v=-0.0269, grad=1.2107), Var(v=0.1397, grad=0.1907), Var(v=0.0151, grad=0.0000), Var(v=0.0394, grad=0.0000), Var(v=0.0900, grad=0.4828), Var(v=0.0323, grad=0.0000), Var(v=0.1841, grad=0.0000), Var(v=0.2547, grad=-0.0380), Var(v=-0.2196, grad=0.0000), Var(v=0.1067, grad=-0.5834), Var(v=-0.2187, grad=0.0000), Var(v=-0.0582, grad=0.0000), Var(v=0.2172, grad=-0.4293), Var(v=0.0281, grad=-0.0849), Var(v=-0.1337, grad=-0.3804), Var(v=0.0508, grad=0.0000), Var(v=0.0743, grad=-1.2381), Var(v=0.1033, grad=-0.1984), Var(v=0.0939, grad=-0.6452), Var(v=0.1118, grad=-0.0093), Var(v=-0.0352, grad=-0.2922), Var(v=0.0066, grad=0.0000), Var(v=0.0766, grad=0.6181), Var(v=-0.1084, grad=0.0000), Var(v=-0.1309, grad=0.2250), Var(v=-0.1987, grad=0.3634), Var(v=-0.2852, grad=0.9638), Var(v=-0.0485, grad=0.0000), Var(v=0.2989, grad=0.0366), Var(v=0.0259, grad=-0.7273), Var(v=0.0190, grad=-0.2212), Var(v=0.0646, grad=0.0030), Var(v=-0.0676, grad=0.0000), Var(v=0.0175, grad=0.6410), Var(v=0.0146, grad=0.0000), Var(v=0.0524, grad=0.6212), Var(v=-0.0307, grad=0.0000), Var(v=0.0720, grad=0.0688), Var(v=0.0673, grad=0.0000), Var(v=0.0497, grad=0.0000), Var(v=-0.0441, grad=0.0000), Var(v=0.0238, grad=0.3306), Var(v=0.0905, grad=0.0000), Var(v=0.0167, grad=0.0000), Var(v=-0.1544, grad=0.0000), Var(v=0.0028, grad=0.0000), Var(v=-0.0946, grad=0.4741)], [Var(v=-0.0753, grad=-0.1897), Var(v=-0.1132, grad=0.0000), Var(v=0.0495, grad=0.2259), Var(v=0.0875, grad=-0.8724), Var(v=-0.0670, grad=0.0000), Var(v=0.0840, grad=0.0000), Var(v=-0.0314, grad=0.1438), Var(v=-0.0944, grad=-0.3479), Var(v=-0.1870, grad=0.0000), Var(v=0.0411, grad=0.1733), Var(v=-0.0795, grad=0.0274), Var(v=0.1164, grad=0.0000), Var(v=0.0526, grad=0.0000), Var(v=-0.0680, grad=0.0000), Var(v=-0.0784, grad=0.0000), Var(v=-0.0779, grad=0.0000), Var(v=0.1171, grad=0.0000), Var(v=-0.1213, grad=0.2741), Var(v=0.0811, grad=0.0832), Var(v=-0.1726, grad=0.0000), Var(v=-0.1346, grad=0.0000), Var(v=-0.0194, grad=0.4650), Var(v=0.0619, grad=0.0067), Var(v=0.1117, grad=0.0000), Var(v=-0.0483, grad=0.0000), Var(v=-0.0416, grad=0.0000), Var(v=-0.0690, grad=0.0000), Var(v=0.0169, grad=0.0000), Var(v=-0.0663, grad=0.0000), Var(v=0.1403, grad=-0.6945), Var(v=-0.1084, grad=0.4950), Var(v=0.0308, grad=0.0000), Var(v=0.0450, grad=0.0000), Var(v=0.0593, grad=0.1594), Var(v=0.1364, grad=0.0000), Var(v=-0.1611, grad=-0.0926), Var(v=-0.0232, grad=-0.4619), Var(v=0.0045, grad=0.0000), Var(v=0.0505, grad=0.0000), Var(v=-0.0200, grad=0.0000), Var(v=-0.0070, grad=0.0000), Var(v=-0.1070, grad=0.0000), Var(v=0.0643, grad=0.0994), Var(v=-0.0279, grad=0.1061), Var(v=0.0343, grad=0.0000), Var(v=0.0972, grad=0.0000), Var(v=0.0833, grad=-0.4700), Var(v=0.0465, grad=-0.0256), Var(v=-0.0727, grad=-0.3143), Var(v=-0.1025, grad=-0.3417)]] Biases: [Var(v=0.0488, grad=-4.8775), Var(v=-0.0900, grad=8.9951), Var(v=-0.0581, grad=5.8072), Var(v=-0.0061, grad=0.6072), Var(v=-0.0363, grad=3.6283), Var(v=0.0000, grad=0.0000), Var(v=-0.0370, grad=3.6963), Var(v=-0.0024, grad=0.2422), Var(v=0.0000, grad=0.0000), Var(v=-0.0446, grad=4.4555), Var(v=0.0002, grad=-0.0190), Var(v=0.0000, grad=0.0000), Var(v=0.1110, grad=-11.1012), Var(v=0.0000, grad=0.0000), Var(v=0.0000, grad=0.0000), Var(v=0.0817, grad=-8.1691), Var(v=0.0162, grad=-1.6163), Var(v=0.0019, grad=-0.1908), Var(v=-0.0214, grad=2.1394), Var(v=0.2356, grad=-23.5608), Var(v=0.0378, grad=-3.7756), Var(v=0.0032, grad=-0.3236), Var(v=0.0000, grad=-0.0047), Var(v=0.0556, grad=-5.5612), Var(v=0.0000, grad=0.0000), Var(v=-0.1176, grad=11.7632), Var(v=0.0000, grad=0.0000), Var(v=-0.0428, grad=4.2816), Var(v=-0.0691, grad=6.9148), Var(v=-0.0048, grad=0.4834), Var(v=-0.1273, grad=12.7266), Var(v=-0.0070, grad=0.6963), Var(v=0.1384, grad=-13.8402), Var(v=0.0011, grad=-0.1110), Var(v=-0.0006, grad=0.0569), Var(v=0.0238, grad=-2.3802), Var(v=-0.0032, grad=0.3215), Var(v=0.0000, grad=0.0000), Var(v=-0.1182, grad=11.8214), Var(v=0.0000, grad=0.0000), Var(v=-0.0131, grad=1.3102), Var(v=0.0000, grad=0.0000), Var(v=-0.0256, grad=2.5555), Var(v=-0.0273, grad=2.7277), Var(v=-0.0629, grad=6.2907), Var(v=0.0000, grad=0.0000), Var(v=0.1209, grad=-12.0851), Var(v=0.0066, grad=-0.6569), Var(v=0.0808, grad=-8.0820), Var(v=-0.0024, grad=0.2378)]\n",
            "Layer 2 \n",
            " Weights: [[Var(v=-0.0839, grad=2.6895)], [Var(v=-0.1018, grad=-0.0612)], [Var(v=0.0470, grad=2.0915)], [Var(v=-0.2679, grad=0.5607)], [Var(v=-0.0171, grad=-2.4227)], [Var(v=-0.1486, grad=0.0000)], [Var(v=0.0107, grad=3.2507)], [Var(v=-0.1330, grad=2.8451)], [Var(v=-0.0833, grad=0.0000)], [Var(v=0.0331, grad=1.9005)], [Var(v=0.0271, grad=-1.8894)], [Var(v=0.0255, grad=0.0000)], [Var(v=0.1540, grad=-2.7591)], [Var(v=-0.2298, grad=0.0000)], [Var(v=-0.1519, grad=0.0000)], [Var(v=0.1093, grad=-1.6287)], [Var(v=0.0282, grad=-0.9769)], [Var(v=0.0809, grad=0.1473)], [Var(v=-0.0111, grad=3.6075)], [Var(v=0.2852, grad=-1.7029)], [Var(v=0.0496, grad=-0.6615)], [Var(v=0.1493, grad=-0.9493)], [Var(v=-0.0069, grad=0.8877)], [Var(v=0.0650, grad=-0.1709)], [Var(v=-0.0502, grad=0.0000)], [Var(v=-0.1017, grad=-3.2242)], [Var(v=0.0748, grad=0.0000)], [Var(v=-0.0394, grad=-0.9311)], [Var(v=-0.0668, grad=-1.1864)], [Var(v=-0.2182, grad=0.9448)], [Var(v=0.1453, grad=0.3536)], [Var(v=0.0011, grad=-0.8981)], [Var(v=0.1734, grad=-1.5844)], [Var(v=0.0568, grad=-0.8917)], [Var(v=0.0181, grad=-1.8743)], [Var(v=-0.0348, grad=0.7007)], [Var(v=-0.1454, grad=0.6573)], [Var(v=-0.0316, grad=0.0000)], [Var(v=-0.1235, grad=-1.1015)], [Var(v=-0.0368, grad=0.0000)], [Var(v=0.0010, grad=-1.5878)], [Var(v=0.1221, grad=0.0000)], [Var(v=0.0096, grad=2.0252)], [Var(v=-0.0124, grad=4.4336)], [Var(v=-0.0331, grad=-3.8468)], [Var(v=0.1181, grad=0.0000)], [Var(v=-0.1624, grad=2.1066)], [Var(v=-0.0080, grad=0.0305)], [Var(v=-0.1281, grad=3.3618)], [Var(v=-0.1041, grad=0.1399)]] Biases: [Var(v=0.0232, grad=-2.3154)]\n",
            "\n",
            "Network after zeroing gradients:\n",
            "Layer 0 \n",
            " Weights: [[Var(v=-0.0166, grad=0.0000), Var(v=-0.1257, grad=0.0000), Var(v=-0.1512, grad=0.0000), Var(v=-0.0235, grad=0.0000), Var(v=-0.1133, grad=0.0000), Var(v=0.0100, grad=0.0000), Var(v=0.0134, grad=0.0000), Var(v=-0.0174, grad=0.0000), Var(v=-0.2474, grad=0.0000), Var(v=0.0783, grad=0.0000), Var(v=0.0901, grad=0.0000), Var(v=-0.1371, grad=0.0000), Var(v=-0.1431, grad=0.0000), Var(v=0.1642, grad=0.0000), Var(v=-0.0693, grad=0.0000)]] Biases: [Var(v=0.0121, grad=0.0000), Var(v=-0.0026, grad=0.0000), Var(v=0.0759, grad=0.0000), Var(v=-0.0296, grad=0.0000), Var(v=0.0726, grad=0.0000), Var(v=-0.0033, grad=0.0000), Var(v=-0.0219, grad=0.0000), Var(v=-0.0141, grad=0.0000), Var(v=0.0533, grad=0.0000), Var(v=-0.1286, grad=0.0000), Var(v=-0.0608, grad=0.0000), Var(v=0.0188, grad=0.0000), Var(v=0.0450, grad=0.0000), Var(v=0.1022, grad=0.0000), Var(v=0.0309, grad=0.0000)]\n",
            "Layer 1 \n",
            " Weights: [[Var(v=-0.0341, grad=0.0000), Var(v=0.2596, grad=0.0000), Var(v=0.0326, grad=0.0000), Var(v=0.0805, grad=0.0000), Var(v=0.1167, grad=0.0000), Var(v=0.1777, grad=0.0000), Var(v=-0.1693, grad=0.0000), Var(v=-0.0881, grad=0.0000), Var(v=-0.0355, grad=0.0000), Var(v=-0.1079, grad=0.0000), Var(v=0.1215, grad=0.0000), Var(v=-0.1300, grad=0.0000), Var(v=0.0500, grad=0.0000), Var(v=-0.0657, grad=0.0000), Var(v=-0.1067, grad=0.0000), Var(v=0.0295, grad=0.0000), Var(v=0.0535, grad=0.0000), Var(v=-0.2482, grad=0.0000), Var(v=0.1019, grad=0.0000), Var(v=0.0111, grad=0.0000), Var(v=-0.1020, grad=0.0000), Var(v=-0.0077, grad=0.0000), Var(v=-0.0215, grad=0.0000), Var(v=-0.0346, grad=0.0000), Var(v=-0.0588, grad=0.0000), Var(v=-0.0053, grad=0.0000), Var(v=-0.0412, grad=0.0000), Var(v=-0.0345, grad=0.0000), Var(v=-0.0248, grad=0.0000), Var(v=-0.0757, grad=0.0000), Var(v=-0.0290, grad=0.0000), Var(v=-0.1563, grad=0.0000), Var(v=0.0072, grad=0.0000), Var(v=-0.1274, grad=0.0000), Var(v=0.0047, grad=0.0000), Var(v=0.3267, grad=0.0000), Var(v=-0.0204, grad=0.0000), Var(v=0.1360, grad=0.0000), Var(v=-0.1031, grad=0.0000), Var(v=-0.0361, grad=0.0000), Var(v=-0.1102, grad=0.0000), Var(v=-0.0052, grad=0.0000), Var(v=-0.0488, grad=0.0000), Var(v=0.0106, grad=0.0000), Var(v=0.0507, grad=0.0000), Var(v=-0.1748, grad=0.0000), Var(v=-0.0909, grad=0.0000), Var(v=0.0416, grad=0.0000), Var(v=0.0623, grad=0.0000), Var(v=-0.1864, grad=0.0000)], [Var(v=-0.0725, grad=0.0000), Var(v=-0.0818, grad=0.0000), Var(v=-0.0426, grad=0.0000), Var(v=0.0298, grad=0.0000), Var(v=-0.2672, grad=0.0000), Var(v=-0.0861, grad=0.0000), Var(v=0.0647, grad=0.0000), Var(v=0.0347, grad=0.0000), Var(v=-0.1109, grad=0.0000), Var(v=-0.0367, grad=0.0000), Var(v=0.0432, grad=0.0000), Var(v=0.0006, grad=0.0000), Var(v=-0.0567, grad=0.0000), Var(v=-0.0825, grad=0.0000), Var(v=-0.1025, grad=0.0000), Var(v=0.0132, grad=0.0000), Var(v=-0.0494, grad=0.0000), Var(v=0.1058, grad=0.0000), Var(v=0.1442, grad=0.0000), Var(v=-0.0520, grad=0.0000), Var(v=-0.1259, grad=0.0000), Var(v=0.0338, grad=0.0000), Var(v=0.0808, grad=0.0000), Var(v=0.0061, grad=0.0000), Var(v=-0.0026, grad=0.0000), Var(v=-0.0059, grad=0.0000), Var(v=0.1792, grad=0.0000), Var(v=0.0162, grad=0.0000), Var(v=-0.0467, grad=0.0000), Var(v=0.0806, grad=0.0000), Var(v=-0.0013, grad=0.0000), Var(v=-0.1821, grad=0.0000), Var(v=-0.0426, grad=0.0000), Var(v=-0.1496, grad=0.0000), Var(v=-0.1210, grad=0.0000), Var(v=-0.0839, grad=0.0000), Var(v=0.0547, grad=0.0000), Var(v=0.0778, grad=0.0000), Var(v=-0.0194, grad=0.0000), Var(v=0.0102, grad=0.0000), Var(v=0.1392, grad=0.0000), Var(v=-0.0149, grad=0.0000), Var(v=-0.0325, grad=0.0000), Var(v=0.2621, grad=0.0000), Var(v=-0.0205, grad=0.0000), Var(v=0.0265, grad=0.0000), Var(v=0.0464, grad=0.0000), Var(v=-0.1443, grad=0.0000), Var(v=0.0139, grad=0.0000), Var(v=0.0635, grad=0.0000)], [Var(v=0.0368, grad=0.0000), Var(v=-0.0234, grad=0.0000), Var(v=0.0001, grad=0.0000), Var(v=0.0222, grad=0.0000), Var(v=-0.0649, grad=0.0000), Var(v=-0.0680, grad=0.0000), Var(v=-0.0007, grad=0.0000), Var(v=0.1833, grad=0.0000), Var(v=0.0335, grad=0.0000), Var(v=-0.0854, grad=0.0000), Var(v=-0.0116, grad=0.0000), Var(v=0.0064, grad=0.0000), Var(v=0.0032, grad=0.0000), Var(v=-0.1744, grad=0.0000), Var(v=-0.0852, grad=0.0000), Var(v=0.2706, grad=0.0000), Var(v=-0.0491, grad=0.0000), Var(v=-0.0286, grad=0.0000), Var(v=-0.0851, grad=0.0000), Var(v=-0.0663, grad=0.0000), Var(v=0.1334, grad=0.0000), Var(v=-0.0008, grad=0.0000), Var(v=-0.0027, grad=0.0000), Var(v=-0.0791, grad=0.0000), Var(v=-0.0194, grad=0.0000), Var(v=0.1167, grad=0.0000), Var(v=-0.1581, grad=0.0000), Var(v=-0.1009, grad=0.0000), Var(v=-0.1836, grad=0.0000), Var(v=0.0005, grad=0.0000), Var(v=-0.0342, grad=0.0000), Var(v=-0.0561, grad=0.0000), Var(v=0.1121, grad=0.0000), Var(v=-0.0656, grad=0.0000), Var(v=-0.0781, grad=0.0000), Var(v=0.0029, grad=0.0000), Var(v=0.1593, grad=0.0000), Var(v=0.0165, grad=0.0000), Var(v=0.0951, grad=0.0000), Var(v=0.0620, grad=0.0000), Var(v=0.0442, grad=0.0000), Var(v=-0.1939, grad=0.0000), Var(v=-0.0445, grad=0.0000), Var(v=-0.0518, grad=0.0000), Var(v=-0.0578, grad=0.0000), Var(v=-0.1415, grad=0.0000), Var(v=0.0882, grad=0.0000), Var(v=0.0234, grad=0.0000), Var(v=0.1213, grad=0.0000), Var(v=0.1039, grad=0.0000)], [Var(v=0.0290, grad=0.0000), Var(v=0.1867, grad=0.0000), Var(v=-0.0621, grad=0.0000), Var(v=0.0246, grad=0.0000), Var(v=0.0335, grad=0.0000), Var(v=-0.0643, grad=0.0000), Var(v=0.0410, grad=0.0000), Var(v=-0.0672, grad=0.0000), Var(v=-0.1584, grad=0.0000), Var(v=0.1027, grad=0.0000), Var(v=0.1067, grad=0.0000), Var(v=0.1469, grad=0.0000), Var(v=-0.1108, grad=0.0000), Var(v=-0.0054, grad=0.0000), Var(v=0.1254, grad=0.0000), Var(v=0.0641, grad=0.0000), Var(v=0.1676, grad=0.0000), Var(v=0.0887, grad=0.0000), Var(v=0.1521, grad=0.0000), Var(v=-0.0560, grad=0.0000), Var(v=-0.0025, grad=0.0000), Var(v=0.0443, grad=0.0000), Var(v=-0.0029, grad=0.0000), Var(v=0.0516, grad=0.0000), Var(v=0.0687, grad=0.0000), Var(v=0.0408, grad=0.0000), Var(v=0.0308, grad=0.0000), Var(v=0.0746, grad=0.0000), Var(v=-0.0269, grad=0.0000), Var(v=0.1432, grad=0.0000), Var(v=-0.0371, grad=0.0000), Var(v=-0.2732, grad=0.0000), Var(v=0.0797, grad=0.0000), Var(v=0.0809, grad=0.0000), Var(v=0.1249, grad=0.0000), Var(v=-0.0792, grad=0.0000), Var(v=0.0541, grad=0.0000), Var(v=-0.0120, grad=0.0000), Var(v=-0.0843, grad=0.0000), Var(v=-0.0099, grad=0.0000), Var(v=-0.0561, grad=0.0000), Var(v=0.0133, grad=0.0000), Var(v=0.0104, grad=0.0000), Var(v=0.0865, grad=0.0000), Var(v=0.0361, grad=0.0000), Var(v=0.1116, grad=0.0000), Var(v=0.0766, grad=0.0000), Var(v=0.0337, grad=0.0000), Var(v=-0.1785, grad=0.0000), Var(v=-0.0889, grad=0.0000)], [Var(v=0.0841, grad=0.0000), Var(v=-0.0541, grad=0.0000), Var(v=-0.1000, grad=0.0000), Var(v=0.0349, grad=0.0000), Var(v=0.0059, grad=0.0000), Var(v=-0.1164, grad=0.0000), Var(v=-0.1089, grad=0.0000), Var(v=-0.1272, grad=0.0000), Var(v=0.0157, grad=0.0000), Var(v=-0.0177, grad=0.0000), Var(v=-0.0297, grad=0.0000), Var(v=-0.0993, grad=0.0000), Var(v=-0.2383, grad=0.0000), Var(v=0.1590, grad=0.0000), Var(v=0.2111, grad=0.0000), Var(v=-0.1469, grad=0.0000), Var(v=-0.0489, grad=0.0000), Var(v=0.1159, grad=0.0000), Var(v=0.0043, grad=0.0000), Var(v=-0.0924, grad=0.0000), Var(v=-0.1577, grad=0.0000), Var(v=-0.1021, grad=0.0000), Var(v=0.1529, grad=0.0000), Var(v=0.1494, grad=0.0000), Var(v=-0.2201, grad=0.0000), Var(v=0.2262, grad=0.0000), Var(v=0.0505, grad=0.0000), Var(v=0.1703, grad=0.0000), Var(v=-0.1734, grad=0.0000), Var(v=0.1317, grad=0.0000), Var(v=-0.0117, grad=0.0000), Var(v=-0.0267, grad=0.0000), Var(v=0.0440, grad=0.0000), Var(v=-0.0099, grad=0.0000), Var(v=0.0900, grad=0.0000), Var(v=-0.0126, grad=0.0000), Var(v=0.2534, grad=0.0000), Var(v=-0.0450, grad=0.0000), Var(v=0.0546, grad=0.0000), Var(v=0.0519, grad=0.0000), Var(v=-0.0788, grad=0.0000), Var(v=0.1319, grad=0.0000), Var(v=0.0160, grad=0.0000), Var(v=0.1305, grad=0.0000), Var(v=-0.0050, grad=0.0000), Var(v=0.0390, grad=0.0000), Var(v=0.1565, grad=0.0000), Var(v=0.1205, grad=0.0000), Var(v=-0.0566, grad=0.0000), Var(v=-0.0242, grad=0.0000)], [Var(v=-0.0058, grad=0.0000), Var(v=-0.0261, grad=0.0000), Var(v=-0.0979, grad=0.0000), Var(v=0.1683, grad=0.0000), Var(v=0.0502, grad=0.0000), Var(v=0.0093, grad=0.0000), Var(v=-0.0094, grad=0.0000), Var(v=0.0543, grad=0.0000), Var(v=-0.0742, grad=0.0000), Var(v=0.0111, grad=0.0000), Var(v=0.0708, grad=0.0000), Var(v=0.0641, grad=0.0000), Var(v=0.0099, grad=0.0000), Var(v=-0.0334, grad=0.0000), Var(v=-0.0411, grad=0.0000), Var(v=0.1550, grad=0.0000), Var(v=0.1720, grad=0.0000), Var(v=0.0512, grad=0.0000), Var(v=-0.0394, grad=0.0000), Var(v=0.1258, grad=0.0000), Var(v=-0.0241, grad=0.0000), Var(v=0.0236, grad=0.0000), Var(v=0.1799, grad=0.0000), Var(v=-0.0641, grad=0.0000), Var(v=0.0865, grad=0.0000), Var(v=-0.0041, grad=0.0000), Var(v=0.0953, grad=0.0000), Var(v=-0.0010, grad=0.0000), Var(v=0.0632, grad=0.0000), Var(v=-0.0950, grad=0.0000), Var(v=-0.1024, grad=0.0000), Var(v=-0.0938, grad=0.0000), Var(v=-0.1164, grad=0.0000), Var(v=0.0966, grad=0.0000), Var(v=0.0218, grad=0.0000), Var(v=-0.0063, grad=0.0000), Var(v=-0.1634, grad=0.0000), Var(v=-0.3484, grad=0.0000), Var(v=0.0696, grad=0.0000), Var(v=0.0073, grad=0.0000), Var(v=-0.0977, grad=0.0000), Var(v=-0.2139, grad=0.0000), Var(v=-0.1293, grad=0.0000), Var(v=0.0286, grad=0.0000), Var(v=0.1947, grad=0.0000), Var(v=-0.1361, grad=0.0000), Var(v=0.0635, grad=0.0000), Var(v=0.0862, grad=0.0000), Var(v=0.0302, grad=0.0000), Var(v=0.0835, grad=0.0000)], [Var(v=-0.1527, grad=0.0000), Var(v=-0.0536, grad=0.0000), Var(v=0.0475, grad=0.0000), Var(v=-0.0540, grad=0.0000), Var(v=-0.0403, grad=0.0000), Var(v=-0.1175, grad=0.0000), Var(v=-0.1350, grad=0.0000), Var(v=0.0952, grad=0.0000), Var(v=0.1426, grad=0.0000), Var(v=0.0504, grad=0.0000), Var(v=-0.1053, grad=0.0000), Var(v=0.0234, grad=0.0000), Var(v=0.0223, grad=0.0000), Var(v=0.1290, grad=0.0000), Var(v=0.1047, grad=0.0000), Var(v=-0.0152, grad=0.0000), Var(v=-0.1527, grad=0.0000), Var(v=-0.1212, grad=0.0000), Var(v=-0.1297, grad=0.0000), Var(v=-0.0739, grad=0.0000), Var(v=-0.0619, grad=0.0000), Var(v=-0.0052, grad=0.0000), Var(v=0.0260, grad=0.0000), Var(v=0.0766, grad=0.0000), Var(v=0.0633, grad=0.0000), Var(v=0.0898, grad=0.0000), Var(v=0.0056, grad=0.0000), Var(v=0.1841, grad=0.0000), Var(v=0.0062, grad=0.0000), Var(v=0.0521, grad=0.0000), Var(v=0.0073, grad=0.0000), Var(v=-0.0227, grad=0.0000), Var(v=-0.1125, grad=0.0000), Var(v=0.0433, grad=0.0000), Var(v=-0.0978, grad=0.0000), Var(v=0.0362, grad=0.0000), Var(v=-0.1408, grad=0.0000), Var(v=-0.0107, grad=0.0000), Var(v=0.0673, grad=0.0000), Var(v=-0.1039, grad=0.0000), Var(v=-0.0853, grad=0.0000), Var(v=0.0755, grad=0.0000), Var(v=0.1633, grad=0.0000), Var(v=0.1257, grad=0.0000), Var(v=-0.1480, grad=0.0000), Var(v=-0.0483, grad=0.0000), Var(v=-0.0450, grad=0.0000), Var(v=-0.0535, grad=0.0000), Var(v=-0.0243, grad=0.0000), Var(v=0.0374, grad=0.0000)], [Var(v=0.1507, grad=0.0000), Var(v=0.1051, grad=0.0000), Var(v=-0.1046, grad=0.0000), Var(v=0.0602, grad=0.0000), Var(v=-0.0034, grad=0.0000), Var(v=-0.2291, grad=0.0000), Var(v=-0.0020, grad=0.0000), Var(v=-0.0003, grad=0.0000), Var(v=-0.0572, grad=0.0000), Var(v=-0.0726, grad=0.0000), Var(v=-0.0588, grad=0.0000), Var(v=-0.2074, grad=0.0000), Var(v=-0.0407, grad=0.0000), Var(v=-0.1832, grad=0.0000), Var(v=-0.0378, grad=0.0000), Var(v=-0.0342, grad=0.0000), Var(v=-0.0596, grad=0.0000), Var(v=0.0407, grad=0.0000), Var(v=0.0773, grad=0.0000), Var(v=-0.0195, grad=0.0000), Var(v=-0.2161, grad=0.0000), Var(v=-0.0108, grad=0.0000), Var(v=0.0596, grad=0.0000), Var(v=-0.1000, grad=0.0000), Var(v=0.1419, grad=0.0000), Var(v=0.0474, grad=0.0000), Var(v=-0.0368, grad=0.0000), Var(v=-0.0547, grad=0.0000), Var(v=-0.0211, grad=0.0000), Var(v=0.0439, grad=0.0000), Var(v=-0.0135, grad=0.0000), Var(v=-0.0830, grad=0.0000), Var(v=0.0054, grad=0.0000), Var(v=0.0021, grad=0.0000), Var(v=-0.0677, grad=0.0000), Var(v=0.0183, grad=0.0000), Var(v=-0.1169, grad=0.0000), Var(v=-0.2066, grad=0.0000), Var(v=-0.1513, grad=0.0000), Var(v=0.0155, grad=0.0000), Var(v=-0.1155, grad=0.0000), Var(v=0.0592, grad=0.0000), Var(v=0.0310, grad=0.0000), Var(v=-0.0149, grad=0.0000), Var(v=-0.0470, grad=0.0000), Var(v=0.1156, grad=0.0000), Var(v=-0.1826, grad=0.0000), Var(v=-0.0715, grad=0.0000), Var(v=-0.1218, grad=0.0000), Var(v=0.0223, grad=0.0000)], [Var(v=0.0672, grad=0.0000), Var(v=-0.0124, grad=0.0000), Var(v=0.0739, grad=0.0000), Var(v=0.1125, grad=0.0000), Var(v=0.0741, grad=0.0000), Var(v=0.0470, grad=0.0000), Var(v=0.0169, grad=0.0000), Var(v=0.1287, grad=0.0000), Var(v=-0.1036, grad=0.0000), Var(v=0.2044, grad=0.0000), Var(v=0.0734, grad=0.0000), Var(v=-0.0794, grad=0.0000), Var(v=-0.0337, grad=0.0000), Var(v=-0.0645, grad=0.0000), Var(v=-0.0461, grad=0.0000), Var(v=-0.0137, grad=0.0000), Var(v=-0.0253, grad=0.0000), Var(v=0.1143, grad=0.0000), Var(v=-0.0241, grad=0.0000), Var(v=-0.0317, grad=0.0000), Var(v=-0.0496, grad=0.0000), Var(v=-0.1192, grad=0.0000), Var(v=-0.0087, grad=0.0000), Var(v=0.0987, grad=0.0000), Var(v=-0.0086, grad=0.0000), Var(v=-0.1868, grad=0.0000), Var(v=-0.1444, grad=0.0000), Var(v=-0.2083, grad=0.0000), Var(v=-0.0356, grad=0.0000), Var(v=0.1600, grad=0.0000), Var(v=0.0636, grad=0.0000), Var(v=-0.0216, grad=0.0000), Var(v=-0.0268, grad=0.0000), Var(v=0.1238, grad=0.0000), Var(v=-0.1733, grad=0.0000), Var(v=0.0808, grad=0.0000), Var(v=0.0369, grad=0.0000), Var(v=-0.0662, grad=0.0000), Var(v=-0.1196, grad=0.0000), Var(v=-0.0838, grad=0.0000), Var(v=-0.1491, grad=0.0000), Var(v=-0.0845, grad=0.0000), Var(v=0.1100, grad=0.0000), Var(v=0.0883, grad=0.0000), Var(v=-0.1012, grad=0.0000), Var(v=-0.0443, grad=0.0000), Var(v=0.1622, grad=0.0000), Var(v=0.0031, grad=0.0000), Var(v=0.1788, grad=0.0000), Var(v=0.0947, grad=0.0000)], [Var(v=-0.0191, grad=0.0000), Var(v=0.1257, grad=0.0000), Var(v=0.0693, grad=0.0000), Var(v=-0.0261, grad=0.0000), Var(v=-0.1021, grad=0.0000), Var(v=-0.0466, grad=0.0000), Var(v=0.1139, grad=0.0000), Var(v=-0.0295, grad=0.0000), Var(v=0.0900, grad=0.0000), Var(v=0.0499, grad=0.0000), Var(v=0.1699, grad=0.0000), Var(v=-0.0953, grad=0.0000), Var(v=-0.0705, grad=0.0000), Var(v=0.0412, grad=0.0000), Var(v=0.0193, grad=0.0000), Var(v=-0.1945, grad=0.0000), Var(v=-0.0476, grad=0.0000), Var(v=0.0984, grad=0.0000), Var(v=0.1492, grad=0.0000), Var(v=-0.0862, grad=0.0000), Var(v=0.2004, grad=0.0000), Var(v=0.0917, grad=0.0000), Var(v=0.1197, grad=0.0000), Var(v=-0.1280, grad=0.0000), Var(v=-0.0394, grad=0.0000), Var(v=-0.0353, grad=0.0000), Var(v=0.0256, grad=0.0000), Var(v=0.1017, grad=0.0000), Var(v=0.0163, grad=0.0000), Var(v=-0.1096, grad=0.0000), Var(v=0.0319, grad=0.0000), Var(v=0.0182, grad=0.0000), Var(v=-0.1387, grad=0.0000), Var(v=-0.0481, grad=0.0000), Var(v=0.0962, grad=0.0000), Var(v=-0.0274, grad=0.0000), Var(v=-0.1455, grad=0.0000), Var(v=-0.0200, grad=0.0000), Var(v=-0.0232, grad=0.0000), Var(v=-0.0005, grad=0.0000), Var(v=-0.1554, grad=0.0000), Var(v=0.1371, grad=0.0000), Var(v=0.0964, grad=0.0000), Var(v=0.0166, grad=0.0000), Var(v=0.0323, grad=0.0000), Var(v=-0.0431, grad=0.0000), Var(v=-0.1496, grad=0.0000), Var(v=0.0001, grad=0.0000), Var(v=-0.0806, grad=0.0000), Var(v=-0.0735, grad=0.0000)], [Var(v=-0.1602, grad=0.0000), Var(v=0.0010, grad=0.0000), Var(v=-0.0804, grad=0.0000), Var(v=0.0615, grad=0.0000), Var(v=0.0940, grad=0.0000), Var(v=-0.0453, grad=0.0000), Var(v=-0.1003, grad=0.0000), Var(v=0.0444, grad=0.0000), Var(v=-0.1378, grad=0.0000), Var(v=-0.0973, grad=0.0000), Var(v=0.1368, grad=0.0000), Var(v=0.0059, grad=0.0000), Var(v=0.1672, grad=0.0000), Var(v=-0.1167, grad=0.0000), Var(v=-0.0093, grad=0.0000), Var(v=0.0370, grad=0.0000), Var(v=0.0285, grad=0.0000), Var(v=0.1665, grad=0.0000), Var(v=-0.0975, grad=0.0000), Var(v=0.1237, grad=0.0000), Var(v=0.0212, grad=0.0000), Var(v=0.0557, grad=0.0000), Var(v=0.1219, grad=0.0000), Var(v=0.0336, grad=0.0000), Var(v=-0.0544, grad=0.0000), Var(v=0.1481, grad=0.0000), Var(v=-0.0900, grad=0.0000), Var(v=0.0796, grad=0.0000), Var(v=0.1102, grad=0.0000), Var(v=0.0480, grad=0.0000), Var(v=-0.0037, grad=0.0000), Var(v=-0.0039, grad=0.0000), Var(v=0.1219, grad=0.0000), Var(v=0.1176, grad=0.0000), Var(v=0.0853, grad=0.0000), Var(v=-0.0215, grad=0.0000), Var(v=0.1039, grad=0.0000), Var(v=-0.0217, grad=0.0000), Var(v=0.0279, grad=0.0000), Var(v=-0.0989, grad=0.0000), Var(v=0.0859, grad=0.0000), Var(v=-0.1231, grad=0.0000), Var(v=-0.0682, grad=0.0000), Var(v=-0.0814, grad=0.0000), Var(v=0.1951, grad=0.0000), Var(v=-0.0701, grad=0.0000), Var(v=-0.0328, grad=0.0000), Var(v=-0.0358, grad=0.0000), Var(v=-0.0930, grad=0.0000), Var(v=0.1605, grad=0.0000)], [Var(v=0.1694, grad=0.0000), Var(v=-0.0081, grad=0.0000), Var(v=0.0325, grad=0.0000), Var(v=0.0340, grad=0.0000), Var(v=0.0544, grad=0.0000), Var(v=0.0847, grad=0.0000), Var(v=0.0433, grad=0.0000), Var(v=0.0541, grad=0.0000), Var(v=0.1040, grad=0.0000), Var(v=0.0567, grad=0.0000), Var(v=-0.0318, grad=0.0000), Var(v=0.0324, grad=0.0000), Var(v=-0.1673, grad=0.0000), Var(v=0.1526, grad=0.0000), Var(v=0.0984, grad=0.0000), Var(v=0.1112, grad=0.0000), Var(v=-0.0370, grad=0.0000), Var(v=-0.1513, grad=0.0000), Var(v=-0.0467, grad=0.0000), Var(v=0.1197, grad=0.0000), Var(v=-0.0249, grad=0.0000), Var(v=-0.0031, grad=0.0000), Var(v=0.0039, grad=0.0000), Var(v=-0.1564, grad=0.0000), Var(v=-0.2191, grad=0.0000), Var(v=-0.1411, grad=0.0000), Var(v=-0.0745, grad=0.0000), Var(v=-0.0121, grad=0.0000), Var(v=0.1296, grad=0.0000), Var(v=-0.1515, grad=0.0000), Var(v=-0.1179, grad=0.0000), Var(v=0.1353, grad=0.0000), Var(v=-0.3063, grad=0.0000), Var(v=0.0609, grad=0.0000), Var(v=-0.0532, grad=0.0000), Var(v=0.1516, grad=0.0000), Var(v=0.1072, grad=0.0000), Var(v=-0.2133, grad=0.0000), Var(v=0.0514, grad=0.0000), Var(v=-0.0289, grad=0.0000), Var(v=-0.2248, grad=0.0000), Var(v=0.0461, grad=0.0000), Var(v=-0.0302, grad=0.0000), Var(v=0.0525, grad=0.0000), Var(v=-0.0450, grad=0.0000), Var(v=-0.0624, grad=0.0000), Var(v=0.0849, grad=0.0000), Var(v=0.0424, grad=0.0000), Var(v=0.0392, grad=0.0000), Var(v=0.0031, grad=0.0000)], [Var(v=0.0584, grad=0.0000), Var(v=0.0917, grad=0.0000), Var(v=0.0476, grad=0.0000), Var(v=0.1390, grad=0.0000), Var(v=-0.0154, grad=0.0000), Var(v=-0.1351, grad=0.0000), Var(v=0.1509, grad=0.0000), Var(v=0.1654, grad=0.0000), Var(v=-0.1658, grad=0.0000), Var(v=-0.2197, grad=0.0000), Var(v=-0.0155, grad=0.0000), Var(v=-0.1135, grad=0.0000), Var(v=-0.1935, grad=0.0000), Var(v=0.0483, grad=0.0000), Var(v=-0.0971, grad=0.0000), Var(v=-0.1751, grad=0.0000), Var(v=-0.0424, grad=0.0000), Var(v=-0.0428, grad=0.0000), Var(v=0.2091, grad=0.0000), Var(v=-0.1110, grad=0.0000), Var(v=0.0075, grad=0.0000), Var(v=0.0712, grad=0.0000), Var(v=0.1351, grad=0.0000), Var(v=-0.0624, grad=0.0000), Var(v=0.1825, grad=0.0000), Var(v=-0.0304, grad=0.0000), Var(v=0.0346, grad=0.0000), Var(v=-0.1420, grad=0.0000), Var(v=-0.0140, grad=0.0000), Var(v=0.0124, grad=0.0000), Var(v=-0.0159, grad=0.0000), Var(v=-0.1047, grad=0.0000), Var(v=0.0906, grad=0.0000), Var(v=0.0362, grad=0.0000), Var(v=-0.0606, grad=0.0000), Var(v=-0.0730, grad=0.0000), Var(v=0.1020, grad=0.0000), Var(v=-0.0258, grad=0.0000), Var(v=-0.0365, grad=0.0000), Var(v=0.0450, grad=0.0000), Var(v=-0.2374, grad=0.0000), Var(v=0.0131, grad=0.0000), Var(v=-0.0267, grad=0.0000), Var(v=-0.1470, grad=0.0000), Var(v=-0.1482, grad=0.0000), Var(v=0.0182, grad=0.0000), Var(v=-0.1120, grad=0.0000), Var(v=0.1016, grad=0.0000), Var(v=0.0931, grad=0.0000), Var(v=0.1261, grad=0.0000)], [Var(v=-0.1426, grad=0.0000), Var(v=-0.0933, grad=0.0000), Var(v=0.1264, grad=0.0000), Var(v=-0.0269, grad=0.0000), Var(v=0.1397, grad=0.0000), Var(v=0.0151, grad=0.0000), Var(v=0.0394, grad=0.0000), Var(v=0.0900, grad=0.0000), Var(v=0.0323, grad=0.0000), Var(v=0.1841, grad=0.0000), Var(v=0.2547, grad=0.0000), Var(v=-0.2196, grad=0.0000), Var(v=0.1067, grad=0.0000), Var(v=-0.2187, grad=0.0000), Var(v=-0.0582, grad=0.0000), Var(v=0.2172, grad=0.0000), Var(v=0.0281, grad=0.0000), Var(v=-0.1337, grad=0.0000), Var(v=0.0508, grad=0.0000), Var(v=0.0743, grad=0.0000), Var(v=0.1033, grad=0.0000), Var(v=0.0939, grad=0.0000), Var(v=0.1118, grad=0.0000), Var(v=-0.0352, grad=0.0000), Var(v=0.0066, grad=0.0000), Var(v=0.0766, grad=0.0000), Var(v=-0.1084, grad=0.0000), Var(v=-0.1309, grad=0.0000), Var(v=-0.1987, grad=0.0000), Var(v=-0.2852, grad=0.0000), Var(v=-0.0485, grad=0.0000), Var(v=0.2989, grad=0.0000), Var(v=0.0259, grad=0.0000), Var(v=0.0190, grad=0.0000), Var(v=0.0646, grad=0.0000), Var(v=-0.0676, grad=0.0000), Var(v=0.0175, grad=0.0000), Var(v=0.0146, grad=0.0000), Var(v=0.0524, grad=0.0000), Var(v=-0.0307, grad=0.0000), Var(v=0.0720, grad=0.0000), Var(v=0.0673, grad=0.0000), Var(v=0.0497, grad=0.0000), Var(v=-0.0441, grad=0.0000), Var(v=0.0238, grad=0.0000), Var(v=0.0905, grad=0.0000), Var(v=0.0167, grad=0.0000), Var(v=-0.1544, grad=0.0000), Var(v=0.0028, grad=0.0000), Var(v=-0.0946, grad=0.0000)], [Var(v=-0.0753, grad=0.0000), Var(v=-0.1132, grad=0.0000), Var(v=0.0495, grad=0.0000), Var(v=0.0875, grad=0.0000), Var(v=-0.0670, grad=0.0000), Var(v=0.0840, grad=0.0000), Var(v=-0.0314, grad=0.0000), Var(v=-0.0944, grad=0.0000), Var(v=-0.1870, grad=0.0000), Var(v=0.0411, grad=0.0000), Var(v=-0.0795, grad=0.0000), Var(v=0.1164, grad=0.0000), Var(v=0.0526, grad=0.0000), Var(v=-0.0680, grad=0.0000), Var(v=-0.0784, grad=0.0000), Var(v=-0.0779, grad=0.0000), Var(v=0.1171, grad=0.0000), Var(v=-0.1213, grad=0.0000), Var(v=0.0811, grad=0.0000), Var(v=-0.1726, grad=0.0000), Var(v=-0.1346, grad=0.0000), Var(v=-0.0194, grad=0.0000), Var(v=0.0619, grad=0.0000), Var(v=0.1117, grad=0.0000), Var(v=-0.0483, grad=0.0000), Var(v=-0.0416, grad=0.0000), Var(v=-0.0690, grad=0.0000), Var(v=0.0169, grad=0.0000), Var(v=-0.0663, grad=0.0000), Var(v=0.1403, grad=0.0000), Var(v=-0.1084, grad=0.0000), Var(v=0.0308, grad=0.0000), Var(v=0.0450, grad=0.0000), Var(v=0.0593, grad=0.0000), Var(v=0.1364, grad=0.0000), Var(v=-0.1611, grad=0.0000), Var(v=-0.0232, grad=0.0000), Var(v=0.0045, grad=0.0000), Var(v=0.0505, grad=0.0000), Var(v=-0.0200, grad=0.0000), Var(v=-0.0070, grad=0.0000), Var(v=-0.1070, grad=0.0000), Var(v=0.0643, grad=0.0000), Var(v=-0.0279, grad=0.0000), Var(v=0.0343, grad=0.0000), Var(v=0.0972, grad=0.0000), Var(v=0.0833, grad=0.0000), Var(v=0.0465, grad=0.0000), Var(v=-0.0727, grad=0.0000), Var(v=-0.1025, grad=0.0000)]] Biases: [Var(v=0.0488, grad=0.0000), Var(v=-0.0900, grad=0.0000), Var(v=-0.0581, grad=0.0000), Var(v=-0.0061, grad=0.0000), Var(v=-0.0363, grad=0.0000), Var(v=0.0000, grad=0.0000), Var(v=-0.0370, grad=0.0000), Var(v=-0.0024, grad=0.0000), Var(v=0.0000, grad=0.0000), Var(v=-0.0446, grad=0.0000), Var(v=0.0002, grad=0.0000), Var(v=0.0000, grad=0.0000), Var(v=0.1110, grad=0.0000), Var(v=0.0000, grad=0.0000), Var(v=0.0000, grad=0.0000), Var(v=0.0817, grad=0.0000), Var(v=0.0162, grad=0.0000), Var(v=0.0019, grad=0.0000), Var(v=-0.0214, grad=0.0000), Var(v=0.2356, grad=0.0000), Var(v=0.0378, grad=0.0000), Var(v=0.0032, grad=0.0000), Var(v=0.0000, grad=0.0000), Var(v=0.0556, grad=0.0000), Var(v=0.0000, grad=0.0000), Var(v=-0.1176, grad=0.0000), Var(v=0.0000, grad=0.0000), Var(v=-0.0428, grad=0.0000), Var(v=-0.0691, grad=0.0000), Var(v=-0.0048, grad=0.0000), Var(v=-0.1273, grad=0.0000), Var(v=-0.0070, grad=0.0000), Var(v=0.1384, grad=0.0000), Var(v=0.0011, grad=0.0000), Var(v=-0.0006, grad=0.0000), Var(v=0.0238, grad=0.0000), Var(v=-0.0032, grad=0.0000), Var(v=0.0000, grad=0.0000), Var(v=-0.1182, grad=0.0000), Var(v=0.0000, grad=0.0000), Var(v=-0.0131, grad=0.0000), Var(v=0.0000, grad=0.0000), Var(v=-0.0256, grad=0.0000), Var(v=-0.0273, grad=0.0000), Var(v=-0.0629, grad=0.0000), Var(v=0.0000, grad=0.0000), Var(v=0.1209, grad=0.0000), Var(v=0.0066, grad=0.0000), Var(v=0.0808, grad=0.0000), Var(v=-0.0024, grad=0.0000)]\n",
            "Layer 2 \n",
            " Weights: [[Var(v=-0.0839, grad=0.0000)], [Var(v=-0.1018, grad=0.0000)], [Var(v=0.0470, grad=0.0000)], [Var(v=-0.2679, grad=0.0000)], [Var(v=-0.0171, grad=0.0000)], [Var(v=-0.1486, grad=0.0000)], [Var(v=0.0107, grad=0.0000)], [Var(v=-0.1330, grad=0.0000)], [Var(v=-0.0833, grad=0.0000)], [Var(v=0.0331, grad=0.0000)], [Var(v=0.0271, grad=0.0000)], [Var(v=0.0255, grad=0.0000)], [Var(v=0.1540, grad=0.0000)], [Var(v=-0.2298, grad=0.0000)], [Var(v=-0.1519, grad=0.0000)], [Var(v=0.1093, grad=0.0000)], [Var(v=0.0282, grad=0.0000)], [Var(v=0.0809, grad=0.0000)], [Var(v=-0.0111, grad=0.0000)], [Var(v=0.2852, grad=0.0000)], [Var(v=0.0496, grad=0.0000)], [Var(v=0.1493, grad=0.0000)], [Var(v=-0.0069, grad=0.0000)], [Var(v=0.0650, grad=0.0000)], [Var(v=-0.0502, grad=0.0000)], [Var(v=-0.1017, grad=0.0000)], [Var(v=0.0748, grad=0.0000)], [Var(v=-0.0394, grad=0.0000)], [Var(v=-0.0668, grad=0.0000)], [Var(v=-0.2182, grad=0.0000)], [Var(v=0.1453, grad=0.0000)], [Var(v=0.0011, grad=0.0000)], [Var(v=0.1734, grad=0.0000)], [Var(v=0.0568, grad=0.0000)], [Var(v=0.0181, grad=0.0000)], [Var(v=-0.0348, grad=0.0000)], [Var(v=-0.1454, grad=0.0000)], [Var(v=-0.0316, grad=0.0000)], [Var(v=-0.1235, grad=0.0000)], [Var(v=-0.0368, grad=0.0000)], [Var(v=0.0010, grad=0.0000)], [Var(v=0.1221, grad=0.0000)], [Var(v=0.0096, grad=0.0000)], [Var(v=-0.0124, grad=0.0000)], [Var(v=-0.0331, grad=0.0000)], [Var(v=0.1181, grad=0.0000)], [Var(v=-0.1624, grad=0.0000)], [Var(v=-0.0080, grad=0.0000)], [Var(v=-0.1281, grad=0.0000)], [Var(v=-0.1041, grad=0.0000)]] Biases: [Var(v=0.0232, grad=0.0000)]\n"
          ]
        },
        {
          "output_type": "execute_result",
          "data": {
            "text/plain": [
              "[None, None, None]"
            ]
          },
          "metadata": {},
          "execution_count": 260
        }
      ],
      "source": [
        "print('Network before update:')\n",
        "[print('Layer', i, '\\n', NN[i]) for i in range(len(NN))] \n",
        "\n",
        "def parameters(network):\n",
        "  params = []\n",
        "  for layer in range(len(network)):\n",
        "    params += network[layer].parameters()\n",
        "  return params\n",
        "\n",
        "def update_parameters(params, learning_rate=0.01):\n",
        "  for p in params:\n",
        "    p.v -= learning_rate*p.grad\n",
        "\n",
        "def zero_gradients(params):\n",
        "  for p in params:\n",
        "    p.grad = 0.0\n",
        "\n",
        "update_parameters(parameters(NN))\n",
        "\n",
        "print('\\nNetwork after update:')\n",
        "[print('Layer', i, '\\n', NN[i]) for i in range(len(NN))] \n",
        "\n",
        "zero_gradients(parameters(NN))\n",
        "\n",
        "print('\\nNetwork after zeroing gradients:')\n",
        "[print('Layer', i, '\\n', NN[i]) for i in range(len(NN))] "
      ]
    },
    {
      "cell_type": "code",
      "execution_count": 261,
      "metadata": {
        "id": "woWYpdw6FtIO"
      },
      "outputs": [],
      "source": [
        "# Initialize an arbitrary neural network\n",
        "NN = [\n",
        "    DenseLayer(1, 8, lambda x: x.relu()),\n",
        "    DenseLayer(8, 1, lambda x: x.identity())\n",
        "]\n",
        "\n",
        "# Recommended hyper-parameters for 3-D: \n",
        "#NN = [\n",
        "#    DenseLayer(3, 16, lambda x: x.relu()),\n",
        "#    DenseLayer(16, 1, lambda x: x.identity())\n",
        "#]\n",
        "\n",
        "\n",
        "### Notice that, when we switch from tanh to relu activation, we decrease the learning rate. This is due the stability of the gradients \n",
        "## of the activation functions."
      ]
    },
    {
      "cell_type": "code",
      "execution_count": 262,
      "metadata": {
        "id": "mdqaqYBVFtIR"
      },
      "outputs": [],
      "source": [
        "# Initialize training hyperparameters\n",
        "EPOCHS = 200\n",
        "LEARN_R = 2e-3"
      ]
    },
    {
      "cell_type": "code",
      "execution_count": 263,
      "metadata": {
        "id": "5kfg76GMFtIW",
        "scrolled": true,
        "colab": {
          "base_uri": "https://localhost:8080/"
        },
        "outputId": "bf531f0b-3bfe-4c5d-b15a-552bd379ec1d"
      },
      "outputs": [
        {
          "output_type": "stream",
          "name": "stdout",
          "text": [
            "   0 ( 0.00%) Train loss: 105.435 \t Validation loss: 102.896\n",
            "  10 ( 5.00%) Train loss: 24.531 \t Validation loss: 17.409\n",
            "  20 (10.00%) Train loss: 14.909 \t Validation loss: 11.024\n",
            "  30 (15.00%) Train loss: 14.476 \t Validation loss: 10.732\n",
            "  40 (20.00%) Train loss: 14.166 \t Validation loss: 10.582\n",
            "  50 (25.00%) Train loss: 13.806 \t Validation loss: 10.409\n",
            "  60 (30.00%) Train loss: 13.332 \t Validation loss: 10.138\n",
            "  70 (35.00%) Train loss: 12.815 \t Validation loss: 9.818\n",
            "  80 (40.00%) Train loss: 12.448 \t Validation loss: 9.599\n",
            "  90 (45.00%) Train loss: 12.215 \t Validation loss: 9.493\n",
            " 100 (50.00%) Train loss: 12.085 \t Validation loss: 9.398\n",
            " 110 (55.00%) Train loss: 12.002 \t Validation loss: 9.293\n",
            " 120 (60.00%) Train loss: 11.942 \t Validation loss: 9.193\n",
            " 130 (65.00%) Train loss: 11.917 \t Validation loss: 9.145\n",
            " 140 (70.00%) Train loss: 11.905 \t Validation loss: 9.114\n",
            " 150 (75.00%) Train loss: 11.899 \t Validation loss: 9.086\n",
            " 160 (80.00%) Train loss: 11.895 \t Validation loss: 9.066\n",
            " 170 (85.00%) Train loss: 11.893 \t Validation loss: 9.052\n",
            " 180 (90.00%) Train loss: 11.893 \t Validation loss: 9.048\n",
            " 190 (95.00%) Train loss: 11.893 \t Validation loss: 9.044\n"
          ]
        }
      ],
      "source": [
        "train_loss = []\n",
        "val_loss = []\n",
        "\n",
        "for e in range(EPOCHS):\n",
        "     \n",
        "    # Forward pass and loss computation\n",
        "    Loss = squared_loss(y_train, forward(x_train, NN))\n",
        "\n",
        "    # Backward pass\n",
        "    Loss.backward()\n",
        "    \n",
        "    # gradient descent update\n",
        "    update_parameters(parameters(NN), LEARN_R)\n",
        "    zero_gradients(parameters(NN))\n",
        "    \n",
        "    # Training loss\n",
        "    train_loss.append(Loss.v)\n",
        "    \n",
        "    # Validation\n",
        "    Loss_validation = squared_loss(y_validation, forward(x_validation, NN))\n",
        "    val_loss.append(Loss_validation.v)\n",
        "    \n",
        "    if e%10==0:\n",
        "        print(\"{:4d}\".format(e),\n",
        "              \"({:5.2f}%)\".format(e/EPOCHS*100), \n",
        "              \"Train loss: {:4.3f} \\t Validation loss: {:4.3f}\".format(train_loss[-1], val_loss[-1]))\n",
        "        \n"
      ]
    },
    {
      "cell_type": "code",
      "execution_count": 264,
      "metadata": {
        "id": "VetyRWFwFtIY",
        "colab": {
          "base_uri": "https://localhost:8080/",
          "height": 265
        },
        "outputId": "e6b3fd6a-37b8-410d-d315-584c182a7314"
      },
      "outputs": [
        {
          "output_type": "display_data",
          "data": {
            "text/plain": [
              "<Figure size 432x288 with 1 Axes>"
            ],
            "image/png": "[encoded data removed]"
          },
          "metadata": {
            "needs_background": "light"
          }
        }
      ],
      "source": [
        "plt.plot(range(len(train_loss)), train_loss);\n",
        "plt.plot(range(len(val_loss)), val_loss);"
      ]
    },
    {
      "cell_type": "markdown",
      "metadata": {
        "id": "8OgmIrM9FtIb"
      },
      "source": [
        "# Testing\n",
        "\n",
        "We have kept the calculation of the test error separate in order to emphasize that you should not use the test set in optimization."
      ]
    },
    {
      "cell_type": "code",
      "execution_count": 265,
      "metadata": {
        "id": "HmNi7S-vFtIc"
      },
      "outputs": [],
      "source": [
        "output_test = forward(x_test, NN)"
      ]
    },
    {
      "cell_type": "code",
      "execution_count": 266,
      "metadata": {
        "id": "7mmJOTSEFtIf",
        "colab": {
          "base_uri": "https://localhost:8080/",
          "height": 314
        },
        "outputId": "3929eb9a-998e-440a-b517-b83bd27686da"
      },
      "outputs": [
        {
          "output_type": "stream",
          "name": "stdout",
          "text": [
            "Test loss:  9.857\n"
          ]
        },
        {
          "output_type": "display_data",
          "data": {
            "text/plain": [
              "<Figure size 432x288 with 1 Axes>"
            ],
            "image/png": "[encoded data removed]"
          },
          "metadata": {
            "needs_background": "light"
          }
        }
      ],
      "source": [
        "y_test_np = Var_to_nparray(y_test)\n",
        "plt.scatter(y_test_np, Var_to_nparray(output_test));\n",
        "plt.plot([np.min(y_test_np), np.max(y_test_np)], [np.min(y_test_np), np.max(y_test_np)], color='k');\n",
        "plt.xlabel(\"y\");\n",
        "plt.ylabel(\"$\\hat{y}$\");\n",
        "plt.title(\"Model prediction vs real in the test set, the close to the line the better\")\n",
        "plt.grid(True);\n",
        "plt.axis('equal');\n",
        "plt.tight_layout();\n",
        "\n",
        "Loss_test = squared_loss(y_test, forward(x_test, NN))\n",
        "\n",
        "print(\"Test loss:  {:4.3f}\".format(Loss_test.v))"
      ]
    },
    {
      "cell_type": "code",
      "execution_count": 267,
      "metadata": {
        "id": "ODi0WlmQFtIh",
        "colab": {
          "base_uri": "https://localhost:8080/",
          "height": 279
        },
        "outputId": "98eef8c4-7c92-40f8-e46d-750246e2e905"
      },
      "outputs": [
        {
          "output_type": "display_data",
          "data": {
            "text/plain": [
              "<Figure size 432x288 with 1 Axes>"
            ],
            "image/png": "[encoded data removed]"
          },
          "metadata": {
            "needs_background": "light"
          }
        }
      ],
      "source": [
        "x_test_np = Var_to_nparray(x_test)\n",
        "x_train_np = Var_to_nparray(x_train)\n",
        "y_train_np = Var_to_nparray(y_train)\n",
        "if D1:\n",
        "    plt.scatter(x_train_np, y_train_np, label=\"train data\");\n",
        "    plt.scatter(x_test_np, Var_to_nparray(output_test), label=\"test prediction\");\n",
        "    plt.scatter(x_test_np, y_test_np, label=\"test data\");\n",
        "    plt.legend();\n",
        "    plt.xlabel(\"x\");\n",
        "    plt.ylabel(\"y\");\n",
        "else:\n",
        "    plt.scatter(x_train_np[:,1], y_train, label=\"train data\");\n",
        "    plt.scatter(x_test_np[:,1], Var_to_nparray(output_test), label=\"test data prediction\");\n",
        "    plt.scatter(x_test_np[:,1], y_test_np, label=\"test data\");\n",
        "    plt.legend();\n",
        "    plt.xlabel(\"x\");\n",
        "    plt.ylabel(\"y\");"
      ]
    },
    {
      "cell_type": "markdown",
      "metadata": {
        "id": "zTBAmjsAFtIk"
      },
      "source": [
        "\n",
        "## Exercise k) Show overfitting, underfitting and just right fitting\n",
        "\n",
        "Vary the architecture and other things to show clear signs of overfitting (=training loss significantly lower than test loss) and underfitting (=not fitting enoung to training data so that test performance is also hurt).\n",
        "\n",
        "See also if you can get a good compromise which leads to a low validation loss. \n",
        "\n",
        "For this problem do you see any big difference between validation and test loss? The answer here will probably be no. Discuss cases where it is important to keep the two separate.\n",
        "\n",
        "_Insert written answer here._\n"
      ]
    },
    {
      "cell_type": "code",
      "execution_count": 268,
      "metadata": {
        "id": "tQZCn2dxFtIl",
        "colab": {
          "base_uri": "https://localhost:8080/",
          "height": 630
        },
        "outputId": "bb7eb129-982a-46aa-9218-c94159e55ff5"
      },
      "outputs": [
        {
          "output_type": "stream",
          "name": "stdout",
          "text": [
            "   0 ( 0.00%) Train loss: 10.229 \t Validation loss: 109.210\n",
            "  10 ( 5.00%) Train loss: 9.836 \t Validation loss: 104.723\n",
            "  20 (10.00%) Train loss: 9.546 \t Validation loss: 101.278\n",
            "  30 (15.00%) Train loss: 9.244 \t Validation loss: 97.698\n",
            "  40 (20.00%) Train loss: 8.868 \t Validation loss: 93.318\n",
            "  50 (25.00%) Train loss: 8.363 \t Validation loss: 87.549\n",
            "  60 (30.00%) Train loss: 7.681 \t Validation loss: 79.951\n",
            "  70 (35.00%) Train loss: 6.799 \t Validation loss: 70.365\n",
            "  80 (40.00%) Train loss: 5.734 \t Validation loss: 59.092\n",
            "  90 (45.00%) Train loss: 4.575 \t Validation loss: 47.131\n",
            " 100 (50.00%) Train loss: 3.465 \t Validation loss: 35.941\n",
            " 110 (55.00%) Train loss: 2.554 \t Validation loss: 26.891\n",
            " 120 (60.00%) Train loss: 1.915 \t Validation loss: 20.597\n",
            " 130 (65.00%) Train loss: 1.528 \t Validation loss: 16.767\n",
            " 140 (70.00%) Train loss: 1.319 \t Validation loss: 14.667\n",
            " 150 (75.00%) Train loss: 1.209 \t Validation loss: 13.605\n",
            " 160 (80.00%) Train loss: 1.149 \t Validation loss: 13.116\n",
            " 170 (85.00%) Train loss: 1.112 \t Validation loss: 12.926\n",
            " 180 (90.00%) Train loss: 1.086 \t Validation loss: 12.895\n",
            " 190 (95.00%) Train loss: 1.065 \t Validation loss: 12.944\n",
            "Another option would be infinitly high EPOCHS, but that takes time\n"
          ]
        },
        {
          "output_type": "display_data",
          "data": {
            "text/plain": [
              "<Figure size 432x288 with 1 Axes>"
            ],
            "image/png": "[encoded data removed]"
          },
          "metadata": {
            "needs_background": "light"
          }
        }
      ],
      "source": [
        "# Insert your code for getting overfitting, underfitting and just right \n",
        "\n",
        "#Overfitting: \n",
        "\n",
        "x_train_done = x_train[:10]\n",
        "y_train_done = y_train[:10]\n",
        "NN = [\n",
        "    DenseLayer(1, 8, lambda x: x.relu()),\n",
        "    DenseLayer(8, 1, lambda x: x.identity())\n",
        "]\n",
        "\n",
        "train_loss = []\n",
        "val_loss = []\n",
        "\n",
        "for e in range(EPOCHS):\n",
        "     \n",
        "    # Forward pass and loss computation\n",
        "    Loss = squared_loss(y_train_done, forward(x_train_done, NN))\n",
        "\n",
        "    # Backward pass\n",
        "    Loss.backward()\n",
        "    \n",
        "    # gradient descent update\n",
        "    update_parameters(parameters(NN), LEARN_R)\n",
        "    zero_gradients(parameters(NN))\n",
        "    \n",
        "    # Training loss\n",
        "    train_loss.append(Loss.v)\n",
        "    \n",
        "    # Validation\n",
        "    Loss_validation = squared_loss(y_validation, forward(x_validation, NN))\n",
        "    val_loss.append(Loss_validation.v)\n",
        "    \n",
        "    if e%10==0:\n",
        "        print(\"{:4d}\".format(e),\n",
        "              \"({:5.2f}%)\".format(e/EPOCHS*100), \n",
        "              \"Train loss: {:4.3f} \\t Validation loss: {:4.3f}\".format(train_loss[-1], val_loss[-1]))\n",
        "print(\"Another option would be infinitly high EPOCHS, but that takes time\")\n",
        "\n",
        "plt.plot(range(len(train_loss)), train_loss);\n",
        "plt.plot(range(len(val_loss)), val_loss);\n"
      ]
    },
    {
      "cell_type": "code",
      "source": [
        "#Underfitting: \n",
        "print(\"Underfitting\")\n",
        "NN = [\n",
        "    DenseLayer(1, 8, lambda x: x.relu()),\n",
        "    DenseLayer(8, 1, lambda x: x.identity())\n",
        "]\n",
        "\n",
        "train_loss = []\n",
        "val_loss = []\n",
        "EPOCHS = 30\n",
        "LEARN_R = 2e-4\n",
        "for e in range(EPOCHS):\n",
        "     \n",
        "    # Forward pass and loss computation\n",
        "    Loss = squared_loss(y_train, forward(x_train, NN))\n",
        "\n",
        "    # Backward pass\n",
        "    Loss.backward()\n",
        "    \n",
        "    # gradient descent update\n",
        "    update_parameters(parameters(NN), LEARN_R)\n",
        "    zero_gradients(parameters(NN))\n",
        "    \n",
        "    # Training loss\n",
        "    train_loss.append(Loss.v)\n",
        "    \n",
        "    # Validation\n",
        "    Loss_validation = squared_loss(y_validation, forward(x_validation, NN))\n",
        "    val_loss.append(Loss_validation.v)\n",
        "    \n",
        "    if e%10==0:\n",
        "        print(\"{:4d}\".format(e),\n",
        "              \"({:5.2f}%)\".format(e/EPOCHS*100), \n",
        "              \"Train loss: {:4.3f} \\t Validation loss: {:4.3f}\".format(train_loss[-1], val_loss[-1]))\n",
        "\n",
        "\n"
      ],
      "metadata": {
        "id": "qxxcqnPG6piy",
        "outputId": "f6c7f2ab-79a0-47da-87f9-245bb473abd6",
        "colab": {
          "base_uri": "https://localhost:8080/"
        }
      },
      "execution_count": 281,
      "outputs": [
        {
          "output_type": "stream",
          "name": "stdout",
          "text": [
            "Underfitting\n",
            "   0 ( 0.00%) Train loss: 109.936 \t Validation loss: 154.266\n",
            "  10 (33.33%) Train loss: 106.407 \t Validation loss: 150.251\n",
            "  20 (66.67%) Train loss: 104.749 \t Validation loss: 148.131\n"
          ]
        }
      ]
    },
    {
      "cell_type": "code",
      "source": [
        "#Underfitting: \n",
        "print(\"Good fitting\")\n",
        "NN = [\n",
        "    DenseLayer(1, 8, lambda x: x.relu()),\n",
        "    DenseLayer(8, 1, lambda x: x.identity())\n",
        "]\n",
        "\n",
        "train_loss = []\n",
        "val_loss = []\n",
        "EPOCHS = 200\n",
        "LEARN_R = 2e-3\n",
        "for e in range(EPOCHS):\n",
        "     \n",
        "    # Forward pass and loss computation\n",
        "    Loss = squared_loss(y_train, forward(x_train, NN))\n",
        "\n",
        "    # Backward pass\n",
        "    Loss.backward()\n",
        "    \n",
        "    # gradient descent update\n",
        "    update_parameters(parameters(NN), LEARN_R)\n",
        "    zero_gradients(parameters(NN))\n",
        "    \n",
        "    # Training loss\n",
        "    train_loss.append(Loss.v)\n",
        "    \n",
        "    # Validation\n",
        "    Loss_validation = squared_loss(y_validation, forward(x_validation, NN))\n",
        "    val_loss.append(Loss_validation.v)\n",
        "    \n",
        "    if e%10==0:\n",
        "        print(\"{:4d}\".format(e),\n",
        "              \"({:5.2f}%)\".format(e/EPOCHS*100), \n",
        "              \"Train loss: {:4.3f} \\t Validation loss: {:4.3f}\".format(train_loss[-1], val_loss[-1]))\n",
        "\n",
        "\n"
      ],
      "metadata": {
        "id": "BqXs1q5x8s7a",
        "outputId": "b7ccd84a-9728-4ca8-beb7-9396081fc7d3",
        "colab": {
          "base_uri": "https://localhost:8080/"
        }
      },
      "execution_count": 282,
      "outputs": [
        {
          "output_type": "stream",
          "name": "stdout",
          "text": [
            "Good fitting\n",
            "   0 ( 0.00%) Train loss: 104.759 \t Validation loss: 141.945\n",
            "  10 ( 5.00%) Train loss: 30.250 \t Validation loss: 32.140\n",
            "  20 (10.00%) Train loss: 13.677 \t Validation loss: 16.324\n",
            "  30 (15.00%) Train loss: 12.816 \t Validation loss: 15.340\n",
            "  40 (20.00%) Train loss: 12.427 \t Validation loss: 14.980\n",
            "  50 (25.00%) Train loss: 12.168 \t Validation loss: 14.694\n",
            "  60 (30.00%) Train loss: 11.996 \t Validation loss: 14.457\n",
            "  70 (35.00%) Train loss: 11.780 \t Validation loss: 14.161\n",
            "  80 (40.00%) Train loss: 11.597 \t Validation loss: 13.895\n",
            "  90 (45.00%) Train loss: 11.456 \t Validation loss: 13.677\n",
            " 100 (50.00%) Train loss: 11.328 \t Validation loss: 13.497\n",
            " 110 (55.00%) Train loss: 11.215 \t Validation loss: 13.337\n",
            " 120 (60.00%) Train loss: 11.154 \t Validation loss: 13.229\n",
            " 130 (65.00%) Train loss: 11.114 \t Validation loss: 13.154\n",
            " 140 (70.00%) Train loss: 11.095 \t Validation loss: 13.111\n",
            " 150 (75.00%) Train loss: 11.085 \t Validation loss: 13.087\n",
            " 160 (80.00%) Train loss: 11.078 \t Validation loss: 13.065\n",
            " 170 (85.00%) Train loss: 11.074 \t Validation loss: 13.047\n",
            " 180 (90.00%) Train loss: 11.071 \t Validation loss: 13.032\n",
            " 190 (95.00%) Train loss: 11.065 \t Validation loss: 13.009\n"
          ]
        }
      ]
    },
    {
      "cell_type": "markdown",
      "metadata": {
        "id": "fYPZP-eTFtIo"
      },
      "source": [
        "# Next steps - classification\n",
        "\n",
        "It is straight forward to extend what we have done to classification. \n",
        "\n",
        "For numerical stability it is better to make softmax and cross-entropy as one function so we write the cross entropy loss as a function of the logits we talked about last week. \n",
        "\n",
        "Next week we will see how to perform classification in PyTorch."
      ]
    },
    {
      "cell_type": "markdown",
      "metadata": {
        "id": "qsVPul3QFtIo"
      },
      "source": [
        "## Exercise l) optional - Implement backpropagation for classification\n",
        "\n",
        "Should be possible with very few lines of code. :-)"
      ]
    },
    {
      "cell_type": "code",
      "execution_count": 270,
      "metadata": {
        "id": "oC8QrI2tFtIp"
      },
      "outputs": [],
      "source": [
        "# Just add code."
      ]
    },
    {
      "cell_type": "markdown",
      "metadata": {
        "id": "APqhJv3tta1O"
      },
      "source": [
        "## Exercise m) optional - Introduce a NeuralNetwork class\n",
        "\n",
        "The functions we applied on the neural network (parameters, update_parameters and zero_gradients) can more naturally be included as methods in a NeuralNetwork class. Make such a class and modify the code to use it. "
      ]
    },
    {
      "cell_type": "code",
      "execution_count": 271,
      "metadata": {
        "id": "Dqfnor1ouMLq"
      },
      "outputs": [],
      "source": [
        "# just add some code"
      ]
    }
  ],
  "metadata": {
    "anaconda-cloud": {},
    "colab": {
      "collapsed_sections": [
        "U4057_ljNvWB",
        "p_8n_SKnIW2F",
        "oLrGJytZFtGm",
        "jpIZPBpNI0pO",
        "_79HOAXrFtHK",
        "mqeyab9qFtGs",
        "-XyXBD37FtHk",
        "SrwSJ2UWFtHu",
        "zTBAmjsAFtIk",
        "qsVPul3QFtIo",
        "APqhJv3tta1O"
      ],
      "name": "2.1-EXE-FNN-AutoDif-Nanograd.ipynb",
      "provenance": []
    },
    "kernelspec": {
      "display_name": "Python 3 (ipykernel)",
      "language": "python",
      "name": "python3"
    },
    "language_info": {
      "codemirror_mode": {
        "name": "ipython",
        "version": 3
      },
      "file_extension": ".py",
      "mimetype": "text/x-python",
      "name": "python",
      "nbconvert_exporter": "python",
      "pygments_lexer": "ipython3",
      "version": "3.8.12"
    }
  },
  "nbformat": 4,
  "nbformat_minor": 0
}