{
  "cells": [
    {
      "cell_type": "markdown",
      "metadata": {
        "id": "q_pS0_j6G_Ie"
      },
      "source": [
        "# Credits\n",
        "\n",
        "This is heavily influenced or copied from https://github.com/pytorch/tutorials"
      ]
    },
    {
      "cell_type": "markdown",
      "metadata": {
        "id": "cYJlIHvQG_Il"
      },
      "source": [
        "# Autograd: automatic differentiation\n",
        "\n",
        "Central to all neural networks in PyTorch is the ``autograd`` package.\n",
        "Let’s first briefly visit this, and we will then go to training our first neural network.\n",
        "\n",
        "The `autograd` package provides automatic differentiation for all operations on Tensors.\n",
        "It is a define-by-run framework, which means that your backprop is defined by how your code is run, and that every single iteration can be different.\n",
        "\n",
        "Let us see this in more simple terms with some examples."
      ]
    },
    {
      "cell_type": "markdown",
      "metadata": {
        "id": "iZ15VGKzG_In"
      },
      "source": [
        "## 1. Tensor\n",
        "\n",
        "`torch.Tensor` is the central class of the package. Setting the attribute `.requires_grad` to `True` will make the tensor \"record\" all operations on it. When you finish your computation you can call `.backward()` and have all the gradients computed automatically. The gradient for this tensor will be accumulated into the `.grad` attribute.\n",
        "\n",
        "![autograd.Variable](https://github.com/markusOlsen1/Deep_Learning/blob/master/static_files/autograd-variable.png?raw=1)\n",
        "\n",
        "There’s one more class which is very important for autograd implementation - a `Function`.\n",
        "\n",
        "`Tensor` and `Function` are interconnected and build up an acyclic graph, that encodes a complete history of computation. Each tensor has a `.grad_fn` attribute that references a `Function` that has created the `Tensor` (except for Tensors created by the user - their `grad_fn` is `None`).\n",
        "\n",
        "If you want to compute the derivatives, you can call `.backward()` on a Tensor. If `Tensor` is a scalar (i.e. it holds a one element data), you don’t need to specify any arguments to backward(), however if it has more elements, you need to specify a `gradient` argument that is a tensor of matching shape."
      ]
    },
    {
      "cell_type": "markdown",
      "metadata": {
        "id": "stX4LBKuG_Iq"
      },
      "source": [
        "Create a tensor"
      ]
    },
    {
      "cell_type": "code",
      "execution_count": 1,
      "metadata": {
        "id": "pP00NmOdG_Io"
      },
      "outputs": [],
      "source": [
        "import torch"
      ]
    },
    {
      "cell_type": "code",
      "execution_count": 2,
      "metadata": {
        "id": "3SOLXxocG_Ir",
        "outputId": "7943a20e-c5d3-40b1-8af4-183ef28a9681",
        "colab": {
          "base_uri": "https://localhost:8080/"
        }
      },
      "outputs": [
        {
          "output_type": "stream",
          "name": "stdout",
          "text": [
            "tensor([[1., 1.],\n",
            "        [1., 1.]], requires_grad=True)\n"
          ]
        }
      ],
      "source": [
        "x = torch.ones(2, 2, requires_grad=True)\n",
        "print(x)"
      ]
    },
    {
      "cell_type": "markdown",
      "metadata": {
        "id": "WWRZyudxG_Is"
      },
      "source": [
        "Do a tensor operation:"
      ]
    },
    {
      "cell_type": "code",
      "execution_count": 16,
      "metadata": {
        "id": "3x9lAirTG_It",
        "outputId": "da396e7f-8393-40bf-f5aa-9a8936c58b29",
        "colab": {
          "base_uri": "https://localhost:8080/"
        }
      },
      "outputs": [
        {
          "output_type": "stream",
          "name": "stdout",
          "text": [
            "tensor([[2.6082, 2.4849, 2.3613, 2.8094, 2.7117],\n",
            "        [2.3832, 2.9790, 2.9960, 2.1530, 2.7491],\n",
            "        [2.4528, 2.3053, 2.3982, 2.7875, 2.1708],\n",
            "        [2.7501, 2.6755, 2.1672, 2.8830, 2.0474],\n",
            "        [2.5067, 2.0273, 2.6823, 2.4852, 2.8941]], grad_fn=<AddBackward0>)\n"
          ]
        }
      ],
      "source": [
        "y = x + 2\n",
        "print(y)"
      ]
    },
    {
      "cell_type": "markdown",
      "metadata": {
        "id": "A35_yws0G_Iu"
      },
      "source": [
        "`y` was created as a result of an operation, so it has a `grad_fn`."
      ]
    },
    {
      "cell_type": "code",
      "execution_count": 17,
      "metadata": {
        "id": "kSPcguQtG_Iv",
        "outputId": "3958c836-f53b-44fa-b7a2-5c1dabae6ad3",
        "colab": {
          "base_uri": "https://localhost:8080/"
        }
      },
      "outputs": [
        {
          "output_type": "stream",
          "name": "stdout",
          "text": [
            "<AddBackward0 object at 0x7f75c07fe350>\n"
          ]
        }
      ],
      "source": [
        "print(y.grad_fn)"
      ]
    },
    {
      "cell_type": "markdown",
      "metadata": {
        "id": "hA1cdKApG_Iv"
      },
      "source": [
        "Do more operations on y"
      ]
    },
    {
      "cell_type": "code",
      "execution_count": 18,
      "metadata": {
        "id": "0MduQNKuG_Iw",
        "outputId": "f5df7418-0e42-4fe1-bd75-ec40456c9582",
        "colab": {
          "base_uri": "https://localhost:8080/"
        }
      },
      "outputs": [
        {
          "output_type": "stream",
          "name": "stdout",
          "text": [
            "tensor([[20.4074, 18.5237, 16.7273, 23.6790, 22.0607],\n",
            "        [17.0395, 26.6237, 26.9278, 13.9066, 22.6720],\n",
            "        [18.0487, 15.9429, 17.2544, 23.3105, 14.1377],\n",
            "        [22.6899, 21.4745, 14.0908, 24.9342, 12.5752],\n",
            "        [18.8501, 12.3297, 21.5834, 18.5293, 25.1269]], grad_fn=<MulBackward0>)\n",
            "tensor(19.5778, grad_fn=<MeanBackward0>)\n"
          ]
        }
      ],
      "source": [
        "z = y * y * 3\n",
        "out = z.mean()\n",
        "\n",
        "print(z)\n",
        "print(out)"
      ]
    },
    {
      "cell_type": "markdown",
      "metadata": {
        "id": "xJgnXzLHG_Ix"
      },
      "source": [
        "# Assignments\n",
        "\n",
        "1. Create a Tensor that `requires_grad` of size (5, 5)\n",
        "2. Sum the values in the Tensor"
      ]
    },
    {
      "cell_type": "code",
      "source": [
        "x_ten = torch.rand(5,5, requires_grad = True)\n",
        "x_ten.sum()"
      ],
      "metadata": {
        "id": "tzxaKyn3H-60",
        "outputId": "a8458a28-7a50-41e6-f2ac-bd02fecce41e",
        "colab": {
          "base_uri": "https://localhost:8080/"
        }
      },
      "execution_count": 19,
      "outputs": [
        {
          "output_type": "execute_result",
          "data": {
            "text/plain": [
              "tensor(10.4659, grad_fn=<SumBackward0>)"
            ]
          },
          "metadata": {},
          "execution_count": 19
        }
      ]
    },
    {
      "cell_type": "markdown",
      "metadata": {
        "id": "j0sI_tJVG_Ix"
      },
      "source": [
        "## 2. Gradients\n",
        "\n",
        "Let’s backprop now. Because `out` contains a single scalar, `out.backward()` is equivalent to `out.backward(torch.tensor([1.0]))`"
      ]
    },
    {
      "cell_type": "code",
      "execution_count": 20,
      "metadata": {
        "id": "xl4kGla8G_Iy"
      },
      "outputs": [],
      "source": [
        "out.backward()\n"
      ]
    },
    {
      "cell_type": "markdown",
      "metadata": {
        "id": "ZDmmzKjYG_Iz"
      },
      "source": [
        "Print gradients d(out)/dx"
      ]
    },
    {
      "cell_type": "code",
      "execution_count": 21,
      "metadata": {
        "id": "S6Cx60TXG_Iz",
        "outputId": "cee4a96c-3fb2-4d6e-ecb1-56bb14f4a629",
        "colab": {
          "base_uri": "https://localhost:8080/"
        }
      },
      "outputs": [
        {
          "output_type": "stream",
          "name": "stdout",
          "text": [
            "tensor([[0.6260, 0.5964, 0.5667, 0.6743, 0.6508],\n",
            "        [0.5720, 0.7150, 0.7190, 0.5167, 0.6598],\n",
            "        [0.5887, 0.5533, 0.5756, 0.6690, 0.5210],\n",
            "        [0.6600, 0.6421, 0.5201, 0.6919, 0.4914],\n",
            "        [0.6016, 0.4865, 0.6437, 0.5965, 0.6946]])\n"
          ]
        }
      ],
      "source": [
        "print(x.grad)"
      ]
    },
    {
      "cell_type": "markdown",
      "metadata": {
        "id": "M30qX6tTG_I0"
      },
      "source": [
        "You should have a matrix of `4.5`. Let’s denote the tensor `out` with $o$.\n",
        "\n",
        "We have:\n",
        "$o = \\frac{1}{4}\\sum_i z_i$, $z_i = 3(x_i+2)^2$ and $z_i\\bigr\\rvert_{x_i=1} = 27$.\n",
        "\n",
        "Therefore, $\\frac{\\partial o}{\\partial x_i} = \\frac{3}{2}(x_i+2)$,\n",
        "hence $\\frac{\\partial o}{\\partial x_i}\\bigr\\rvert_{x_i=1} = \\frac{9}{2} = 4.5$.\n",
        "\n",
        "You can do many crazy things with autograd!"
      ]
    },
    {
      "cell_type": "code",
      "execution_count": 8,
      "metadata": {
        "id": "0hbMjlzeG_I0",
        "outputId": "3b378e7c-9f3b-4e4c-9bb9-1c64bbfc492d",
        "colab": {
          "base_uri": "https://localhost:8080/"
        }
      },
      "outputs": [
        {
          "output_type": "stream",
          "name": "stdout",
          "text": [
            "tensor([-1206.2593,  -266.5599,  -986.0686], grad_fn=<MulBackward0>)\n"
          ]
        }
      ],
      "source": [
        "x = torch.randn(3, requires_grad=True)\n",
        "\n",
        "y = x * 2\n",
        "while y.data.norm() < 1000:\n",
        "    y = y * 2\n",
        "\n",
        "print(y)"
      ]
    },
    {
      "cell_type": "code",
      "execution_count": 9,
      "metadata": {
        "id": "onup9Y16G_I1",
        "outputId": "cfa84720-8860-4c67-8c73-e04de4758309",
        "colab": {
          "base_uri": "https://localhost:8080/"
        }
      },
      "outputs": [
        {
          "output_type": "stream",
          "name": "stdout",
          "text": [
            "tensor([1.0240e+02, 1.0240e+03, 1.0240e-01])\n"
          ]
        }
      ],
      "source": [
        "gradients = torch.FloatTensor([0.1, 1.0, 0.0001])\n",
        "y.backward(gradients)\n",
        "\n",
        "print(x.grad)"
      ]
    },
    {
      "cell_type": "markdown",
      "metadata": {
        "id": "OchjhF4cG_I2"
      },
      "source": [
        "**Read later** \\\n",
        "*Documentation* \\\n",
        "`Tensor`: https://pytorch.org/docs/stable/tensors.html \\\n",
        "`Function`: http://pytorch.org/docs/autograd"
      ]
    },
    {
      "cell_type": "markdown",
      "metadata": {
        "id": "hVYd8qlGG_I2"
      },
      "source": [
        "# Assignments\n",
        "\n",
        "1. Define a tensor and set `requires_grad` to `True`\n",
        "3. Multiply the tensor by 2 and assign the result to a new python variable (i.e. `x = result`)\n",
        "4. Sum the variable's elements and assign to a new python variable\n",
        "5. Print the gradients of all the variables\n",
        "6. Now perform a backward pass on the last variable (NOTE: for each new python variable that you define, call `.retain_grad()`)\n",
        "7. Print all gradients again\n",
        "  - what did you notice?"
      ]
    },
    {
      "cell_type": "code",
      "execution_count": null,
      "metadata": {
        "id": "bIiOQ7MNG_I3"
      },
      "outputs": [],
      "source": []
    }
  ],
  "metadata": {
    "kernelspec": {
      "display_name": "Python 3 (ipykernel)",
      "language": "python",
      "name": "python3"
    },
    "language_info": {
      "codemirror_mode": {
        "name": "ipython",
        "version": 3
      },
      "file_extension": ".py",
      "mimetype": "text/x-python",
      "name": "python",
      "nbconvert_exporter": "python",
      "pygments_lexer": "ipython3",
      "version": "3.8.12"
    },
    "colab": {
      "provenance": []
    }
  },
  "nbformat": 4,
  "nbformat_minor": 0
}